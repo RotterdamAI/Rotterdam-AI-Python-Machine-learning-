{
 "cells": [
  {
   "attachments": {},
   "cell_type": "markdown",
   "metadata": {},
   "source": [
    "# 1.1: Python Data Types, Variables, and Control Structures\n",
    "\n",
    "## Data Types\n",
    "\n",
    "In Python, data types determine the type and behavior of objects. Here are some commonly used data types:\n",
    "\n"
   ]
  },
  {
   "attachments": {},
   "cell_type": "markdown",
   "metadata": {},
   "source": [
    "### Integer\n",
    "\n",
    "An integer represents a whole number without any decimal point. For example:\n"
   ]
  },
  {
   "cell_type": "code",
   "execution_count": 2,
   "metadata": {},
   "outputs": [],
   "source": [
    "x = 10"
   ]
  },
  {
   "attachments": {},
   "cell_type": "markdown",
   "metadata": {},
   "source": [
    "### Float\n",
    "\n",
    "A float represents a number with a decimal point. For example:"
   ]
  },
  {
   "cell_type": "code",
   "execution_count": 1,
   "metadata": {},
   "outputs": [],
   "source": [
    "y = 3.14"
   ]
  },
  {
   "attachments": {},
   "cell_type": "markdown",
   "metadata": {},
   "source": [
    "### String\n",
    "\n",
    "A string is a sequence of characters enclosed in single or double quotes. It can be used to represent textual data. For example:"
   ]
  },
  {
   "cell_type": "code",
   "execution_count": 3,
   "metadata": {},
   "outputs": [],
   "source": [
    "name = \"John Doe\""
   ]
  },
  {
   "attachments": {},
   "cell_type": "markdown",
   "metadata": {},
   "source": [
    "To access specific characters from a string we can use the [] for indexing"
   ]
  },
  {
   "cell_type": "code",
   "execution_count": 3,
   "metadata": {},
   "outputs": [
    {
     "name": "stdout",
     "output_type": "stream",
     "text": [
      "H\n",
      "W\n"
     ]
    }
   ],
   "source": [
    "message = \"Hello, World!\"\n",
    "print(message[0])     # Output: H\n",
    "print(message[7])     # Output: W"
   ]
  },
  {
   "attachments": {},
   "cell_type": "markdown",
   "metadata": {},
   "source": [
    "In this example, message[0] returns the first character \"H\", and message[7] returns the eighth character \"W\"."
   ]
  },
  {
   "attachments": {},
   "cell_type": "markdown",
   "metadata": {},
   "source": [
    "### Boolean\n",
    "\n",
    "A boolean represents one of two values: True or False. Booleans are often used in conditional statements and logical operations. For example:\n",
    "\n"
   ]
  },
  {
   "cell_type": "code",
   "execution_count": null,
   "metadata": {},
   "outputs": [],
   "source": [
    "is_valid = True"
   ]
  },
  {
   "attachments": {},
   "cell_type": "markdown",
   "metadata": {},
   "source": [
    "### Lists\n",
    "\n",
    "A list is an ordered collection of items, which can be of different types. Lists are mutable, meaning you can modify their elements. For example:"
   ]
  },
  {
   "cell_type": "code",
   "execution_count": null,
   "metadata": {},
   "outputs": [],
   "source": [
    "numbers = [1, 2, 3, 4, 5]\n",
    "fruits = [\"apple\", \"banana\", \"orange\"]"
   ]
  },
  {
   "attachments": {},
   "cell_type": "markdown",
   "metadata": {},
   "source": [
    "### Tuples\n",
    "\n",
    "A tuple is an ordered, immutable collection of items, which can be of different types. Unlike lists, tuples cannot be modified once created. For example:"
   ]
  },
  {
   "cell_type": "code",
   "execution_count": null,
   "metadata": {},
   "outputs": [],
   "source": [
    "coordinates = (10, 20)"
   ]
  },
  {
   "attachments": {},
   "cell_type": "markdown",
   "metadata": {},
   "source": [
    "### Dictionaries\n",
    "\n",
    "A dictionary is an unordered collection of key-value pairs. Each key in a dictionary is unique, and it is used to access the corresponding value. For example:"
   ]
  },
  {
   "cell_type": "code",
   "execution_count": 4,
   "metadata": {},
   "outputs": [],
   "source": [
    "person = {\"name\": \"John\", \"age\": 30, \"city\": \"New York\"}"
   ]
  },
  {
   "attachments": {},
   "cell_type": "markdown",
   "metadata": {},
   "source": [
    "### Variables\n",
    "\n",
    "In Python, variables are used to store values. You can assign values to variables using the assignment operator =. For example:"
   ]
  },
  {
   "cell_type": "code",
   "execution_count": 5,
   "metadata": {},
   "outputs": [],
   "source": [
    "a = 5\n",
    "b = 3"
   ]
  },
  {
   "attachments": {},
   "cell_type": "markdown",
   "metadata": {},
   "source": [
    "You can perform various operations on variables, such as arithmetic operations like addition, subtraction, multiplication, and division. For example:"
   ]
  },
  {
   "cell_type": "code",
   "execution_count": 6,
   "metadata": {},
   "outputs": [],
   "source": [
    "sum_ab = a + b\n",
    "sub_ab = a - b\n",
    "mul_ab = a * b\n",
    "div_ab = a / b"
   ]
  },
  {
   "attachments": {},
   "cell_type": "markdown",
   "metadata": {},
   "source": [
    "# Control Structures\n",
    "\n",
    "Control structures enable you to control the flow of execution in your program. They allow you to make decisions and repeat blocks of code based on certain conditions. Here are some commonly used control structures:"
   ]
  },
  {
   "attachments": {},
   "cell_type": "markdown",
   "metadata": {},
   "source": [
    "## if elif else Statements\n",
    "\n",
    "The if-elif-else statement in Python allows you to execute different blocks of code based on different conditions. It provides a way to control the flow of execution and make decisions in your program. The if-elif-else statement is often used when you have multiple conditions to evaluate.\n",
    "\n",
    "The syntax of the if-elif-else statement is as follows:\n",
    "\n",
    "```python\n",
    "if condition1:\n",
    "    # Code block executed when condition1 is True\n",
    "elif condition2:\n",
    "    # Code block executed when condition1 is False and condition2 is True\n",
    "else:\n",
    "    # Code block executed when all conditions are False\n",
    "\n",
    "```\n",
    "In this example, the if statement checks whether x is greater than zero. If True, it executes the code block inside the if clause. Within that block, another if-else statement is used to determine whether x is even or odd. If x is less than or equal to zero, the else clause of the outer if statement is executed."
   ]
  },
  {
   "attachments": {},
   "cell_type": "markdown",
   "metadata": {},
   "source": [
    "In this example, the if statement checks whether x is greater than zero. If True, it executes the code block inside the if clause. Within that block, another if-else statement is used to determine whether x is even or odd. If x is less than or equal to zero, the else clause of the outer if statement is executed."
   ]
  },
  {
   "attachments": {},
   "cell_type": "markdown",
   "metadata": {},
   "source": [
    "## Examples of if elif else Statements Usage\n",
    "\n",
    "Let's explore a few examples to understand the practical use of the if-elif-else statement:"
   ]
  },
  {
   "attachments": {},
   "cell_type": "markdown",
   "metadata": {},
   "source": [
    "### Example 1: Checking a Single Condition"
   ]
  },
  {
   "cell_type": "code",
   "execution_count": 8,
   "metadata": {},
   "outputs": [
    {
     "name": "stdout",
     "output_type": "stream",
     "text": [
      "You are eligible to vote.\n"
     ]
    }
   ],
   "source": [
    "age = 18\n",
    "\n",
    "if age >= 18:\n",
    "    print(\"You are eligible to vote.\")\n",
    "else:\n",
    "    print(\"You are not eligible to vote.\")"
   ]
  },
  {
   "attachments": {},
   "cell_type": "markdown",
   "metadata": {},
   "source": [
    "In this example, the if statement checks whether the age is greater than or equal to 18. If the condition is True, it executes the code block inside the if clause and prints \"You are eligible to vote.\" Otherwise, it executes the code block inside the else clause and prints \"You are not eligible to vote.\""
   ]
  },
  {
   "attachments": {},
   "cell_type": "markdown",
   "metadata": {},
   "source": [
    "### Example 2: Evaluating Multiple Conditions"
   ]
  },
  {
   "cell_type": "code",
   "execution_count": 3,
   "metadata": {},
   "outputs": [
    {
     "name": "stdout",
     "output_type": "stream",
     "text": [
      "Your grade is: B\n"
     ]
    }
   ],
   "source": [
    "marks = 85\n",
    "\n",
    "if marks >= 90:\n",
    "    grade = \"A\"\n",
    "elif marks >= 80:\n",
    "    grade = \"B\"\n",
    "elif marks >= 70:\n",
    "    grade = \"C\"\n",
    "else:\n",
    "    grade = \"D\"\n",
    "\n",
    "print(\"Your grade is:\", grade)"
   ]
  },
  {
   "attachments": {},
   "cell_type": "markdown",
   "metadata": {},
   "source": [
    "In this example, the if-elif-else statement is used to assign a grade based on the value of marks. It evaluates multiple conditions sequentially and assigns the appropriate grade. Finally, it prints the grade."
   ]
  },
  {
   "attachments": {},
   "cell_type": "markdown",
   "metadata": {},
   "source": [
    "### Example 3: Nested if Statements"
   ]
  },
  {
   "cell_type": "code",
   "execution_count": 2,
   "metadata": {},
   "outputs": [
    {
     "name": "stdout",
     "output_type": "stream",
     "text": [
      "Positive number.\n",
      "Even number.\n"
     ]
    }
   ],
   "source": [
    "x = 10\n",
    "\n",
    "if x > 0:\n",
    "    print(\"Positive number.\")\n",
    "    if x % 2 == 0:\n",
    "        print(\"Even number.\")\n",
    "    else:\n",
    "        print(\"Odd number.\")\n",
    "else:\n",
    "    print(\"Negative number.\")\n"
   ]
  },
  {
   "attachments": {},
   "cell_type": "markdown",
   "metadata": {},
   "source": [
    "In this example, the if statement checks whether x is greater than zero. If True, it executes the code block inside the if clause. Within that block, another if-else statement is used to determine whether x is even or odd. If x is less than or equal to zero, the else clause of the outer if statement is executed."
   ]
  },
  {
   "attachments": {},
   "cell_type": "markdown",
   "metadata": {},
   "source": [
    "# For Loop\n",
    "\n",
    "A for loop is used to iterate over a sequence or collection of items. It allows you to perform a set of operations for each item in the sequence. For example:\n",
    "The for loop in Python is used to iterate over a sequence or collection of items. It allows you to perform a set of operations for each item in the sequence. The for loop simplifies repetitive tasks by automatically iterating through the items, eliminating the need for manual indexing.\n",
    "\n",
    "The syntax of a for loop is as follows:\n",
    "\n",
    "```python\n",
    "for item in sequence:\n",
    "    # Code block to be executed for each item"
   ]
  },
  {
   "attachments": {},
   "cell_type": "markdown",
   "metadata": {},
   "source": [
    "### Examples of For Loop Usage\n",
    "\n",
    "Let's explore a few examples to understand the practical use of for loops:"
   ]
  },
  {
   "attachments": {},
   "cell_type": "markdown",
   "metadata": {},
   "source": [
    "### Example 1: Iterating over a List"
   ]
  },
  {
   "cell_type": "code",
   "execution_count": 9,
   "metadata": {},
   "outputs": [
    {
     "name": "stdout",
     "output_type": "stream",
     "text": [
      "apple\n",
      "banana\n",
      "orange\n"
     ]
    }
   ],
   "source": [
    "fruits = [\"apple\", \"banana\", \"orange\"]\n",
    "\n",
    "for fruit in fruits:\n",
    "    print(fruit)"
   ]
  },
  {
   "attachments": {},
   "cell_type": "markdown",
   "metadata": {},
   "source": [
    "In this example, the for loop iterates over each item in the list fruits. The variable fruit takes on each value of the items in the list, and the print statement inside the loop is executed for each item."
   ]
  },
  {
   "attachments": {},
   "cell_type": "markdown",
   "metadata": {},
   "source": [
    "### Example 2: Iterating over a Range of Numbers"
   ]
  },
  {
   "cell_type": "code",
   "execution_count": 10,
   "metadata": {},
   "outputs": [
    {
     "name": "stdout",
     "output_type": "stream",
     "text": [
      "0\n",
      "1\n",
      "2\n",
      "3\n",
      "4\n"
     ]
    }
   ],
   "source": [
    "for i in range(5):\n",
    "    print(i)"
   ]
  },
  {
   "attachments": {},
   "cell_type": "markdown",
   "metadata": {},
   "source": [
    "Here, the range() function generates a sequence of numbers from 0 to 4. The for loop iterates over each value in the sequence, and the print statement inside the loop displays the current value of i."
   ]
  },
  {
   "attachments": {},
   "cell_type": "markdown",
   "metadata": {},
   "source": [
    "### Example 3: Iterating over a String"
   ]
  },
  {
   "cell_type": "code",
   "execution_count": 11,
   "metadata": {},
   "outputs": [
    {
     "name": "stdout",
     "output_type": "stream",
     "text": [
      "J\n",
      "o\n",
      "h\n",
      "n\n",
      " \n",
      "D\n",
      "o\n",
      "e\n"
     ]
    }
   ],
   "source": [
    "name = \"John Doe\"\n",
    "\n",
    "for char in name:\n",
    "    print(char)"
   ]
  },
  {
   "attachments": {},
   "cell_type": "markdown",
   "metadata": {},
   "source": [
    "In this case, the for loop iterates over each character in the string name. The variable char takes on each character, and the print statement inside the loop displays each character on a separate line"
   ]
  },
  {
   "attachments": {},
   "cell_type": "markdown",
   "metadata": {},
   "source": [
    "## Loop Control Statements\n",
    "\n",
    "Within a for loop, you can use control statements to alter the flow of execution. The following control statements are commonly used:\n",
    "\n",
    "    break: Terminates the loop prematurely, skipping the remaining iterations.\n",
    "    continue: Skips the current iteration and moves to the next one.\n",
    "    else: Executes a block of code after the loop finishes iterating.\n",
    "\n",
    "Here's an example that demonstrates these control statements:"
   ]
  },
  {
   "cell_type": "code",
   "execution_count": 2,
   "metadata": {},
   "outputs": [
    {
     "name": "stdout",
     "output_type": "stream",
     "text": [
      "apple\n",
      "Loop ended.\n"
     ]
    }
   ],
   "source": [
    "fruits = [\"apple\", \"banana\", \"orange\"]\n",
    "\n",
    "for fruit in fruits:\n",
    "    if fruit == \"banana\":\n",
    "        continue\n",
    "    elif fruit == \"orange\":\n",
    "        break\n",
    "    print(fruit)\n",
    "else:\n",
    "    print(\"Loop completed successfully.\")\n",
    "\n",
    "print(\"Loop ended.\")"
   ]
  },
  {
   "attachments": {},
   "cell_type": "markdown",
   "metadata": {},
   "source": [
    "In this example, the loop encounters the keyword continue when the value of fruit is \"banana\", so it skips the remaining statements in the loop for that iteration. When the value of fruit is \"orange\", the loop encounters the break statement, terminating the loop prematurely. Therefore, only \"apple\" is printed, and the loop ends without executing the else block."
   ]
  },
  {
   "attachments": {},
   "cell_type": "markdown",
   "metadata": {},
   "source": [
    "# While Loop\n",
    "\n",
    "The while loop in Python is used to repeatedly execute a block of code as long as a given condition is true. It allows you to perform tasks repeatedly without the need for manual iteration. The while loop continues iterating until the condition becomes false.\n",
    "\n",
    "The syntax of a while loop is as follows:\n",
    "\n",
    "```python\n",
    "while condition:\n",
    "    # Code block to be executed while the condition is true\n",
    "```\n",
    "condition represents an expression that is evaluated as either True or False.\n",
    "The code block inside the loop is indented and will be executed repeatedly as long as the condition remains true."
   ]
  },
  {
   "attachments": {},
   "cell_type": "markdown",
   "metadata": {},
   "source": [
    "## Examples of While Loop Usage"
   ]
  },
  {
   "attachments": {},
   "cell_type": "markdown",
   "metadata": {},
   "source": [
    "Let's explore a few examples to understand the practical use of the while loop:"
   ]
  },
  {
   "attachments": {},
   "cell_type": "markdown",
   "metadata": {},
   "source": [
    "### Example 1: Counting with a While Loop"
   ]
  },
  {
   "cell_type": "code",
   "execution_count": 16,
   "metadata": {},
   "outputs": [
    {
     "name": "stdout",
     "output_type": "stream",
     "text": [
      "Count: 0\n",
      "Count: 1\n",
      "Count: 2\n",
      "Count: 3\n",
      "Count: 4\n"
     ]
    }
   ],
   "source": [
    "count = 0\n",
    "\n",
    "while count < 5:\n",
    "    print(\"Count:\", count)\n",
    "    count += 1"
   ]
  },
  {
   "attachments": {},
   "cell_type": "markdown",
   "metadata": {},
   "source": [
    "In this example, the while loop continues executing the code block as long as the value of count is less than 5. The code block inside the loop prints the current value of count and then increments it by 1 using count += 1. This process continues until the condition becomes false. "
   ]
  },
  {
   "attachments": {},
   "cell_type": "markdown",
   "metadata": {},
   "source": [
    "### Example 2: User Input Validation"
   ]
  },
  {
   "cell_type": "code",
   "execution_count": 17,
   "metadata": {},
   "outputs": [
    {
     "name": "stdout",
     "output_type": "stream",
     "text": [
      "Incorrect password. Try again.\n",
      "Access granted.\n"
     ]
    }
   ],
   "source": [
    "password = input(\"Enter your password: \")\n",
    "\n",
    "while password != \"secret\":\n",
    "    print(\"Incorrect password. Try again.\")\n",
    "    password = input(\"Enter your password: \")\n",
    "\n",
    "print(\"Access granted.\")"
   ]
  },
  {
   "attachments": {},
   "cell_type": "markdown",
   "metadata": {},
   "source": [
    "In this example, the while loop is used to validate user input. The loop continues executing as long as the entered password is not equal to \"secret\". If the password is incorrect, the loop prints a message and prompts the user to enter the password again. Once the correct password is entered, the loop terminates, and the message \"Access granted\" is displayed."
   ]
  },
  {
   "attachments": {},
   "cell_type": "markdown",
   "metadata": {},
   "source": [
    "### Example 3: Infinite Loop with Break Statement"
   ]
  },
  {
   "cell_type": "code",
   "execution_count": 18,
   "metadata": {},
   "outputs": [
    {
     "name": "stdout",
     "output_type": "stream",
     "text": [
      "Loop ended.\n"
     ]
    }
   ],
   "source": [
    "while True:\n",
    "    answer = input(\"Do you want to continue? (yes/no): \")\n",
    "\n",
    "    if answer == \"no\":\n",
    "        break\n",
    "\n",
    "print(\"Loop ended.\")"
   ]
  },
  {
   "attachments": {},
   "cell_type": "markdown",
   "metadata": {},
   "source": [
    "In this example, the while loop condition is set to True, creating an infinite loop. However, the loop is terminated by the break statement when the user enters \"no\" as the answer. The loop is exited, and the program displays \"Loop ended\"."
   ]
  },
  {
   "attachments": {},
   "cell_type": "markdown",
   "metadata": {},
   "source": [
    "### Loop Control Statements"
   ]
  },
  {
   "attachments": {},
   "cell_type": "markdown",
   "metadata": {},
   "source": [
    "Within a while loop, you can use control statements to alter the flow of execution. The following control statements are commonly used:\n",
    "\n",
    "    break: Terminates the loop prematurely, skipping the remaining iterations.\n",
    "    continue: Skips the current iteration and moves to the next one.\n",
    "    else: Executes a block of code after the loop finishes iterating.\n",
    "\n",
    "Here's an example that demonstrates these control statements:"
   ]
  },
  {
   "cell_type": "code",
   "execution_count": 19,
   "metadata": {},
   "outputs": [
    {
     "name": "stdout",
     "output_type": "stream",
     "text": [
      "Count: 0\n",
      "Count: 1\n",
      "Count: 3\n",
      "Count: 4\n",
      "Loop completed successfully.\n",
      "Loop ended.\n"
     ]
    }
   ],
   "source": [
    "count = 0\n",
    "\n",
    "while count < 5:\n",
    "    if count == 2:\n",
    "        count += 1\n",
    "        continue\n",
    "    print(\"Count:\", count)\n",
    "    count += 1\n",
    "else:\n",
    "    print(\"Loop completed successfully.\")\n",
    "\n",
    "print(\"Loop ended.\")"
   ]
  },
  {
   "attachments": {},
   "cell_type": "markdown",
   "metadata": {},
   "source": [
    "In this example, the loop encounters the continue statement when the value of count is 2. It skips the remaining statements in the loop for that iteration and moves to the next iteration. The else block is executed after the loop completes successfully."
   ]
  }
 ],
 "metadata": {
  "kernelspec": {
   "display_name": "Python 3",
   "language": "python",
   "name": "python3"
  },
  "language_info": {
   "codemirror_mode": {
    "name": "ipython",
    "version": 3
   },
   "file_extension": ".py",
   "mimetype": "text/x-python",
   "name": "python",
   "nbconvert_exporter": "python",
   "pygments_lexer": "ipython3",
   "version": "3.10.6"
  },
  "orig_nbformat": 4
 },
 "nbformat": 4,
 "nbformat_minor": 2
}
