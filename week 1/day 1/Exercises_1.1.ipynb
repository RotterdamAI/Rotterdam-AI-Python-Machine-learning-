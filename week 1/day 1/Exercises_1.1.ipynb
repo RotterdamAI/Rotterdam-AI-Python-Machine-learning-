{
 "cells": [
  {
   "attachments": {},
   "cell_type": "markdown",
   "metadata": {},
   "source": [
    "# Exercises week 1.1"
   ]
  },
  {
   "attachments": {},
   "cell_type": "markdown",
   "metadata": {},
   "source": [
    "## Introduction"
   ]
  },
  {
   "attachments": {},
   "cell_type": "markdown",
   "metadata": {},
   "source": [
    "Welcome to your first programming exercise. Before we start of with diving into the code I want to give a short explaination about how we can use a notebook (The type of editor we are currently using to write our python code). Each block of code is called a cell if you want to run a cell you press `shift + enter`. If you by accident made an infinite loop or crashed your editor, restart your kernel this way all running code will be shut down and everything stored in memory will reset."
   ]
  },
  {
   "attachments": {},
   "cell_type": "markdown",
   "metadata": {},
   "source": [
    "## Structure"
   ]
  },
  {
   "attachments": {},
   "cell_type": "markdown",
   "metadata": {},
   "source": [
    "Each Exercise contains 3 different types of cells, 1 for the description of the exercise and the place where you need to write your code at the locations `#here your code`. Then there is the cell with the hint code, if you need help with the exercise because its not clear what to do or if you need an extra suggestion run the hint cell. At last we have the test cell, if you want to test if your solution is the correct one run this cell and it will tell you if you passed the exercise or not."
   ]
  },
  {
   "attachments": {},
   "cell_type": "markdown",
   "metadata": {},
   "source": [
    "## Exercise 1.1.1 example area rectangle"
   ]
  },
  {
   "attachments": {},
   "cell_type": "markdown",
   "metadata": {},
   "source": [
    "### Note: Exercise 1.1.1 is a demo and you don't need to fill in any code"
   ]
  },
  {
   "attachments": {},
   "cell_type": "markdown",
   "metadata": {},
   "source": [
    "### Question:\n",
    "Within the function `area_rectangle` calculate and return the area of a rectangle?"
   ]
  },
  {
   "cell_type": "code",
   "execution_count": 2,
   "metadata": {},
   "outputs": [],
   "source": [
    "def area_rectangle(length, width):\n",
    "    # Your code here\n",
    "    return # Your code here"
   ]
  },
  {
   "attachments": {},
   "cell_type": "markdown",
   "metadata": {},
   "source": [
    "After writing your code it would look something like the below cell:"
   ]
  },
  {
   "cell_type": "code",
   "execution_count": 2,
   "metadata": {},
   "outputs": [],
   "source": [
    "def area_rectangle(length, width):\n",
    "    result = length * width\n",
    "    return result"
   ]
  },
  {
   "attachments": {},
   "cell_type": "markdown",
   "metadata": {},
   "source": [
    "### Hint area rectangle\n",
    "Need a hint run the following cell"
   ]
  },
  {
   "cell_type": "code",
   "execution_count": 4,
   "metadata": {},
   "outputs": [
    {
     "name": "stdout",
     "output_type": "stream",
     "text": [
      "We can store and calculate the area of a rectangle by using:\n",
      "`result = length * width`.\n"
     ]
    }
   ],
   "source": [
    "from testexercises import hint_area_rectangle\n",
    "hint_area_rectangle()"
   ]
  },
  {
   "attachments": {},
   "cell_type": "markdown",
   "metadata": {},
   "source": [
    "\n",
    "### Test area rectangle\n",
    "Want to check if your code is correct? Run the following cell!"
   ]
  },
  {
   "cell_type": "code",
   "execution_count": 3,
   "metadata": {},
   "outputs": [
    {
     "name": "stdout",
     "output_type": "stream",
     "text": [
      "=========>\n",
      "\u001b[92mAll tests passed!!!\u001b[0m\n"
     ]
    }
   ],
   "source": [
    "from testexercises import test_area_rectangle\n",
    "test_area_rectangle(area_rectangle)"
   ]
  },
  {
   "attachments": {},
   "cell_type": "markdown",
   "metadata": {},
   "source": [
    "\n",
    "## Exercise 1.1.2 Convert fahrenheit to celsius\n",
    "In this exercise you need to convert fahrenheit to celsius. <br>Formula for convertion is: `C = (F - 32) * 5/9` \n",
    "<br>where C = Celsius\n",
    "<br>and F = Fahrenheit\n"
   ]
  },
  {
   "cell_type": "code",
   "execution_count": null,
   "metadata": {},
   "outputs": [],
   "source": [
    "def fahr_to_cel(fahrenheit):\n",
    "    # Your code here\n",
    "    return # Your code here"
   ]
  },
  {
   "attachments": {},
   "cell_type": "markdown",
   "metadata": {},
   "source": [
    "### Hint Convert fahrenheit to celsius\n",
    "Need a hint run the following cell"
   ]
  },
  {
   "cell_type": "code",
   "execution_count": null,
   "metadata": {},
   "outputs": [],
   "source": [
    "from testexercises import hint_fahr_to_cel\n",
    "hint_fahr_to_cel()"
   ]
  },
  {
   "attachments": {},
   "cell_type": "markdown",
   "metadata": {},
   "source": [
    "### Test Convert fahrenheit to celsius\n",
    "Want to check if your code is correct? Run the following cell!"
   ]
  },
  {
   "cell_type": "code",
   "execution_count": null,
   "metadata": {},
   "outputs": [],
   "source": [
    "from testexercises import test_fahr_to_cel\n",
    "test_fahr_to_cel(fahr_to_cel)"
   ]
  },
  {
   "attachments": {},
   "cell_type": "markdown",
   "metadata": {},
   "source": [
    "## Exercise 1.1.3 Count names that start with 'A'\n",
    "given a list of names for example `names = [\"Alice\", \"Bob\", \"Amy\", \"Alex\", \"Charlie\"]` write a function that counts how many names of this list Start with the letter 'A' (make sure you return an integer with the number of names that start with 'A') and return 0 if none of the names start with the letter 'A'"
   ]
  },
  {
   "cell_type": "code",
   "execution_count": null,
   "metadata": {},
   "outputs": [],
   "source": [
    "def count_A_names(names):\n",
    "    # your code here\n",
    "    return # your code here"
   ]
  },
  {
   "attachments": {},
   "cell_type": "markdown",
   "metadata": {},
   "source": [
    "### Hint Count A names\n",
    "Need a hint run the following cell"
   ]
  },
  {
   "cell_type": "code",
   "execution_count": null,
   "metadata": {},
   "outputs": [],
   "source": [
    "from testexercises import hint_count_A_names\n",
    "hint_count_A_names()"
   ]
  },
  {
   "attachments": {},
   "cell_type": "markdown",
   "metadata": {},
   "source": [
    "### Test Convert count A names\n",
    "Want to check if your code is correct? Run the following cell!"
   ]
  },
  {
   "cell_type": "code",
   "execution_count": null,
   "metadata": {},
   "outputs": [],
   "source": [
    "from testexercises import test_count_A_names\n",
    "test_count_A_names(count_A_names)"
   ]
  },
  {
   "attachments": {},
   "cell_type": "markdown",
   "metadata": {},
   "source": [
    "## Exercise 1.1.4 getting the average\n",
    "based on a list of numbers like for example `numbers = [1, 2, 3, 4, 5]` return the average of all the numbers in the list. tip: to get the amount of numbers in the list we can use `len(numbers)`"
   ]
  },
  {
   "cell_type": "code",
   "execution_count": null,
   "metadata": {},
   "outputs": [],
   "source": [
    "def get_average(numbers):\n",
    "    # your code here\n",
    "    return # your code here"
   ]
  },
  {
   "attachments": {},
   "cell_type": "markdown",
   "metadata": {},
   "source": [
    "### Hint getting the average\n",
    "Need a hint run the following cell"
   ]
  },
  {
   "cell_type": "code",
   "execution_count": 1,
   "metadata": {},
   "outputs": [
    {
     "name": "stdout",
     "output_type": "stream",
     "text": [
      "we can loop over all the number and add it up to a total, after getting the total we can do a division like total/len(numbers) to get the average\n"
     ]
    }
   ],
   "source": [
    "from testexercises import hint_get_average\n",
    "hint_get_average()"
   ]
  },
  {
   "attachments": {},
   "cell_type": "markdown",
   "metadata": {},
   "source": [
    "### Test getting the average\n",
    "Want to check if your code is correct? Run the following cell!"
   ]
  },
  {
   "cell_type": "code",
   "execution_count": null,
   "metadata": {},
   "outputs": [],
   "source": [
    "from testexercises import test_get_average\n",
    "test_get_average(get_average)"
   ]
  },
  {
   "attachments": {},
   "cell_type": "markdown",
   "metadata": {},
   "source": [
    "for extra exercises which are more difficult to get more hands on experience we could recommend https://leetcode.com/ and try to solve some problems"
   ]
  }
 ],
 "metadata": {
  "kernelspec": {
   "display_name": "Python 3",
   "language": "python",
   "name": "python3"
  },
  "language_info": {
   "codemirror_mode": {
    "name": "ipython",
    "version": 3
   },
   "file_extension": ".py",
   "mimetype": "text/x-python",
   "name": "python",
   "nbconvert_exporter": "python",
   "pygments_lexer": "ipython3",
   "version": "3.10.6"
  },
  "orig_nbformat": 4
 },
 "nbformat": 4,
 "nbformat_minor": 2
}
