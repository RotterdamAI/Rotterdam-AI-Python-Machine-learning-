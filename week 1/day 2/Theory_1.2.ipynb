{
 "cells": [
  {
   "attachments": {},
   "cell_type": "markdown",
   "metadata": {},
   "source": [
    "# 1.2: Python indexing slicing, List operations, dict operations and Functions\n"
   ]
  },
  {
   "attachments": {},
   "cell_type": "markdown",
   "metadata": {},
   "source": [
    "## Indexing and slicing"
   ]
  },
  {
   "attachments": {},
   "cell_type": "markdown",
   "metadata": {},
   "source": [
    "Indexing and slicing are powerful features in Python that allow you to access individual elements and extract subsequences from a sequence like strings, lists, or tuples."
   ]
  },
  {
   "attachments": {},
   "cell_type": "markdown",
   "metadata": {},
   "source": [
    "### Indexing\n",
    "Indexing refers to the process of accessing individual elements of a sequence using an index. In Python, indexing starts from 0 for the first element, and you can use positive or negative indices.\n",
    "Positive Indexing:\n",
    "\n",
    "Positive indexing is used to access elements from the beginning of a sequence using positive integers as indices."
   ]
  },
  {
   "cell_type": "code",
   "execution_count": null,
   "metadata": {},
   "outputs": [],
   "source": [
    "message = \"Hello, World!\"\n",
    "print(message[0])     # Output: H\n",
    "print(message[7])     # Output: W"
   ]
  },
  {
   "attachments": {},
   "cell_type": "markdown",
   "metadata": {},
   "source": [
    "In this example, message[0] returns the first character \"H\", and message[7] returns the eighth character \"W\".\n",
    "Negative Indexing:\n",
    "\n",
    "Negative indexing allows you to access elements from the end of a sequence using negative integers as indices. The last element has an index of -1, the second-to-last element has an index of -2, and so on."
   ]
  },
  {
   "cell_type": "code",
   "execution_count": null,
   "metadata": {},
   "outputs": [],
   "source": [
    "message = \"Hello, World!\"\n",
    "print(message[-1])    # Output: !\n",
    "print(message[-6])    # Output: W"
   ]
  },
  {
   "attachments": {},
   "cell_type": "markdown",
   "metadata": {},
   "source": [
    "In this example, message[-1] returns the last character \"!\", and message[-6] returns the sixth character \"W\"."
   ]
  },
  {
   "attachments": {},
   "cell_type": "markdown",
   "metadata": {},
   "source": [
    "### Slicing\n",
    "Slicing allows you to extract subsequences (substrings, sublists, subtuples) from a sequence using a range of indices. The syntax for slicing is <br>\n",
    "`sequence[start:end:step]`, where `start` is the starting index (inclusive), <br>`end` is the ending index (exclusive), and `step` is the step size."
   ]
  },
  {
   "cell_type": "code",
   "execution_count": 1,
   "metadata": {},
   "outputs": [
    {
     "name": "stdout",
     "output_type": "stream",
     "text": [
      "World\n",
      "Hello\n",
      "Hello\n",
      "World!\n"
     ]
    }
   ],
   "source": [
    "message = \"Hello, World!\"\n",
    "print(message[7:12])      # Output: World\n",
    "print(message[0:5])       # Output: Hello\n",
    "print(message[:5])        # Output: Hello\n",
    "print(message[7:])        # Output: World!"
   ]
  },
  {
   "attachments": {},
   "cell_type": "markdown",
   "metadata": {},
   "source": [
    "In the first example, `message[7:12]` extracts the substring \"World\" from the original string. In the second example, `message[0:5]` extracts the substring \"Hello\". The third example, `message[:5]`, is equivalent to `message[0:5]` and also extracts \"Hello\". The fourth example, `message[7:]`, extracts the substring from index 7 until the end of the string and returns \"World!\"."
   ]
  },
  {
   "attachments": {},
   "cell_type": "markdown",
   "metadata": {},
   "source": [
    "### Stride (Step Size)\n",
    "The optional `step` parameter in slicing allows you to specify a step size or a stride. By default, the step size is 1, but you can modify it to extract elements at specific intervals."
   ]
  },
  {
   "cell_type": "code",
   "execution_count": 2,
   "metadata": {},
   "outputs": [
    {
     "name": "stdout",
     "output_type": "stream",
     "text": [
      "[0, 2, 4, 6, 8]\n"
     ]
    }
   ],
   "source": [
    "numbers = [0, 1, 2, 3, 4, 5, 6, 7, 8, 9]\n",
    "print(numbers[::2])     # Output: [0, 2, 4, 6, 8]"
   ]
  },
  {
   "attachments": {},
   "cell_type": "markdown",
   "metadata": {},
   "source": [
    "In this example, `numbers[::2]` extracts every second element from the list, resulting in `[0, 2, 4, 6, 8]`."
   ]
  },
  {
   "attachments": {},
   "cell_type": "markdown",
   "metadata": {},
   "source": [
    "### Out-of-Range Indices and Slicing\n",
    "It's important to note that attempting to access an index that is outside the valid range of indices will result in an \"IndexError\" exception. Similarly, when slicing, if the specified range exceeds the size of the sequence, Python will gracefully handle it by returning the available elements up to the end of the sequence."
   ]
  },
  {
   "attachments": {},
   "cell_type": "markdown",
   "metadata": {},
   "source": [
    "## List Operations in Python\n",
    "Lists are one of the most commonly used data structures in Python. They are versatile and allow you to store and manipulate collections of items. In addition to basic operations like creating, accessing, and modifying lists, there are several operations you can perform on lists in Python."
   ]
  },
  {
   "attachments": {},
   "cell_type": "markdown",
   "metadata": {},
   "source": [
    "### Creating a List:\n",
    "To create a list in Python, you enclose comma-separated values within square brackets ([])."
   ]
  },
  {
   "cell_type": "code",
   "execution_count": 3,
   "metadata": {},
   "outputs": [],
   "source": [
    "fruits = [\"apple\", \"banana\", \"orange\"]"
   ]
  },
  {
   "attachments": {},
   "cell_type": "markdown",
   "metadata": {},
   "source": [
    "In this example, the variable fruits is assigned a list of strings containing three fruit names."
   ]
  },
  {
   "attachments": {},
   "cell_type": "markdown",
   "metadata": {},
   "source": [
    "### Accessing List Elements:\n",
    "You can access individual elements of a list by using square brackets and the index of the desired element. The indexing starts from 0 for the first element."
   ]
  },
  {
   "cell_type": "code",
   "execution_count": 4,
   "metadata": {},
   "outputs": [
    {
     "name": "stdout",
     "output_type": "stream",
     "text": [
      "apple\n",
      "banana\n"
     ]
    }
   ],
   "source": [
    "fruits = [\"apple\", \"banana\", \"orange\"]\n",
    "print(fruits[0])   # Output: apple\n",
    "print(fruits[1])   # Output: banana"
   ]
  },
  {
   "attachments": {},
   "cell_type": "markdown",
   "metadata": {},
   "source": [
    "In this example, fruits[0] returns the first element \"apple\", and fruits[1] returns the second element \"banana\"."
   ]
  },
  {
   "attachments": {},
   "cell_type": "markdown",
   "metadata": {},
   "source": [
    "### Modifying List Elements:\n",
    "Lists are mutable, meaning you can change their elements after they are created. You can modify a specific element of a list by assigning a new value to the corresponding index."
   ]
  },
  {
   "cell_type": "code",
   "execution_count": 5,
   "metadata": {},
   "outputs": [
    {
     "name": "stdout",
     "output_type": "stream",
     "text": [
      "['apple', 'grape', 'orange']\n"
     ]
    }
   ],
   "source": [
    "fruits = [\"apple\", \"banana\", \"orange\"]\n",
    "fruits[1] = \"grape\"\n",
    "print(fruits)   # Output: ['apple', 'grape', 'orange']"
   ]
  },
  {
   "attachments": {},
   "cell_type": "markdown",
   "metadata": {},
   "source": [
    "In this example, the second element \"banana\" is replaced with \"grape\" using the assignment statement fruits[1] = \"grape\"."
   ]
  },
  {
   "attachments": {},
   "cell_type": "markdown",
   "metadata": {},
   "source": [
    "### List Concatenation:\n",
    "You can combine two or more lists into a single list using the concatenation operator +."
   ]
  },
  {
   "cell_type": "code",
   "execution_count": 6,
   "metadata": {},
   "outputs": [
    {
     "name": "stdout",
     "output_type": "stream",
     "text": [
      "[1, 2, 3, 4, 5, 6]\n"
     ]
    }
   ],
   "source": [
    "list1 = [1, 2, 3]\n",
    "list2 = [4, 5, 6]\n",
    "combined_list = list1 + list2\n",
    "print(combined_list)   # Output: [1, 2, 3, 4, 5, 6]"
   ]
  },
  {
   "attachments": {},
   "cell_type": "markdown",
   "metadata": {},
   "source": [
    "In this example, list1 and list2 are concatenated using the + operator, resulting in [1, 2, 3, 4, 5, 6]."
   ]
  },
  {
   "attachments": {},
   "cell_type": "markdown",
   "metadata": {},
   "source": [
    "### List Slicing:\n",
    "List slicing allows you to extract a sublist from a list by specifying a range of indices. The general syntax for list slicing is `list[start:end:step]`, where `start` is the starting index (inclusive), `end` is the ending index (exclusive), and `step` is the step size."
   ]
  },
  {
   "cell_type": "code",
   "execution_count": 7,
   "metadata": {},
   "outputs": [
    {
     "name": "stdout",
     "output_type": "stream",
     "text": [
      "[3, 4, 5, 6, 7]\n",
      "[1, 3, 5, 7, 9]\n"
     ]
    }
   ],
   "source": [
    "numbers = [1, 2, 3, 4, 5, 6, 7, 8, 9, 10]\n",
    "print(numbers[2:7])     # Output: [3, 4, 5, 6, 7]\n",
    "print(numbers[::2])     # Output: [1, 3, 5, 7, 9]"
   ]
  },
  {
   "attachments": {},
   "cell_type": "markdown",
   "metadata": {},
   "source": [
    "In the first example, `numbers[2:7]` extracts a sublist from index 2 to 6, resulting in `[3, 4, 5, 6, 7]`. In the second example, `numbers[::2]` extracts every second element from the list, resulting in `[1, 3, 5, 7, 9]`."
   ]
  },
  {
   "attachments": {},
   "cell_type": "markdown",
   "metadata": {},
   "source": [
    "### List Methods:\n",
    "\n",
    "Python provides several built-in methods to perform various operations on lists. Some commonly used list methods include `append()`, `extend()`, `insert()`, `remove()`, `pop()`, `index()`, `count()`, `sort()`, and `reverse()`."
   ]
  },
  {
   "cell_type": "code",
   "execution_count": 8,
   "metadata": {},
   "outputs": [
    {
     "name": "stdout",
     "output_type": "stream",
     "text": [
      "[3, 1, 4, 1, 5, 9, 2, 6, 5, 7]\n",
      "[3, 1, 4, 1, 5, 9, 6, 5, 7]\n",
      "[1, 1, 3, 4, 5, 5, 6, 7, 9]\n"
     ]
    }
   ],
   "source": [
    "numbers = [3, 1, 4, 1, 5, 9, 2, 6, 5]\n",
    "numbers.append(7)\n",
    "print(numbers)   # Output: [3, 1, 4, 1, 5, 9, 2, 6, 5, 7]\n",
    "numbers.remove(2)\n",
    "print(numbers)   # Output: [3, 1, 4, 1, 5, 9, 6, 5, 7]\n",
    "numbers.sort()\n",
    "print(numbers)   # Output: [1, 1, 3, 4, 5, 5, 6, 7, 9]"
   ]
  },
  {
   "attachments": {},
   "cell_type": "markdown",
   "metadata": {},
   "source": [
    "In this example, `append(7)` adds the number 7 to the end of the list, `remove(2)` removes the first occurrence of the number 2, and `sort()` sorts the list in ascending order."
   ]
  },
  {
   "attachments": {},
   "cell_type": "markdown",
   "metadata": {},
   "source": [
    "### List Operations and Functions:\n",
    "In addition to methods, there are several operations and functions you can apply to lists. Some commonly used ones include `len()`, in operator, `max()`, `min()`, and `sum()`."
   ]
  },
  {
   "cell_type": "code",
   "execution_count": 9,
   "metadata": {},
   "outputs": [
    {
     "name": "stdout",
     "output_type": "stream",
     "text": [
      "9\n",
      "True\n",
      "9\n",
      "1\n",
      "36\n"
     ]
    }
   ],
   "source": [
    "numbers = [3, 1, 4, 1, 5, 9, 2, 6, 5]\n",
    "print(len(numbers))           # Output: 9\n",
    "print(5 in numbers)           # Output: True\n",
    "print(max(numbers))           # Output: 9\n",
    "print(min(numbers))           # Output: 1\n",
    "print(sum(numbers))           # Output: 36"
   ]
  },
  {
   "attachments": {},
   "cell_type": "markdown",
   "metadata": {},
   "source": [
    "In this example, `len(numbers)` returns the length of the list, `5 in numbers `checks if the number 5 is present in the list, `max(numbers)` returns the maximum value in the list, `min(numbers)` returns the minimum value, and `sum(numbers)` returns the sum of all the elements."
   ]
  },
  {
   "attachments": {},
   "cell_type": "markdown",
   "metadata": {},
   "source": [
    "## Dictionary Operators in Python\n",
    "Dictionaries are a versatile and powerful data structure in Python that store collections of key-value pairs. They allow efficient retrieval of values based on their associated keys. In addition to basic operations like creating, accessing, and modifying dictionaries, there are several operators you can use to manipulate dictionaries in Python."
   ]
  },
  {
   "attachments": {},
   "cell_type": "markdown",
   "metadata": {},
   "source": [
    "### Creating a Dictionary:\n",
    "To create a dictionary in Python, you enclose comma-separated key-value pairs within curly braces ({}) or by using the `dict()` constructor."
   ]
  },
  {
   "cell_type": "code",
   "execution_count": 10,
   "metadata": {},
   "outputs": [],
   "source": [
    "student = {\"name\": \"John\", \"age\": 20, \"grade\": \"A\"}"
   ]
  },
  {
   "attachments": {},
   "cell_type": "markdown",
   "metadata": {},
   "source": [
    "In this example, the variable `student` is assigned to dictionary with three key-value pairs"
   ]
  },
  {
   "attachments": {},
   "cell_type": "markdown",
   "metadata": {},
   "source": [
    "### Accessing Dictionary Values:\n",
    "You can access values in a dictionary by using square brackets [] and providing the corresponding key."
   ]
  },
  {
   "cell_type": "code",
   "execution_count": 11,
   "metadata": {},
   "outputs": [
    {
     "name": "stdout",
     "output_type": "stream",
     "text": [
      "John\n",
      "20\n"
     ]
    }
   ],
   "source": [
    "student = {\"name\": \"John\", \"age\": 20, \"grade\": \"A\"}\n",
    "print(student[\"name\"])   # Output: John\n",
    "print(student[\"age\"])    # Output: 20"
   ]
  },
  {
   "attachments": {},
   "cell_type": "markdown",
   "metadata": {},
   "source": [
    "In this example, `student[\"name\"]` retrieves the value associated with the key \"name\", which is \"John\". Similarly, `student[\"age\"]` retrieves the value 20 associated with the key \"age\"."
   ]
  },
  {
   "attachments": {},
   "cell_type": "markdown",
   "metadata": {},
   "source": [
    "### Modifying Dictionary Values:\n",
    "Dictionaries are mutable, meaning you can modify the values associated with keys. To update a value in a dictionary, you can assign a new value to a specific key."
   ]
  },
  {
   "cell_type": "code",
   "execution_count": 12,
   "metadata": {},
   "outputs": [
    {
     "name": "stdout",
     "output_type": "stream",
     "text": [
      "{'name': 'John', 'age': 21, 'grade': 'A'}\n"
     ]
    }
   ],
   "source": [
    "student = {\"name\": \"John\", \"age\": 20, \"grade\": \"A\"}\n",
    "student[\"age\"] = 21\n",
    "print(student)   # Output: {\"name\": \"John\", \"age\": 21, \"grade\": \"A\"}"
   ]
  },
  {
   "attachments": {},
   "cell_type": "markdown",
   "metadata": {},
   "source": [
    "In this example, the value associated with the key \"age\" is updated from 20 to 21 using the assignment statement `student[\"age\"] = 21`."
   ]
  },
  {
   "attachments": {},
   "cell_type": "markdown",
   "metadata": {},
   "source": [
    "### Adding and Removing Key-Value Pairs:\n",
    "To add a new key-value pair to a dictionary, you can assign a value to a new or existing key."
   ]
  },
  {
   "cell_type": "code",
   "execution_count": 13,
   "metadata": {},
   "outputs": [
    {
     "name": "stdout",
     "output_type": "stream",
     "text": [
      "{'name': 'John', 'age': 20, 'grade': 'A', 'city': 'New York'}\n"
     ]
    }
   ],
   "source": [
    "student = {\"name\": \"John\", \"age\": 20, \"grade\": \"A\"}\n",
    "student[\"city\"] = \"New York\"\n",
    "print(student)   # Output: {\"name\": \"John\", \"age\": 20, \"grade\": \"A\", \"city\": \"New York\"}"
   ]
  },
  {
   "attachments": {},
   "cell_type": "markdown",
   "metadata": {},
   "source": [
    "In this example, a new key-value pair \"city\": \"New York\" is added to the dictionary.\n",
    "\n",
    "To remove a key-value pair from a dictionary, you can use the del statement and provide the key."
   ]
  },
  {
   "cell_type": "code",
   "execution_count": 14,
   "metadata": {},
   "outputs": [
    {
     "name": "stdout",
     "output_type": "stream",
     "text": [
      "{'name': 'John', 'grade': 'A'}\n"
     ]
    }
   ],
   "source": [
    "student = {\"name\": \"John\", \"age\": 20, \"grade\": \"A\"}\n",
    "del student[\"age\"]\n",
    "print(student)   # Output: {\"name\": \"John\", \"grade\": \"A\"}"
   ]
  },
  {
   "attachments": {},
   "cell_type": "markdown",
   "metadata": {},
   "source": [
    "In this example, the key-value pair with the key \"age\" is removed from the dictionary using the `del` statement."
   ]
  },
  {
   "attachments": {},
   "cell_type": "markdown",
   "metadata": {},
   "source": [
    "### Dictionary Operators:\n",
    "Membership Operator (in)\n",
    "\n",
    "The in operator allows you to check if a key exists in a dictionary."
   ]
  },
  {
   "cell_type": "code",
   "execution_count": null,
   "metadata": {},
   "outputs": [],
   "source": [
    "student = {\"name\": \"John\", \"age\": 20, \"grade\": \"A\"}\n",
    "print(\"age\" in student)   # Output: True\n",
    "print(\"city\" in student)  # Output: False"
   ]
  },
  {
   "attachments": {},
   "cell_type": "markdown",
   "metadata": {},
   "source": [
    "In this example, `\"age\" in student` returns `True` because the key \"age\" exists in the dictionary, while `\"city\" in student` returns `False` because the key \"city\" does not exist.\n",
    "Equality Operator (==)\n",
    "\n",
    "The == operator can be used to compare two dictionaries for equality."
   ]
  },
  {
   "cell_type": "code",
   "execution_count": null,
   "metadata": {},
   "outputs": [],
   "source": [
    "student1 = {\"name\": \"John\", \"age\": 20, \"grade\": \"A\"}\n",
    "student2 = {\"name\": \"John\", \"age\": 20, \"grade\": \"A\"}\n",
    "print(student1 == student2)   # Output: True"
   ]
  },
  {
   "attachments": {},
   "cell_type": "markdown",
   "metadata": {},
   "source": [
    "In this example, `student1 == student2` returns `True` because both dictionaries have the same key-value pairs."
   ]
  },
  {
   "attachments": {},
   "cell_type": "markdown",
   "metadata": {},
   "source": [
    "## Functions in Python\n",
    "\n",
    "Functions are a fundamental concept in programming that allow you to group and organize reusable blocks of code. They provide a way to break down complex tasks into smaller, manageable units, making your code more modular, readable, and maintainable. Functions in Python are defined using the `def` keyword followed by a name, parentheses (), and a colon `:`."
   ]
  },
  {
   "attachments": {},
   "cell_type": "markdown",
   "metadata": {},
   "source": [
    "### Function Definition Syntax:\n",
    "The basic syntax for defining a function in Python is as follows:"
   ]
  },
  {
   "cell_type": "code",
   "execution_count": 15,
   "metadata": {},
   "outputs": [],
   "source": [
    "def function_name(parameters):\n",
    "    \"\"\"Optional docstring\"\"\"\n",
    "    # Code block\n",
    "    # ..."
   ]
  },
  {
   "attachments": {},
   "cell_type": "markdown",
   "metadata": {},
   "source": [
    "- The `def` keyword indicates the start of a function definition.<br>\n",
    "- `function_name` is the name you choose to give to your function. Choose a descriptive name that reflects the purpose of the function.<br>\n",
    "- `parameters` (also known as arguments) are values that can be passed to the function for it to operate on. Parameters are optional, and you can have multiple parameters separated by commas.<br>\n",
    "- The docstring, enclosed in triple quotes (`\"\"\" \"\"\"`), is an optional multiline string that provides a description of the function's purpose, inputs, and outputs. It is good practice to include docstrings to document your functions.<br>\n",
    "- The code block, indented under the function definition, contains the instructions and logic that will be executed when the function is called."
   ]
  },
  {
   "attachments": {},
   "cell_type": "markdown",
   "metadata": {},
   "source": [
    "### Function Call Syntax:\n",
    "\n",
    "To use a function and execute its code block, you need to call it. The syntax for calling a function is as follows:"
   ]
  },
  {
   "cell_type": "code",
   "execution_count": null,
   "metadata": {},
   "outputs": [],
   "source": [
    "function_name(arguments)"
   ]
  },
  {
   "attachments": {},
   "cell_type": "markdown",
   "metadata": {},
   "source": [
    "- `function_name` is the name of the function you want to call.\n",
    "- `arguments` are the actual values that you pass to the function's parameters. If the function does not have any parameters, you can omit the parentheses or leave them empty."
   ]
  },
  {
   "attachments": {},
   "cell_type": "markdown",
   "metadata": {},
   "source": [
    "### Return Statement:\n",
    "\n",
    "Functions can also have a return statement, which specifies the value(s) the function should return back to the caller. The return statement is optional, and if it is not included, the function will return `None` by default."
   ]
  },
  {
   "cell_type": "code",
   "execution_count": 17,
   "metadata": {},
   "outputs": [
    {
     "name": "stdout",
     "output_type": "stream",
     "text": [
      "8\n"
     ]
    }
   ],
   "source": [
    "def add_numbers(a, b):\n",
    "    \"\"\"Function to add two numbers and return the result.\"\"\"\n",
    "    result = a + b\n",
    "    return result\n",
    "\n",
    "# Calling the function and storing the result\n",
    "sum_result = add_numbers(3, 5)\n",
    "print(sum_result)   # Output: 8"
   ]
  },
  {
   "attachments": {},
   "cell_type": "markdown",
   "metadata": {},
   "source": [
    "In this example, the `add_numbers()` function takes two parameters `a` and `b`, adds them together, and returns the result. When we call the function `add_numbers(3, 5)`, it returns the sum of 3 and 5, which is 8. We store the returned value in the variable `sum_result` and print it to the console."
   ]
  },
  {
   "attachments": {},
   "cell_type": "markdown",
   "metadata": {},
   "source": [
    "### Benefits of Using Functions:\n",
    "Using functions in your code offers several benefits:\n",
    "\n",
    "- Code Reusability: Functions allow you to write reusable code that can be used in different parts of your program.\n",
    "- Modularity: Functions enable you to break down complex tasks into smaller, more manageable units, making your code easier to read and understand.\n",
    "- Abstraction: Functions abstract away implementation details, allowing you to focus on the high-level logic of your program without getting bogged down in the specific implementation details.\n",
    "- Encapsulation: Functions encapsulate functionality, meaning that the internal logic of a function is hidden from the rest of the program, making your code more organized and maintainable.\n",
    "- Testing and Debugging: Functions facilitate testing and debugging since you can isolate and test individual functions independently of the rest of the code."
   ]
  },
  {
   "attachments": {},
   "cell_type": "markdown",
   "metadata": {},
   "source": [
    "## Arguments and Keyword Arguments\n",
    "When defining and calling functions in Python, you can pass values to the function using arguments. Arguments are the values that are provided to a function when it is called, allowing the function to operate on those values."
   ]
  },
  {
   "attachments": {},
   "cell_type": "markdown",
   "metadata": {},
   "source": [
    "### Positional Arguments:\n",
    "Positional arguments are the most basic type of arguments in Python functions. They are passed to the function in the order specified by the function's parameter list. When calling a function with positional arguments, the values are matched to the parameters based on their position."
   ]
  },
  {
   "cell_type": "code",
   "execution_count": 18,
   "metadata": {},
   "outputs": [
    {
     "name": "stdout",
     "output_type": "stream",
     "text": [
      "Hello, Alice! You are 25 years old.\n"
     ]
    }
   ],
   "source": [
    "def greet(name, age):\n",
    "    \"\"\"A function that greets the user with their name and age.\"\"\"\n",
    "    print(f\"Hello, {name}! You are {age} years old.\")\n",
    "\n",
    "# Calling the function with positional arguments\n",
    "greet(\"Alice\", 25)"
   ]
  },
  {
   "attachments": {},
   "cell_type": "markdown",
   "metadata": {},
   "source": [
    "In this example, the `greet()` function expects two positional arguments: `name` and `age`. When we call the function `greet(\"Alice\", 25)`, the value \"Alice\" is assigned to the `name` parameter, and the value 25 is assigned to the `age` parameter. The function then prints a greeting message that includes the name and age."
   ]
  },
  {
   "attachments": {},
   "cell_type": "markdown",
   "metadata": {},
   "source": [
    "### Keyword Arguments:"
   ]
  },
  {
   "attachments": {},
   "cell_type": "markdown",
   "metadata": {},
   "source": [
    "Keyword arguments are arguments that are passed to a function with the parameter name explicitly specified. Instead of relying on the order of the arguments, you can specify the argument names and their corresponding values when calling the function."
   ]
  },
  {
   "cell_type": "code",
   "execution_count": 19,
   "metadata": {},
   "outputs": [
    {
     "name": "stdout",
     "output_type": "stream",
     "text": [
      "Hello, Alice! You are 25 years old.\n"
     ]
    }
   ],
   "source": [
    "def greet(name, age):\n",
    "    \"\"\"A function that greets the user with their name and age.\"\"\"\n",
    "    print(f\"Hello, {name}! You are {age} years old.\")\n",
    "\n",
    "# Calling the function with keyword arguments\n",
    "greet(name=\"Alice\", age=25)"
   ]
  },
  {
   "attachments": {},
   "cell_type": "markdown",
   "metadata": {},
   "source": [
    "In this example, we use keyword arguments to explicitly assign values to the `name` and `age` parameters. By calling `greet(name=\"Alice\", age=25)`, we specify that \"Alice\" should be assigned to the `name` parameter and 25 should be assigned to the `age` parameter. The function then prints the greeting message accordingly.\n",
    "\n",
    "Keyword arguments provide clarity and allow you to explicitly indicate which value corresponds to which parameter, which can be especially useful when a function has many parameters or when you want to skip some parameters and only provide values for specific ones."
   ]
  },
  {
   "attachments": {},
   "cell_type": "markdown",
   "metadata": {},
   "source": [
    "### Default Arguments:\n",
    "In Python, you can also define default values for function parameters. These default values are used when no corresponding argument is provided during the function call."
   ]
  },
  {
   "cell_type": "code",
   "execution_count": 20,
   "metadata": {},
   "outputs": [
    {
     "name": "stdout",
     "output_type": "stream",
     "text": [
      "Hello, Alice! You are 30 years old.\n",
      "Hello, Bob! You are 40 years old.\n"
     ]
    }
   ],
   "source": [
    "def greet(name, age=30):\n",
    "    \"\"\"A function that greets the user with their name and age (defaulting to 30 if not provided).\"\"\"\n",
    "    print(f\"Hello, {name}! You are {age} years old.\")\n",
    "\n",
    "# Calling the function with only the name argument\n",
    "greet(\"Alice\")\n",
    "\n",
    "# Calling the function with both name and age arguments\n",
    "greet(\"Bob\", 40)"
   ]
  },
  {
   "attachments": {},
   "cell_type": "markdown",
   "metadata": {},
   "source": [
    "In this example, the `greet()` function has a default value of 30 for the `age` parameter. If we call the function `greet(\"Alice\")` without providing an age argument, the default value of 30 is used. However, if we call the function `greet(\"Bob\", 40)` and provide an age argument, the provided value of 40 overrides the default value.\n",
    "\n",
    "Default arguments are useful when you want a parameter to have a commonly used value but still allow flexibility to override it if needed."
   ]
  },
  {
   "attachments": {},
   "cell_type": "markdown",
   "metadata": {},
   "source": [
    "### Arbitrary Arguments:\n",
    "Python also allows you to define functions that can accept a variable number of arguments. These are called arbitrary arguments, and they can be useful when you don't know in advance how many arguments will be passed to the function."
   ]
  },
  {
   "cell_type": "code",
   "execution_count": 22,
   "metadata": {},
   "outputs": [
    {
     "name": "stdout",
     "output_type": "stream",
     "text": [
      "6\n",
      "15\n",
      "21\n"
     ]
    }
   ],
   "source": [
    "def add_numbers(*args):\n",
    "    \"\"\"A function that sums up a variable number of numbers.\"\"\"\n",
    "    result = 0\n",
    "    for num in args:\n",
    "        result += num\n",
    "    return result\n",
    "\n",
    "# Calling the function with different numbers of arguments\n",
    "print(add_numbers(1, 2, 3))             # Output: 6\n",
    "print(add_numbers(1, 2, 3, 4, 5))       # Output: 15\n",
    "print(add_numbers(1, 2, 3, 4, 5, 6))    # Output: 21"
   ]
  },
  {
   "attachments": {},
   "cell_type": "markdown",
   "metadata": {},
   "source": [
    "In this example, the `add_numbers()` function uses the `*args` syntax to accept a variable number of arguments. Inside the function, we iterate over the `args` tuple and add up all the numbers.\n",
    "\n",
    "By using `*args`, we can pass any number of arguments to the function. The function will treat them as a tuple, and we can process them accordingly.\n"
   ]
  },
  {
   "cell_type": "code",
   "execution_count": null,
   "metadata": {},
   "outputs": [],
   "source": []
  }
 ],
 "metadata": {
  "kernelspec": {
   "display_name": "Python 3",
   "language": "python",
   "name": "python3"
  },
  "language_info": {
   "codemirror_mode": {
    "name": "ipython",
    "version": 3
   },
   "file_extension": ".py",
   "mimetype": "text/x-python",
   "name": "python",
   "nbconvert_exporter": "python",
   "pygments_lexer": "ipython3",
   "version": "3.10.6"
  },
  "orig_nbformat": 4
 },
 "nbformat": 4,
 "nbformat_minor": 2
}
