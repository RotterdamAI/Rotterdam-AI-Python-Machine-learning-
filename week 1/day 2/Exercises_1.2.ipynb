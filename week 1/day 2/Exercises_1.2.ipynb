{
 "cells": [
  {
   "attachments": {},
   "cell_type": "markdown",
   "metadata": {},
   "source": [
    "# Exercises week 1.2"
   ]
  },
  {
   "attachments": {},
   "cell_type": "markdown",
   "metadata": {},
   "source": [
    "\n",
    "## Structure"
   ]
  },
  {
   "attachments": {},
   "cell_type": "markdown",
   "metadata": {},
   "source": [
    "Each Exercise contains 3 different types of cells, 1 for the description of the exercise and the place where you need to write your code at the locations `#here your code`. Then there is the cell with the hint code, if you need help with the exercise because its not clear what to do or if you need an extra suggestion run the hint cell. At last we have the test cell, if you want to test if your solution is the correct one run this cell and it will tell you if you passed the exercise or not."
   ]
  },
  {
   "attachments": {},
   "cell_type": "markdown",
   "metadata": {},
   "source": [
    "## Exercise 1.2.1 return string of first and last character\n",
    "Given function `first_last_letter(text)` find the first and last letter and return that value as a string. <br>Example: `text = \"hello world\"` should return `\"hd\"`"
   ]
  },
  {
   "cell_type": "code",
   "execution_count": null,
   "metadata": {},
   "outputs": [],
   "source": [
    "def first_last_letter(text):\n",
    "    # your code here\n",
    "    return # your code here"
   ]
  },
  {
   "attachments": {},
   "cell_type": "markdown",
   "metadata": {},
   "source": [
    "### Hint first last letter\n",
    "Need a hint run the following cell"
   ]
  },
  {
   "cell_type": "code",
   "execution_count": 5,
   "metadata": {},
   "outputs": [
    {
     "name": "stdout",
     "output_type": "stream",
     "text": [
      "Remember we can acces the last letter by using text[-1]\n",
      "also note we can add 2 string together by using a +\n"
     ]
    }
   ],
   "source": [
    "from testexercises import hint_first_last_letter\n",
    "hint_first_last_letter()"
   ]
  },
  {
   "attachments": {},
   "cell_type": "markdown",
   "metadata": {},
   "source": [
    "### Test first last letter\n",
    "Want to check if your code is correct? Run the following cell!"
   ]
  },
  {
   "cell_type": "code",
   "execution_count": 6,
   "metadata": {},
   "outputs": [
    {
     "name": "stdout",
     "output_type": "stream",
     "text": [
      "=========>\n",
      "\u001b[92mAll tests passed!!!\u001b[0m\n"
     ]
    }
   ],
   "source": [
    "from testexercises import test_first_last_letter\n",
    "test_first_last_letter(first_last_letter)"
   ]
  },
  {
   "attachments": {},
   "cell_type": "markdown",
   "metadata": {},
   "source": [
    "## Exercise 1.2.2 reverse string\n",
    "Given function `reverse_string` return the reverse string of argument `text`. Example if `text=\"some text\""
   ]
  },
  {
   "cell_type": "code",
   "execution_count": null,
   "metadata": {},
   "outputs": [],
   "source": [
    "def reverse_string(text):\n",
    "    # Your code here\n",
    "    return #Your code here"
   ]
  },
  {
   "attachments": {},
   "cell_type": "markdown",
   "metadata": {},
   "source": [
    "\n",
    "### Hint reverse string\n",
    "Need a hint run the following cell"
   ]
  },
  {
   "cell_type": "code",
   "execution_count": 4,
   "metadata": {},
   "outputs": [
    {
     "name": "stdout",
     "output_type": "stream",
     "text": [
      "Have you thought about looping over the text? If your lazy you might figure out what [::-1] does.\n"
     ]
    }
   ],
   "source": [
    "from testexercises import hint_reverse_string\n",
    "hint_reverse_string()"
   ]
  },
  {
   "attachments": {},
   "cell_type": "markdown",
   "metadata": {},
   "source": [
    "\n",
    "### Test reverse string\n",
    "Want to check if your code is correct? Run the following cell!"
   ]
  },
  {
   "cell_type": "code",
   "execution_count": 3,
   "metadata": {},
   "outputs": [
    {
     "name": "stdout",
     "output_type": "stream",
     "text": [
      "=========>\n",
      "\u001b[92mAll tests passed!!!\u001b[0m\n"
     ]
    }
   ],
   "source": [
    "from testexercises import test_reverse_string\n",
    "test_reverse_string(reverse_string)"
   ]
  },
  {
   "attachments": {},
   "cell_type": "markdown",
   "metadata": {},
   "source": [
    "## Exercise 1.2.3 palindrome\n",
    "Given function `is_palindrome` will check if argument `text` is a palindrome which means that it reads the same forward as backwards. The return statement should be a boolean so it will return `True` if it is a palindrome and `False` if it isn't. Example: `\"racecar\"` should return `True` and \"test\" should return `False`."
   ]
  },
  {
   "cell_type": "code",
   "execution_count": 7,
   "metadata": {},
   "outputs": [],
   "source": [
    "def is_palindrome(text):\n",
    "    # Your code here\n",
    "    return # Your code here"
   ]
  },
  {
   "attachments": {},
   "cell_type": "markdown",
   "metadata": {},
   "source": [
    "### Hint palindrome \n",
    "Need a hint run the following cell"
   ]
  },
  {
   "cell_type": "code",
   "execution_count": 2,
   "metadata": {},
   "outputs": [
    {
     "name": "stdout",
     "output_type": "stream",
     "text": [
      "We can use the same logic as the previous exercise and check if its equal to the input.\n"
     ]
    }
   ],
   "source": [
    "from testexercises import hint_is_palindrome\n",
    "hint_is_palindrome()"
   ]
  },
  {
   "attachments": {},
   "cell_type": "markdown",
   "metadata": {},
   "source": [
    "### Test palindrome\n",
    "Want to check if your code is correct? Run the following cell!"
   ]
  },
  {
   "cell_type": "code",
   "execution_count": 3,
   "metadata": {},
   "outputs": [
    {
     "name": "stdout",
     "output_type": "stream",
     "text": [
      "=========>\n",
      "\u001b[92mAll tests passed!!!\u001b[0m\n"
     ]
    }
   ],
   "source": [
    "from testexercises import test_is_palindrome\n",
    "test_is_palindrome(is_palindrome)"
   ]
  },
  {
   "attachments": {},
   "cell_type": "markdown",
   "metadata": {},
   "source": [
    "## Exercise 1.2.4 string in list\n",
    "Given function `in_list(list_obj, string)` check if `string` is in `list_obj` where list_obj is a list. This function should return a boolean so it returns `True` if string in list and `False` if string is not in list"
   ]
  },
  {
   "cell_type": "code",
   "execution_count": null,
   "metadata": {},
   "outputs": [],
   "source": [
    "def in_list(list_obj, string):\n",
    "    # Your code here\n",
    "    return # Your code here"
   ]
  },
  {
   "attachments": {},
   "cell_type": "markdown",
   "metadata": {},
   "source": [
    "### hint string in list\n",
    "Need a hint run the following cell"
   ]
  },
  {
   "cell_type": "code",
   "execution_count": 2,
   "metadata": {},
   "outputs": [
    {
     "name": "stdout",
     "output_type": "stream",
     "text": [
      "you can check if the string is in the list_obj by using the `in` operator\n"
     ]
    }
   ],
   "source": [
    "from testexercises import hint_in_list\n",
    "hint_in_list()"
   ]
  },
  {
   "attachments": {},
   "cell_type": "markdown",
   "metadata": {},
   "source": [
    "### Test string in list\n",
    "Want to check if your code is correct? Run the following cell!"
   ]
  },
  {
   "cell_type": "code",
   "execution_count": 3,
   "metadata": {},
   "outputs": [
    {
     "name": "stdout",
     "output_type": "stream",
     "text": [
      "=========>\n",
      "\u001b[92mAll tests passed!!!\u001b[0m\n"
     ]
    }
   ],
   "source": [
    "from testexercises import test_in_list\n",
    "test_in_list(in_list)"
   ]
  },
  {
   "attachments": {},
   "cell_type": "markdown",
   "metadata": {},
   "source": [
    "## Exercise 1.2.5 Custom sort list\n",
    "Given function `custom_sort_list(target, indexes)` where `target` is a list of strings and `indexes` is a list of integers. Function `custom_sort_list(target, indexes)` should return a list where the `target` is sorted based on the indexes. Example `custom_sort_list([\"this\", \"is\", \"a\", \"test\", \"target\"], [3, 0, 1, 4, 2])` should return `[\"test\", \"this\", \"is\", \"target\", \"a\"]` "
   ]
  },
  {
   "cell_type": "code",
   "execution_count": null,
   "metadata": {},
   "outputs": [],
   "source": [
    "def custom_sort_list(target, indexes):\n",
    "    # your code here\n",
    "    return # your code here"
   ]
  },
  {
   "cell_type": "code",
   "execution_count": 1,
   "metadata": {},
   "outputs": [],
   "source": []
  },
  {
   "attachments": {},
   "cell_type": "markdown",
   "metadata": {},
   "source": [
    "### hint custom sort list\n",
    "Need a hint run the following cell"
   ]
  },
  {
   "cell_type": "code",
   "execution_count": null,
   "metadata": {},
   "outputs": [],
   "source": [
    "from testexercises import hint_custom_sort_list\n",
    "hint_custom_sort_list()"
   ]
  },
  {
   "attachments": {},
   "cell_type": "markdown",
   "metadata": {},
   "source": [
    "\n",
    "### Test string in list\n",
    "Want to check if your code is correct? Run the following cell!"
   ]
  },
  {
   "cell_type": "code",
   "execution_count": null,
   "metadata": {},
   "outputs": [],
   "source": [
    "from testexercises import test_custom_sort_list\n",
    "test_custom_sort_list(custom_sort_list)"
   ]
  },
  {
   "cell_type": "code",
   "execution_count": null,
   "metadata": {},
   "outputs": [],
   "source": []
  }
 ],
 "metadata": {
  "kernelspec": {
   "display_name": "Python 3",
   "language": "python",
   "name": "python3"
  },
  "language_info": {
   "codemirror_mode": {
    "name": "ipython",
    "version": 3
   },
   "file_extension": ".py",
   "mimetype": "text/x-python",
   "name": "python",
   "nbconvert_exporter": "python",
   "pygments_lexer": "ipython3",
   "version": "3.10.6"
  },
  "orig_nbformat": 4
 },
 "nbformat": 4,
 "nbformat_minor": 2
}
