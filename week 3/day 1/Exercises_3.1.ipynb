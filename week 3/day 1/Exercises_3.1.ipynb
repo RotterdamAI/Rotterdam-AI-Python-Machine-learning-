{
 "cells": [
  {
   "attachments": {},
   "cell_type": "markdown",
   "metadata": {},
   "source": [
    "# Exercises week 3.1"
   ]
  },
  {
   "attachments": {},
   "cell_type": "markdown",
   "metadata": {},
   "source": [
    "\n",
    "## Structure\n",
    "\n",
    "Each Exercise contains 3 different types of cells, 1 for the description of the exercise and the place where you need to write your code at the locations `#here your code`. Then there is the cell with the hint code, if you need help with the exercise because its not clear what to do or if you need an extra suggestion run the hint cell. At last we have the test cell, if you want to test if your solution is the correct one run this cell and it will tell you if you passed the exercise or not."
   ]
  },
  {
   "attachments": {},
   "cell_type": "markdown",
   "metadata": {},
   "source": [
    "### Importing modules"
   ]
  },
  {
   "cell_type": "code",
   "execution_count": 2,
   "metadata": {},
   "outputs": [],
   "source": [
    "import numpy as np"
   ]
  },
  {
   "attachments": {},
   "cell_type": "markdown",
   "metadata": {},
   "source": [
    "\n",
    "## Exercise 3.1.1 Matrix Multiplication\n",
    "Given function `matixmul(arr1, arr2)` return the result of a matrix multiplication"
   ]
  },
  {
   "cell_type": "code",
   "execution_count": null,
   "metadata": {},
   "outputs": [],
   "source": [
    "def matrixmul(arr1, arr2):\n",
    "    # Your code here\n",
    "    return # Your code here"
   ]
  },
  {
   "cell_type": "code",
   "execution_count": 1,
   "metadata": {},
   "outputs": [],
   "source": [
    "def matrixmul(arr1, arr2):\n",
    "    return arr1 @ arr2"
   ]
  },
  {
   "attachments": {},
   "cell_type": "markdown",
   "metadata": {},
   "source": [
    "\n",
    "### Hint Matrix Multiplication\n",
    "Need a hint run the following cell"
   ]
  },
  {
   "cell_type": "code",
   "execution_count": null,
   "metadata": {},
   "outputs": [],
   "source": [
    "from testexercises import hint_matrixmul\n",
    "hint_matrixmul()"
   ]
  },
  {
   "attachments": {},
   "cell_type": "markdown",
   "metadata": {},
   "source": [
    "### Test Matrix Multiplication\n",
    "Want to check if your code is correct? Run the following cell!"
   ]
  },
  {
   "cell_type": "code",
   "execution_count": null,
   "metadata": {},
   "outputs": [],
   "source": [
    "from testexercises import test_matrixmul\n",
    "test_matrixmul(matrixmul)"
   ]
  },
  {
   "attachments": {},
   "cell_type": "markdown",
   "metadata": {},
   "source": [
    "## Exercise 3.1.2 Create Matrix\n",
    "given function `matrix3x3()` return a 3x3 numpy matrix with values ranging from 2 to 10. Like:<br>\n",
    "[[ 2  3  4]                                                        \n",
    " [ 5  6  7]                                                             \n",
    " [ 8  9 10]]"
   ]
  },
  {
   "cell_type": "code",
   "execution_count": null,
   "metadata": {},
   "outputs": [],
   "source": [
    "def matrix3x3():\n",
    "    # Your code here\n",
    "    return # Your code here"
   ]
  },
  {
   "cell_type": "code",
   "execution_count": null,
   "metadata": {},
   "outputs": [],
   "source": [
    "def matrix3x3():\n",
    "    return np.arange(2,11).reshape(3,3)"
   ]
  },
  {
   "attachments": {},
   "cell_type": "markdown",
   "metadata": {},
   "source": [
    "### Hint create matrix\n",
    "Need a hint run the following cell"
   ]
  },
  {
   "cell_type": "code",
   "execution_count": null,
   "metadata": {},
   "outputs": [],
   "source": [
    "from testexercises import hint_matrix3x3\n",
    "hint_matrix3x3()"
   ]
  },
  {
   "attachments": {},
   "cell_type": "markdown",
   "metadata": {},
   "source": [
    "### Test create matrix\n",
    "Want to check if your code is correct? Run the following cell!"
   ]
  },
  {
   "cell_type": "code",
   "execution_count": null,
   "metadata": {},
   "outputs": [],
   "source": [
    "from testexercises import test_matrix3x3\n",
    "test_matrix3x3(matrix3x3)"
   ]
  },
  {
   "attachments": {},
   "cell_type": "markdown",
   "metadata": {},
   "source": [
    "## Exercise 3.1.3 append to array\n",
    "Given function `append_array(arr1, arr2)` append `arr2` to `arr1` and return the result"
   ]
  },
  {
   "cell_type": "code",
   "execution_count": null,
   "metadata": {},
   "outputs": [],
   "source": [
    "def append_array(arr1, arr2):\n",
    "    # Your code here\n",
    "    return # Your code here"
   ]
  },
  {
   "cell_type": "code",
   "execution_count": null,
   "metadata": {},
   "outputs": [],
   "source": [
    "def append_array(arr1, arr2):\n",
    "    return np.append(arr1, arr2)"
   ]
  },
  {
   "attachments": {},
   "cell_type": "markdown",
   "metadata": {},
   "source": [
    "### Hint append to array\n",
    "Need a hint run the following cell"
   ]
  },
  {
   "cell_type": "code",
   "execution_count": null,
   "metadata": {},
   "outputs": [],
   "source": [
    "from testexercises import hint_append_array\n",
    "hint_append_array()"
   ]
  },
  {
   "attachments": {},
   "cell_type": "markdown",
   "metadata": {},
   "source": [
    "### Test append to array\n",
    "Want to check if your code is correct? Run the following cell!"
   ]
  },
  {
   "cell_type": "code",
   "execution_count": null,
   "metadata": {},
   "outputs": [],
   "source": [
    "from testexercises import test_append_array\n",
    "test_append_array(append_array)"
   ]
  },
  {
   "attachments": {},
   "cell_type": "markdown",
   "metadata": {},
   "source": [
    "## Exercise 3.1.4 checkerboard pattern (hard)\n",
    "Given function `checkerboard_pattern(x, y)` where `x` is the width of the board and `y` is the height of the board. the pattern needs to be the following:<br>\n",
    "if `x = 4` and `y = 4`. the pattern would look like:<br>\n",
    "\n",
    "[<br>\n",
    "[0, 1, 0, 1]<br>\n",
    "[1, 0, 1, 0]<br>\n",
    "[0, 1, 0, 1]<br>\n",
    "[1, 0, 1, 0]<br>\n",
    "] \n",
    "\n",
    "and if `x = 8` and `y = 6`:<br>\n",
    "[<br>\n",
    "[0, 1, 0, 1, 0, 1, 0, 1]<br>\n",
    "[1, 0, 1, 0, 1, 0, 1, 0]<br>\n",
    "[0, 1, 0, 1, 0, 1, 0, 1]<br>\n",
    "[1, 0, 1, 0, 1, 0, 1, 0]<br>\n",
    "[0, 1, 0, 1, 0, 1, 0, 1]<br>\n",
    "[1, 0, 1, 0, 1, 0, 1, 0]<br>\n",
    "]<br>\n",
    "\n",
    "make sure you return the matrix as a numpy array"
   ]
  },
  {
   "cell_type": "code",
   "execution_count": 9,
   "metadata": {},
   "outputs": [
    {
     "data": {
      "text/plain": [
       "array([[0, 1, 0, 1],\n",
       "       [1, 0, 1, 0],\n",
       "       [0, 1, 0, 1],\n",
       "       [1, 0, 1, 0],\n",
       "       [0, 1, 0, 1],\n",
       "       [1, 0, 1, 0]])"
      ]
     },
     "execution_count": 9,
     "metadata": {},
     "output_type": "execute_result"
    }
   ],
   "source": []
  },
  {
   "attachments": {},
   "cell_type": "markdown",
   "metadata": {},
   "source": [
    "### Hint checkerboard pattern\n",
    "Need a hint run the following cell"
   ]
  },
  {
   "cell_type": "code",
   "execution_count": null,
   "metadata": {},
   "outputs": [],
   "source": [
    "from testexercises import hint_checkerboard_pattern\n",
    "hint_checkerboard_pattern()"
   ]
  },
  {
   "attachments": {},
   "cell_type": "markdown",
   "metadata": {},
   "source": [
    "### Test checkerboard pattern\n",
    "Want to check if your code is correct? Run the following cell!"
   ]
  },
  {
   "cell_type": "code",
   "execution_count": null,
   "metadata": {},
   "outputs": [],
   "source": [
    "from testexercises import test_checkerboard_pattern\n",
    "test_checkerboard_pattern(checkerboard_pattern)"
   ]
  },
  {
   "attachments": {},
   "cell_type": "markdown",
   "metadata": {},
   "source": []
  }
 ],
 "metadata": {
  "kernelspec": {
   "display_name": "Python 3",
   "language": "python",
   "name": "python3"
  },
  "language_info": {
   "codemirror_mode": {
    "name": "ipython",
    "version": 3
   },
   "file_extension": ".py",
   "mimetype": "text/x-python",
   "name": "python",
   "nbconvert_exporter": "python",
   "pygments_lexer": "ipython3",
   "version": "3.10.6"
  },
  "orig_nbformat": 4
 },
 "nbformat": 4,
 "nbformat_minor": 2
}
