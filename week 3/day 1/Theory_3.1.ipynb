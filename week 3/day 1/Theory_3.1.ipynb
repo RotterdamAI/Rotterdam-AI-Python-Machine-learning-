{
 "cells": [
  {
   "attachments": {},
   "cell_type": "markdown",
   "metadata": {},
   "source": [
    "# 3.2 Numpy and introduction to matrices\n",
    "\n",
    "## Core of numpy\n",
    "NumPy (Numerical Python) is a powerful library in Python for numerical computing. It provides efficient and convenient ways to work with arrays and matrices of numerical data. In this notebook, we will explore the basics of NumPy and its capabilities."
   ]
  },
  {
   "attachments": {},
   "cell_type": "markdown",
   "metadata": {},
   "source": [
    "### Array Creation\n",
    "\n",
    "An array is a fundamental data structure in NumPy. It is a grid of values, all of the same type, and is indexed by a tuple of nonnegative integers. NumPy provides various functions to create arrays."
   ]
  },
  {
   "attachments": {},
   "cell_type": "markdown",
   "metadata": {},
   "source": [
    "#### Creating Arrays using NumPy\n",
    "\n",
    "To create an array using NumPy, we can use the `np.array()` function and pass a list or tuple of elements. Each element represents an item in the array.\n",
    "\n",
    "For example:"
   ]
  },
  {
   "cell_type": "code",
   "execution_count": null,
   "metadata": {},
   "outputs": [],
   "source": [
    "import numpy as np\n",
    "\n",
    "# Create an array using NumPy\n",
    "array = np.array([1, 2, 3, 4, 5])\n",
    "\n",
    "# Display the array\n",
    "print(\"Array:\")\n",
    "print(array)"
   ]
  },
  {
   "attachments": {},
   "cell_type": "markdown",
   "metadata": {},
   "source": [
    "The above code creates an array with elements 1, 2, 3, 4, and 5 using the `np.array()` function."
   ]
  },
  {
   "attachments": {},
   "cell_type": "markdown",
   "metadata": {},
   "source": [
    "### Array Operations\n",
    "\n",
    "NumPy provides a wide range of operations that can be performed on arrays, including mathematical operations, indexing, slicing, and more."
   ]
  },
  {
   "attachments": {},
   "cell_type": "markdown",
   "metadata": {},
   "source": [
    "#### Mathematical Operations\n",
    "\n",
    "NumPy allows us to perform mathematical operations on arrays in an element-wise manner. These operations are performed on corresponding elements of the arrays.\n",
    "\n",
    "For example:"
   ]
  },
  {
   "cell_type": "code",
   "execution_count": null,
   "metadata": {},
   "outputs": [],
   "source": [
    "import numpy as np\n",
    "\n",
    "# Create two arrays\n",
    "array1 = np.array([1, 2, 3])\n",
    "array2 = np.array([4, 5, 6])\n",
    "\n",
    "# Perform element-wise addition\n",
    "result = array1 + array2\n",
    "\n",
    "# Display the result\n",
    "print(\"\\nElement-wise Addition:\")\n",
    "print(result)"
   ]
  },
  {
   "attachments": {},
   "cell_type": "markdown",
   "metadata": {},
   "source": [
    "The above code creates two arrays `array1` and `array2`. By using the + operator between the arrays, we perform element-wise addition. The result is a new array obtained by adding the corresponding elements of the two arrays."
   ]
  },
  {
   "attachments": {},
   "cell_type": "markdown",
   "metadata": {},
   "source": [
    "#### Indexing and Slicing\n",
    "\n",
    "NumPy arrays can be indexed and sliced to access specific elements or sub-arrays.\n"
   ]
  },
  {
   "cell_type": "code",
   "execution_count": null,
   "metadata": {},
   "outputs": [],
   "source": [
    "import numpy as np\n",
    "\n",
    "# Create an array\n",
    "array = np.array([1, 2, 3, 4, 5])\n",
    "\n",
    "# Accessing elements using indexing\n",
    "print(\"\\nElement at index 0:\", array[0])\n",
    "print(\"Element at index 3:\", array[3])\n",
    "\n",
    "# Slicing the array\n",
    "print(\"\\nSlice from index 1 to 3:\", array[1:4])"
   ]
  },
  {
   "attachments": {},
   "cell_type": "markdown",
   "metadata": {},
   "source": [
    "In the above code, we create an array and demonstrate indexing and slicing operations. We access individual elements using indexing and obtain sub-arrays using slicing."
   ]
  },
  {
   "attachments": {},
   "cell_type": "markdown",
   "metadata": {},
   "source": [
    "\n",
    "### Array Shape and Reshaping\n",
    "\n",
    "NumPy provides functions to obtain the shape of an array and reshape it as needed."
   ]
  },
  {
   "attachments": {},
   "cell_type": "markdown",
   "metadata": {},
   "source": [
    "#### Shape of an Array\n",
    "\n",
    "The shape of an array refers to the dimensions of the array. It tells us the number of rows and columns or the size of each dimension in the array.\n",
    "\n",
    "For example:"
   ]
  },
  {
   "cell_type": "code",
   "execution_count": null,
   "metadata": {},
   "outputs": [],
   "source": [
    "import numpy as np\n",
    "\n",
    "# Create an array\n",
    "array = np.array([[1, 2, 3], [4, 5, 6]])\n",
    "\n",
    "# Get the shape of the array\n",
    "shape = array.shape\n",
    "\n",
    "# Display the shape\n",
    "print(\"\\nShape of the array:\", shape)"
   ]
  },
  {
   "attachments": {},
   "cell_type": "markdown",
   "metadata": {},
   "source": [
    "The above code creates a 2D array and uses the shape attribute to obtain its shape."
   ]
  },
  {
   "attachments": {},
   "cell_type": "markdown",
   "metadata": {},
   "source": [
    "#### Reshaping an Array\n",
    "\n",
    "NumPy allows us to reshape an array into a different shape without changing its data. This can be useful when we want to rearrange the elements of an array or convert it into a different shape.\n",
    "\n",
    "For example:"
   ]
  },
  {
   "cell_type": "code",
   "execution_count": null,
   "metadata": {},
   "outputs": [],
   "source": [
    "import numpy as np\n",
    "\n",
    "# Create an array\n",
    "array = np.array([1, 2, 3, 4, 5, 6])\n",
    "\n",
    "# Reshape the array into a 2x3 matrix\n",
    "reshaped_array = array.reshape((2, 3))\n",
    "\n",
    "# Display the reshaped array\n",
    "print(\"\\nReshaped Array:\")\n",
    "print(reshaped_array)"
   ]
  },
  {
   "attachments": {},
   "cell_type": "markdown",
   "metadata": {},
   "source": [
    "The above code creates a 1D array and reshapes it into a 2x3 matrix using the `reshape()` function."
   ]
  },
  {
   "attachments": {},
   "cell_type": "markdown",
   "metadata": {},
   "source": [
    "## Matrices in numpy\n",
    "\n",
    "Numpy provides a specialized class called ndarray to represent matrices. A matrix is a 2-dimensional array, where each element is identified by a pair of indices (row index and column index). Matrices are extensively used in various mathematical and scientific applications, including linear algebra, statistics, and machine learning."
   ]
  },
  {
   "attachments": {},
   "cell_type": "markdown",
   "metadata": {},
   "source": [
    "### Creating Matrices\n",
    "\n",
    "To create a matrix in numpy, we can use the `np.array()` function and pass a nested list or nested tuple of elements. Each inner list or tuple represents a row of the matrix. The number of elements in each row should be the same."
   ]
  },
  {
   "cell_type": "code",
   "execution_count": null,
   "metadata": {},
   "outputs": [],
   "source": [
    "import numpy as np\n",
    "\n",
    "# Create a matrix using NumPy\n",
    "matrix = np.array([[1, 2, 3],\n",
    "                   [4, 5, 6],\n",
    "                   [7, 8, 9]])"
   ]
  },
  {
   "attachments": {},
   "cell_type": "markdown",
   "metadata": {},
   "source": [
    "In the above example, we create a 3x3 matrix with elements ranging from 1 to 9. The outer brackets `[ ]` represent the outer list, and the inner brackets `[ ]` represent the rows of the matrix."
   ]
  },
  {
   "attachments": {},
   "cell_type": "markdown",
   "metadata": {},
   "source": [
    "### Matrix Properties\n",
    "\n",
    "Once we have created a matrix, we can access its properties using various attributes and methods provided by numpy."
   ]
  },
  {
   "attachments": {},
   "cell_type": "markdown",
   "metadata": {},
   "source": [
    "#### Shape\n",
    "The shape of a matrix represents the number of rows and columns it contains. We can retrieve the shape of a matrix using the `shape` attribute.\n"
   ]
  },
  {
   "cell_type": "code",
   "execution_count": null,
   "metadata": {},
   "outputs": [],
   "source": [
    "shape = matrix.shape"
   ]
  },
  {
   "attachments": {},
   "cell_type": "markdown",
   "metadata": {},
   "source": [
    "The shape attribute returns a tuple (rows, columns)."
   ]
  },
  {
   "attachments": {},
   "cell_type": "markdown",
   "metadata": {},
   "source": [
    "#### Size\n",
    "The size of a matrix represents the total number of elements it contains. We can retrieve the size of a matrix using the `size` attribute."
   ]
  },
  {
   "cell_type": "code",
   "execution_count": null,
   "metadata": {},
   "outputs": [],
   "source": [
    "size = matrix.size"
   ]
  },
  {
   "attachments": {},
   "cell_type": "markdown",
   "metadata": {},
   "source": [
    "#### Data Type\n",
    "The data type of the elements in a matrix can be obtained using the dtype attribute."
   ]
  },
  {
   "cell_type": "code",
   "execution_count": null,
   "metadata": {},
   "outputs": [],
   "source": [
    "data_type = matrix.dtype"
   ]
  },
  {
   "attachments": {},
   "cell_type": "markdown",
   "metadata": {},
   "source": [
    "The dtype attribute returns the data type, such as `int64`, `float64`, etc."
   ]
  },
  {
   "attachments": {},
   "cell_type": "markdown",
   "metadata": {},
   "source": [
    "### Matrix Operations\n",
    "\n",
    "Once we have created a matrix in numpy, we can perform various operations on it, including arithmetic operations, indexing, slicing, and matrix-\n",
    "specific operations like transposition and matrix multiplication."
   ]
  },
  {
   "attachments": {},
   "cell_type": "markdown",
   "metadata": {},
   "source": [
    "#### Arithmetic Operations\n",
    "Numpy allows us to perform arithmetic operations on matrices, such as addition, subtraction, multiplication, and division. These operations are applied element-wise."
   ]
  },
  {
   "cell_type": "code",
   "execution_count": null,
   "metadata": {},
   "outputs": [],
   "source": [
    "import numpy as np\n",
    "\n",
    "# Create two matrices\n",
    "matrix1 = np.array([[1, 2],\n",
    "                    [3, 4]])\n",
    "matrix2 = np.array([[5, 6],\n",
    "                    [7, 8]])\n",
    "\n",
    "# Perform matrix addition\n",
    "result = matrix1 + matrix2"
   ]
  },
  {
   "attachments": {},
   "cell_type": "markdown",
   "metadata": {},
   "source": [
    "The `result` matrix will contain the element-wise sum of `matrix1` and `matrix2`."
   ]
  },
  {
   "attachments": {},
   "cell_type": "markdown",
   "metadata": {},
   "source": [
    "#### Indexing and Slicing\n",
    "We can access specific elements or subsets of a matrix using indexing and slicing. Indexing refers to accessing individual elements, while slicing allows us to extract a portion of the matrix."
   ]
  },
  {
   "cell_type": "code",
   "execution_count": null,
   "metadata": {},
   "outputs": [],
   "source": [
    "import numpy as np\n",
    "\n",
    "# Access a specific element\n",
    "element = matrix[0, 0]\n",
    "\n",
    "# Extract a subset of the matrix\n",
    "subset = matrix[1:3, 1:3]"
   ]
  },
  {
   "attachments": {},
   "cell_type": "markdown",
   "metadata": {},
   "source": [
    "In the above example, we access the element at the first row and first column using indexing. We also extract a subset of the matrix using slicing, which includes rows 1 and 2 and columns 1 and 2."
   ]
  },
  {
   "attachments": {},
   "cell_type": "markdown",
   "metadata": {},
   "source": [
    "#### Matrix Transposition\n",
    "Transposing a matrix means interchanging its rows with columns. Numpy provides the `transpose()` function to perform matrix transposition."
   ]
  },
  {
   "cell_type": "code",
   "execution_count": null,
   "metadata": {},
   "outputs": [],
   "source": [
    "import numpy as np\n",
    "\n",
    "# Transpose a matrix\n",
    "transposed_matrix = np.transpose(matrix)"
   ]
  },
  {
   "attachments": {},
   "cell_type": "markdown",
   "metadata": {},
   "source": [
    "The transposed_matrix will contain the transposed form of the original matrix."
   ]
  },
  {
   "attachments": {},
   "cell_type": "markdown",
   "metadata": {},
   "source": [
    "#### Matrix Multiplication\n",
    "Numpy provides the `@` operator or the `dot()` function to perform matrix multiplication."
   ]
  },
  {
   "cell_type": "code",
   "execution_count": null,
   "metadata": {},
   "outputs": [],
   "source": [
    "import numpy as np\n",
    "\n",
    "# Create two matrices\n",
    "matrix1 = np.array([[1, 2],\n",
    "                    [3, 4]])\n",
    "matrix2 = np.array([[5, 6],\n",
    "                    [7, 8]])\n",
    "\n",
    "# Perform matrix multiplication\n",
    "result = matrix1 @ matrix2"
   ]
  },
  {
   "attachments": {},
   "cell_type": "markdown",
   "metadata": {},
   "source": [
    "The result matrix will contain the product of matrix1 and matrix2 obtained through matrix multiplication."
   ]
  },
  {
   "cell_type": "markdown",
   "metadata": {},
   "source": []
  }
 ],
 "metadata": {
  "language_info": {
   "name": "python"
  },
  "orig_nbformat": 4
 },
 "nbformat": 4,
 "nbformat_minor": 2
}
