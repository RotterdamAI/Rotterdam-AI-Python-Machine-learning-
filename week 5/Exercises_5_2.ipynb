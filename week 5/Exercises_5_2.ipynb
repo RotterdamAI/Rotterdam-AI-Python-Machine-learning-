{
 "cells": [
  {
   "cell_type": "markdown",
   "metadata": {},
   "source": [
    "# Full-connected neural networks - Classification"
   ]
  },
  {
   "cell_type": "markdown",
   "metadata": {},
   "source": [
    "In this notebook we will learn how to apply neural networks to classification problems. You have already seen how neural networks work, and how they are trained. The biggest difference between regression and classification applications is the choice of cost function."
   ]
  },
  {
   "cell_type": "markdown",
   "metadata": {},
   "source": [
    "## 1 The MNIST dataset - the \"Hello, world!\" of neural network classification"
   ]
  },
  {
   "cell_type": "code",
   "execution_count": 1,
   "metadata": {},
   "outputs": [],
   "source": [
    "# Library om YouTube videos te importeren \n",
    "\n",
    "from IPython.display import YouTubeVideo, Image"
   ]
  },
  {
   "cell_type": "markdown",
   "metadata": {},
   "source": [
    "### 1.1 The dataset"
   ]
  },
  {
   "cell_type": "markdown",
   "metadata": {},
   "source": [
    "The MNIST dataset is a well-known collection of handwritten digits used for machine learning and computer vision research. It consists of 70,000 grayscale images of handwritten digits, each of size 28x28 pixels. The digits are labeled with their corresponding numerical values, ranging from 0 to 9.\n",
    "\n",
    "The MNIST dataset has been widely used as a benchmark for evaluating the performance of various machine learning algorithms, particularly those that involve image recognition or classification. The dataset is often used to train and test algorithms for tasks such as digit recognition, character recognition, and image classification. The MNIST dataset has also played a key role in the development of deep learning algorithms, including convolutional neural networks (CNNs), which have achieved state-of-the-art performance on the task of recognizing handwritten digits."
   ]
  },
  {
   "cell_type": "code",
   "execution_count": 2,
   "metadata": {},
   "outputs": [
    {
     "name": "stderr",
     "output_type": "stream",
     "text": [
      "2023-03-06 14:53:30.925557: I tensorflow/core/platform/cpu_feature_guard.cc:193] This TensorFlow binary is optimized with oneAPI Deep Neural Network Library (oneDNN) to use the following CPU instructions in performance-critical operations:  AVX2 FMA\n",
      "To enable them in other operations, rebuild TensorFlow with the appropriate compiler flags.\n",
      "2023-03-06 14:53:31.065510: W tensorflow/compiler/xla/stream_executor/platform/default/dso_loader.cc:64] Could not load dynamic library 'libcudart.so.11.0'; dlerror: libcudart.so.11.0: cannot open shared object file: No such file or directory; LD_LIBRARY_PATH: :/home/vikram/.mujoco/mujoco200/bin\n",
      "2023-03-06 14:53:31.065528: I tensorflow/compiler/xla/stream_executor/cuda/cudart_stub.cc:29] Ignore above cudart dlerror if you do not have a GPU set up on your machine.\n",
      "2023-03-06 14:53:31.796735: W tensorflow/compiler/xla/stream_executor/platform/default/dso_loader.cc:64] Could not load dynamic library 'libnvinfer.so.7'; dlerror: libnvinfer.so.7: cannot open shared object file: No such file or directory; LD_LIBRARY_PATH: :/home/vikram/.mujoco/mujoco200/bin\n",
      "2023-03-06 14:53:31.796844: W tensorflow/compiler/xla/stream_executor/platform/default/dso_loader.cc:64] Could not load dynamic library 'libnvinfer_plugin.so.7'; dlerror: libnvinfer_plugin.so.7: cannot open shared object file: No such file or directory; LD_LIBRARY_PATH: :/home/vikram/.mujoco/mujoco200/bin\n",
      "2023-03-06 14:53:31.796852: W tensorflow/compiler/tf2tensorrt/utils/py_utils.cc:38] TF-TRT Warning: Cannot dlopen some TensorRT libraries. If you would like to use Nvidia GPU with TensorRT, please make sure the missing libraries mentioned above are installed properly.\n"
     ]
    }
   ],
   "source": [
    "import numpy as np\n",
    "import pandas as pd\n",
    "import matplotlib.pyplot as plt\n",
    "import tensorflow as tf\n",
    "from tensorflow import keras\n",
    "\n",
    "# Load the data using the Keras datasets API and split it between train and test sets\n",
    "(x_train, y_train), (x_test, y_test) = keras.datasets.mnist.load_data()"
   ]
  },
  {
   "cell_type": "markdown",
   "metadata": {},
   "source": [
    "### 1.2 Visualizing the dataset"
   ]
  },
  {
   "cell_type": "code",
   "execution_count": 3,
   "metadata": {},
   "outputs": [
    {
     "data": {
      "text/plain": [
       "(60000, 28, 28)"
      ]
     },
     "execution_count": 3,
     "metadata": {},
     "output_type": "execute_result"
    }
   ],
   "source": [
    "x_train.shape # 60,000 training examples of size 28 pixels by 28 pixels"
   ]
  },
  {
   "cell_type": "code",
   "execution_count": 4,
   "metadata": {},
   "outputs": [
    {
     "data": {
      "text/plain": [
       "(60000,)"
      ]
     },
     "execution_count": 4,
     "metadata": {},
     "output_type": "execute_result"
    }
   ],
   "source": [
    "y_train.shape # 60,000 labels"
   ]
  },
  {
   "cell_type": "code",
   "execution_count": 5,
   "metadata": {},
   "outputs": [
    {
     "data": {
      "text/plain": [
       "255"
      ]
     },
     "execution_count": 5,
     "metadata": {},
     "output_type": "execute_result"
    }
   ],
   "source": [
    "x_train[0].max()"
   ]
  },
  {
   "cell_type": "code",
   "execution_count": 6,
   "metadata": {},
   "outputs": [
    {
     "data": {
      "text/plain": [
       "0"
      ]
     },
     "execution_count": 6,
     "metadata": {},
     "output_type": "execute_result"
    }
   ],
   "source": [
    "x_train[0].min()"
   ]
  },
  {
   "cell_type": "code",
   "execution_count": 7,
   "metadata": {},
   "outputs": [
    {
     "data": {
      "image/png": "[encoded data removed]",
      "text/plain": [
       "<Figure size 640x480 with 9 Axes>"
      ]
     },
     "metadata": {},
     "output_type": "display_data"
    }
   ],
   "source": [
    "# Plot a random sample from the dataset\n",
    "indices = np.random.choice(len(x_train), size=9, replace=False)\n",
    "\n",
    "for count, value in enumerate(indices):\n",
    "    plt.subplot(3, 3, count+1)\n",
    "    plt.imshow(x_train[value], cmap=\"gray\")\n",
    "    plt.title(y_train[value])\n",
    "\n",
    "plt.tight_layout()\n",
    "plt.show()"
   ]
  },
  {
   "cell_type": "markdown",
   "metadata": {},
   "source": [
    "### 1.3 Building the network"
   ]
  },
  {
   "cell_type": "markdown",
   "metadata": {},
   "source": [
    "When building the classifier notebook there are a few things to keep in mind:\n",
    "1. The shape of the input data is 2 dimensional. A fully-connected neural network can only handle 1-dimensional data. So we need to \"flatten\" the data into 1 dimension.\n",
    "2. The values of the pixels are between 0 and 255. A neural network is better at handling normalized data, with values between 0 and 1. So we have to rescale our input pixel values.\n",
    "3. This is a classification problem with multiple possible labels. The correct loss function to use in this case is the \"categorical cross entropy\" loss."
   ]
  },
  {
   "cell_type": "code",
   "execution_count": 8,
   "metadata": {},
   "outputs": [
    {
     "name": "stderr",
     "output_type": "stream",
     "text": [
      "2023-03-06 14:53:33.886861: E tensorflow/compiler/xla/stream_executor/cuda/cuda_driver.cc:267] failed call to cuInit: CUDA_ERROR_NO_DEVICE: no CUDA-capable device is detected\n",
      "2023-03-06 14:53:33.886901: I tensorflow/compiler/xla/stream_executor/cuda/cuda_diagnostics.cc:156] kernel driver does not appear to be running on this host (vikram-Precision-7720): /proc/driver/nvidia/version does not exist\n",
      "2023-03-06 14:53:33.887560: I tensorflow/core/platform/cpu_feature_guard.cc:193] This TensorFlow binary is optimized with oneAPI Deep Neural Network Library (oneDNN) to use the following CPU instructions in performance-critical operations:  AVX2 FMA\n",
      "To enable them in other operations, rebuild TensorFlow with the appropriate compiler flags.\n"
     ]
    }
   ],
   "source": [
    "# Import necessary libraries from keras\n",
    "from tensorflow.keras import layers\n",
    "\n",
    "# Build a model using the \"Sequential\" API\n",
    "model = keras.Sequential([\n",
    "      layers.Flatten(input_shape=(28, 28)), # Flatten 2D input to 1D input\n",
    "      layers.Dense(128, activation='relu'), # First hidden layer with 128 neurons, ReLU activation\n",
    "      layers.Dense(10) # Final layer to predict the label, with 10 classes\n",
    "  ])"
   ]
  },
  {
   "cell_type": "markdown",
   "metadata": {},
   "source": [
    "This model will output 10 numbers. We need to convert these 10 numbers into probabilities, and then create a loss function on top of these probabilities that checks whether the true label has the highest probability. Both of these steps can be done with one loss function in Keras, which is the \"sparse categorical crossentropy\" loss function. The parameter \"from_logits = True\" ensures that ther output of the neural network is first converted into a log probability. (If we didn't do from_logits=True, we would first have to apply a softmax activation layer on the output to convert the output to probabilities)."
   ]
  },
  {
   "cell_type": "code",
   "execution_count": 9,
   "metadata": {},
   "outputs": [],
   "source": [
    "model.compile(\n",
    "    optimizer=tf.keras.optimizers.Adam(0.001), # The Adam optimizer (an improvement over stochastic gradient descent)\n",
    "    loss=tf.keras.losses.SparseCategoricalCrossentropy(from_logits=True), # Loss function for multi-class classification\n",
    "    metrics=[tf.keras.metrics.SparseCategoricalAccuracy()], # Print the accuracy after each epoch\n",
    ")"
   ]
  },
  {
   "cell_type": "markdown",
   "metadata": {},
   "source": [
    "### 1.4 Training the model"
   ]
  },
  {
   "cell_type": "markdown",
   "metadata": {},
   "source": [
    "Now we feed the training features and labels to the model and train it for several epochs using backpropagation and the Adam optimizer."
   ]
  },
  {
   "cell_type": "code",
   "execution_count": 10,
   "metadata": {},
   "outputs": [
    {
     "name": "stdout",
     "output_type": "stream",
     "text": [
      "Epoch 1/10\n",
      "422/422 [==============================] - 2s 3ms/step - loss: 4.7228 - sparse_categorical_accuracy: 0.8656 - val_loss: 1.0635 - val_sparse_categorical_accuracy: 0.9128\n",
      "Epoch 2/10\n",
      "422/422 [==============================] - 1s 3ms/step - loss: 0.7835 - sparse_categorical_accuracy: 0.9143 - val_loss: 0.5823 - val_sparse_categorical_accuracy: 0.9233\n",
      "Epoch 3/10\n",
      "422/422 [==============================] - 1s 3ms/step - loss: 0.4003 - sparse_categorical_accuracy: 0.9302 - val_loss: 0.4513 - val_sparse_categorical_accuracy: 0.9295\n",
      "Epoch 4/10\n",
      "422/422 [==============================] - 1s 3ms/step - loss: 0.2709 - sparse_categorical_accuracy: 0.9439 - val_loss: 0.3832 - val_sparse_categorical_accuracy: 0.9365\n",
      "Epoch 5/10\n",
      "422/422 [==============================] - 1s 3ms/step - loss: 0.2015 - sparse_categorical_accuracy: 0.9539 - val_loss: 0.3459 - val_sparse_categorical_accuracy: 0.9435\n",
      "Epoch 6/10\n",
      "422/422 [==============================] - 1s 4ms/step - loss: 0.1630 - sparse_categorical_accuracy: 0.9596 - val_loss: 0.3540 - val_sparse_categorical_accuracy: 0.9445\n",
      "Epoch 7/10\n",
      "422/422 [==============================] - 2s 4ms/step - loss: 0.1492 - sparse_categorical_accuracy: 0.9624 - val_loss: 0.3187 - val_sparse_categorical_accuracy: 0.9497\n",
      "Epoch 8/10\n",
      "422/422 [==============================] - 1s 3ms/step - loss: 0.1504 - sparse_categorical_accuracy: 0.9639 - val_loss: 0.3061 - val_sparse_categorical_accuracy: 0.9523\n",
      "Epoch 9/10\n",
      "422/422 [==============================] - 1s 2ms/step - loss: 0.1321 - sparse_categorical_accuracy: 0.9667 - val_loss: 0.2786 - val_sparse_categorical_accuracy: 0.9510\n",
      "Epoch 10/10\n",
      "422/422 [==============================] - 1s 3ms/step - loss: 0.1216 - sparse_categorical_accuracy: 0.9682 - val_loss: 0.2596 - val_sparse_categorical_accuracy: 0.9560\n"
     ]
    }
   ],
   "source": [
    "history = model.fit(x_train, y_train, validation_split=0.1, epochs=10, batch_size=128, verbose=1)"
   ]
  },
  {
   "cell_type": "markdown",
   "metadata": {},
   "source": [
    "We can see the accuracy is over 95% at the end of the last epoch!"
   ]
  },
  {
   "cell_type": "markdown",
   "metadata": {},
   "source": [
    "### 1.5 Visualize the results"
   ]
  },
  {
   "cell_type": "code",
   "execution_count": 11,
   "metadata": {},
   "outputs": [
    {
     "data": {
      "text/plain": [
       "<matplotlib.legend.Legend at 0x7f0e3cd40130>"
      ]
     },
     "execution_count": 11,
     "metadata": {},
     "output_type": "execute_result"
    },
    {
     "data": {
      "image/png": "[encoded data removed]",
      "text/plain": [
       "<Figure size 640x480 with 1 Axes>"
      ]
     },
     "metadata": {},
     "output_type": "display_data"
    }
   ],
   "source": [
    "plt.plot(history.history['loss'], label='Training loss')\n",
    "plt.plot(history.history['val_loss'], 'g', label='Validation loss')\n",
    "plt.xlabel('Epoch #')\n",
    "plt.ylabel('Loss (Categorical Cross-entropy)')\n",
    "plt.title('Loss')\n",
    "plt.legend()"
   ]
  },
  {
   "cell_type": "code",
   "execution_count": 12,
   "metadata": {},
   "outputs": [
    {
     "name": "stdout",
     "output_type": "stream",
     "text": [
      "Test loss: 0.30806535482406616\n",
      "Test accuracy: 0.9487000107765198\n"
     ]
    }
   ],
   "source": [
    "# Evaluate model on test set\n",
    "\n",
    "score = model.evaluate(x_test, y_test, verbose=0)\n",
    "print(\"Test loss:\", score[0])\n",
    "print(\"Test accuracy:\", score[1])"
   ]
  },
  {
   "cell_type": "markdown",
   "metadata": {},
   "source": [
    "Test your model! The code below lets you draw a digit using the mouse. Save your image using the \"Save\" button then close the image window. You will then have access to the image you drew in the \"test_img\" variable. Run the code in the cells below to test your model's predictions (or to test how good your handwriting is using a mouse)."
   ]
  },
  {
   "cell_type": "code",
   "execution_count": 13,
   "metadata": {},
   "outputs": [],
   "source": [
    "from PIL import ImageTk, Image, ImageDraw, ImageChops \n",
    "import PIL\n",
    "from tkinter import *\n",
    "\n",
    "width = 300  # canvas width\n",
    "height = 300 # canvas height\n",
    "center = height//2\n",
    "white = (255) # canvas back\n",
    "\n",
    "test_img = np.array((28,28))\n",
    "\n",
    "def save():\n",
    "    global test_img\n",
    "    invert_image = ImageChops.invert(output_image)\n",
    "    new_image = invert_image.resize((28, 28))\n",
    "    test_img = np.array(new_image)\n",
    "\n",
    "def paint(event):\n",
    "    x1, y1 = (event.x - 1), (event.y - 1)\n",
    "    x2, y2 = (event.x + 1), (event.y + 1)\n",
    "    canvas.create_oval(x1, y1, x2, y2, fill=\"black\",width=5)\n",
    "    draw.line([x1, y1, x2, y2],fill=\"black\",width=5)\n",
    "\n",
    "master = Tk()\n",
    "\n",
    "# create a tkinter canvas to draw on\n",
    "canvas = Canvas(master, width=width, height=height, bg='white')\n",
    "canvas.pack()\n",
    "\n",
    "# create an empty PIL image and draw object to draw on\n",
    "output_image = PIL.Image.new(\"L\", (width, height), white)\n",
    "draw = ImageDraw.Draw(output_image)\n",
    "canvas.pack(expand=YES, fill=BOTH)\n",
    "canvas.bind(\"<B1-Motion>\", paint)\n",
    "\n",
    "# add a button to save the image\n",
    "button=Button(text=\"save\",command=save)\n",
    "button.pack()\n",
    "\n",
    "master.mainloop()"
   ]
  },
  {
   "cell_type": "code",
   "execution_count": 14,
   "metadata": {},
   "outputs": [
    {
     "data": {
      "text/plain": [
       "<matplotlib.image.AxesImage at 0x7f0e3ef200a0>"
      ]
     },
     "execution_count": 14,
     "metadata": {},
     "output_type": "execute_result"
    },
    {
     "data": {
      "image/png": "[encoded data removed]",
      "text/plain": [
       "<Figure size 640x480 with 1 Axes>"
      ]
     },
     "metadata": {},
     "output_type": "display_data"
    }
   ],
   "source": [
    "plt.imshow(test_img)"
   ]
  },
  {
   "cell_type": "code",
   "execution_count": 15,
   "metadata": {},
   "outputs": [
    {
     "name": "stdout",
     "output_type": "stream",
     "text": [
      "1/1 [==============================] - 0s 72ms/step\n"
     ]
    }
   ],
   "source": [
    "# Reshape the image dimensions to feed it to the model\n",
    "reshaped_img = np.expand_dims(test_img, 0)\n",
    "\n",
    "# Make prediction\n",
    "pred = model.predict(reshaped_img)\n",
    "\n",
    "# Check which digit this corresponds to\n",
    "predicted_digit = np.argmax(pred)"
   ]
  },
  {
   "cell_type": "code",
   "execution_count": 16,
   "metadata": {},
   "outputs": [
    {
     "data": {
      "text/plain": [
       "array([[ -18.640743,  -19.822104,    7.636673,  -13.451088,  -22.53234 ,\n",
       "         -38.351646, -101.98927 ,   20.833525,   -4.510948,   -5.810945]],\n",
       "      dtype=float32)"
      ]
     },
     "execution_count": 16,
     "metadata": {},
     "output_type": "execute_result"
    }
   ],
   "source": [
    "pred"
   ]
  },
  {
   "cell_type": "code",
   "execution_count": 17,
   "metadata": {},
   "outputs": [
    {
     "data": {
      "text/plain": [
       "7"
      ]
     },
     "execution_count": 17,
     "metadata": {},
     "output_type": "execute_result"
    }
   ],
   "source": [
    "predicted_digit"
   ]
  },
  {
   "cell_type": "markdown",
   "metadata": {},
   "source": [
    "Do you get good predictions on your personal handwritten digits? If not, take a look at the images in the training set again, and compare them to what your handwritten digits look like. This is a good lesson to learn - your training performance can be fantastic, but if your training data is not representative of the real world data you feed your trained model, your performance in the real world will not be up to standards!"
   ]
  },
  {
   "cell_type": "markdown",
   "metadata": {},
   "source": [
    "## 5 Exercises"
   ]
  },
  {
   "cell_type": "markdown",
   "metadata": {},
   "source": [
    "#### Question 1: Visit the website of the [TensorFlow Playground](https://playground.tensorflow.org/). Under \"Problem type\", select \"Classification\". On the left, select the fourth dataset, that looks like a spiral pattern. Make the \"Ratio of training to test data:\" 80%.\n",
    "\n",
    "#### Your task in this question is to play around with the number of hidden layers, number of neurons per hidden layer, learning rate, batch size, and activation functions, until you get a network that can make a good classification (low loss) on the training dataset."
   ]
  },
  {
   "cell_type": "markdown",
   "metadata": {},
   "source": [
    "#### Question 2: Once you have a model that works, implement it in this notebook in TensorFlow. The code below creates the dataset for you."
   ]
  },
  {
   "cell_type": "code",
   "execution_count": 51,
   "metadata": {},
   "outputs": [
    {
     "data": {
      "text/plain": [
       "<AxesSubplot: xlabel='x1', ylabel='x2'>"
      ]
     },
     "execution_count": 51,
     "metadata": {},
     "output_type": "execute_result"
    },
    {
     "data": {
      "image/png": "[encoded data removed]",
      "text/plain": [
       "<Figure size 640x480 with 1 Axes>"
      ]
     },
     "metadata": {},
     "output_type": "display_data"
    }
   ],
   "source": [
    "import random\n",
    "import math\n",
    "from typing import List\n",
    "\n",
    "class Example2D:\n",
    "    def __init__(self, x: float, y: float, label: int):\n",
    "        self.x = x\n",
    "        self.y = y\n",
    "        self.label = label\n",
    "\n",
    "def classifySpiralData(numSamples: int, noise: float) -> List[Example2D]:\n",
    "    points = []\n",
    "    n = int(numSamples / 2)\n",
    "\n",
    "    def genSpiral(deltaT: float, label: int) -> None:\n",
    "        for i in range(n):\n",
    "            r = i / n * 5\n",
    "            t = 1.75 * i / n * 2 * 3.14159 + deltaT\n",
    "            x = r * math.sin(t) + random.uniform(-1, 1) * noise\n",
    "            y = r * math.cos(t) + random.uniform(-1, 1) * noise\n",
    "            points.append(Example2D(x, y, label))\n",
    "\n",
    "    genSpiral(0, 1) # Positive examples.\n",
    "    genSpiral(3.14159, 0) # Negative examples.\n",
    "    return points\n",
    "\n",
    "\n",
    "points = classifySpiralData(200, 0)\n",
    "\n",
    "x1 = [p.x for p in points]\n",
    "x2 = [p.y for p in points]\n",
    "y = [p.label for p in points]\n",
    "\n",
    "# This is your dataset\n",
    "pointsdf = pd.DataFrame(data={'x1': x1, 'x2': x2})\n",
    "\n",
    "# These are your labels\n",
    "labelsdf = pd.Series(y)\n",
    "\n",
    "pointsdf.plot.scatter('x1', 'x2', c=y)"
   ]
  },
  {
   "cell_type": "markdown",
   "metadata": {},
   "source": [
    "I used this architecture to solve it. There are many other possible solutions.\n",
    "![Solution spiral classifier](solution_spiral.png)"
   ]
  },
  {
   "cell_type": "code",
   "execution_count": 58,
   "metadata": {},
   "outputs": [],
   "source": [
    "# Your code here\n",
    "\n",
    "# Split data into training and test set\n",
    "from sklearn.model_selection import train_test_split\n",
    "x_train, x_test, y_train, y_test = train_test_split(pointsdf, labelsdf, test_size=0.2, random_state=42)"
   ]
  },
  {
   "cell_type": "code",
   "execution_count": 59,
   "metadata": {},
   "outputs": [],
   "source": [
    "# Your code here\n",
    "\n",
    "# Build a model using the \"Sequential\" API\n",
    "model = keras.Sequential([\n",
    "      keras.Input(shape=(2)), # One input layer with 2 input feature variables\n",
    "      layers.Dense(8, activation='relu'), \n",
    "      layers.Dense(8, activation='relu'),\n",
    "      layers.Dense(8, activation='relu'), \n",
    "      layers.Dense(8, activation='relu'),\n",
    "      layers.Dense(1) # Final layer to predict the label, with 2 classes (1 or -1)\n",
    "  ])\n",
    "\n",
    "# Compile the model\n",
    "model.compile(\n",
    "    optimizer=tf.keras.optimizers.Adam(0.01), # The Adam optimizer (an improvement over stochastic gradient descent)\n",
    "    loss=tf.keras.losses.BinaryCrossentropy(from_logits=True), # Loss function for binary classification\n",
    "    metrics=['accuracy'], # Print the accuracy after each epoch\n",
    ")"
   ]
  },
  {
   "cell_type": "code",
   "execution_count": 60,
   "metadata": {},
   "outputs": [
    {
     "name": "stdout",
     "output_type": "stream",
     "text": [
      "Epoch 1/500\n",
      "15/15 [==============================] - 1s 12ms/step - loss: 0.7016 - accuracy: 0.5000 - val_loss: 0.6714 - val_accuracy: 0.5625\n",
      "Epoch 2/500\n",
      "15/15 [==============================] - 0s 3ms/step - loss: 0.6875 - accuracy: 0.5000 - val_loss: 0.6605 - val_accuracy: 0.5625\n",
      "Epoch 3/500\n",
      "15/15 [==============================] - 0s 4ms/step - loss: 0.6849 - accuracy: 0.5000 - val_loss: 0.6299 - val_accuracy: 0.5625\n",
      "Epoch 4/500\n",
      "15/15 [==============================] - 0s 4ms/step - loss: 0.6649 - accuracy: 0.5278 - val_loss: 0.6331 - val_accuracy: 0.6250\n",
      "Epoch 5/500\n",
      "15/15 [==============================] - 0s 3ms/step - loss: 0.6585 - accuracy: 0.5208 - val_loss: 0.6360 - val_accuracy: 0.6875\n",
      "Epoch 6/500\n",
      "15/15 [==============================] - 0s 4ms/step - loss: 0.6516 - accuracy: 0.5278 - val_loss: 0.6580 - val_accuracy: 0.6875\n",
      "Epoch 7/500\n",
      "15/15 [==============================] - 0s 4ms/step - loss: 0.6490 - accuracy: 0.5278 - val_loss: 0.6202 - val_accuracy: 0.6875\n",
      "Epoch 8/500\n",
      "15/15 [==============================] - 0s 3ms/step - loss: 0.6347 - accuracy: 0.6111 - val_loss: 0.6511 - val_accuracy: 0.6875\n",
      "Epoch 9/500\n",
      "15/15 [==============================] - 0s 3ms/step - loss: 0.6280 - accuracy: 0.6042 - val_loss: 0.6633 - val_accuracy: 0.8125\n",
      "Epoch 10/500\n",
      "15/15 [==============================] - 0s 3ms/step - loss: 0.6344 - accuracy: 0.6667 - val_loss: 0.6794 - val_accuracy: 0.6875\n",
      "Epoch 11/500\n",
      "15/15 [==============================] - 0s 3ms/step - loss: 0.6238 - accuracy: 0.6319 - val_loss: 0.5801 - val_accuracy: 0.7500\n",
      "Epoch 12/500\n",
      "15/15 [==============================] - 0s 4ms/step - loss: 0.5995 - accuracy: 0.6458 - val_loss: 0.6075 - val_accuracy: 0.7500\n",
      "Epoch 13/500\n",
      "15/15 [==============================] - 0s 5ms/step - loss: 0.5945 - accuracy: 0.6319 - val_loss: 0.6401 - val_accuracy: 0.5625\n",
      "Epoch 14/500\n",
      "15/15 [==============================] - 0s 4ms/step - loss: 0.5841 - accuracy: 0.6250 - val_loss: 0.6197 - val_accuracy: 0.7500\n",
      "Epoch 15/500\n",
      "15/15 [==============================] - 0s 3ms/step - loss: 0.5662 - accuracy: 0.7083 - val_loss: 0.5579 - val_accuracy: 0.8125\n",
      "Epoch 16/500\n",
      "15/15 [==============================] - 0s 4ms/step - loss: 0.5373 - accuracy: 0.6458 - val_loss: 0.5886 - val_accuracy: 0.6250\n",
      "Epoch 17/500\n",
      "15/15 [==============================] - 0s 3ms/step - loss: 0.5214 - accuracy: 0.6944 - val_loss: 0.4997 - val_accuracy: 0.6875\n",
      "Epoch 18/500\n",
      "15/15 [==============================] - 0s 4ms/step - loss: 0.4989 - accuracy: 0.7222 - val_loss: 0.4612 - val_accuracy: 0.7500\n",
      "Epoch 19/500\n",
      "15/15 [==============================] - 0s 3ms/step - loss: 0.4780 - accuracy: 0.7500 - val_loss: 0.5825 - val_accuracy: 0.6875\n",
      "Epoch 20/500\n",
      "15/15 [==============================] - 0s 3ms/step - loss: 0.4877 - accuracy: 0.7014 - val_loss: 0.6481 - val_accuracy: 0.6250\n",
      "Epoch 21/500\n",
      "15/15 [==============================] - 0s 3ms/step - loss: 0.4713 - accuracy: 0.7569 - val_loss: 0.3677 - val_accuracy: 0.7500\n",
      "Epoch 22/500\n",
      "15/15 [==============================] - 0s 3ms/step - loss: 0.4409 - accuracy: 0.7222 - val_loss: 0.5671 - val_accuracy: 0.6250\n",
      "Epoch 23/500\n",
      "15/15 [==============================] - 0s 3ms/step - loss: 0.4126 - accuracy: 0.7847 - val_loss: 0.5904 - val_accuracy: 0.7500\n",
      "Epoch 24/500\n",
      "15/15 [==============================] - 0s 3ms/step - loss: 0.4419 - accuracy: 0.7083 - val_loss: 0.5449 - val_accuracy: 0.8125\n",
      "Epoch 25/500\n",
      "15/15 [==============================] - 0s 3ms/step - loss: 0.4363 - accuracy: 0.7986 - val_loss: 0.4964 - val_accuracy: 0.6875\n",
      "Epoch 26/500\n",
      "15/15 [==============================] - 0s 3ms/step - loss: 0.4879 - accuracy: 0.7361 - val_loss: 0.9419 - val_accuracy: 0.5625\n",
      "Epoch 27/500\n",
      "15/15 [==============================] - 0s 3ms/step - loss: 0.4388 - accuracy: 0.7847 - val_loss: 0.3831 - val_accuracy: 0.6875\n",
      "Epoch 28/500\n",
      "15/15 [==============================] - 0s 4ms/step - loss: 0.3886 - accuracy: 0.8264 - val_loss: 0.6282 - val_accuracy: 0.6875\n",
      "Epoch 29/500\n",
      "15/15 [==============================] - 0s 3ms/step - loss: 0.3696 - accuracy: 0.8264 - val_loss: 0.5046 - val_accuracy: 0.6250\n",
      "Epoch 30/500\n",
      "15/15 [==============================] - 0s 4ms/step - loss: 0.3131 - accuracy: 0.8403 - val_loss: 0.4177 - val_accuracy: 0.8750\n",
      "Epoch 31/500\n",
      "15/15 [==============================] - 0s 3ms/step - loss: 0.3228 - accuracy: 0.8472 - val_loss: 0.3969 - val_accuracy: 0.7500\n",
      "Epoch 32/500\n",
      "15/15 [==============================] - 0s 3ms/step - loss: 0.2966 - accuracy: 0.8889 - val_loss: 0.3868 - val_accuracy: 0.8125\n",
      "Epoch 33/500\n",
      "15/15 [==============================] - 0s 4ms/step - loss: 0.3052 - accuracy: 0.8681 - val_loss: 0.6636 - val_accuracy: 0.8125\n",
      "Epoch 34/500\n",
      "15/15 [==============================] - 0s 4ms/step - loss: 0.3964 - accuracy: 0.8333 - val_loss: 0.2199 - val_accuracy: 0.9375\n",
      "Epoch 35/500\n",
      "15/15 [==============================] - 0s 3ms/step - loss: 0.3731 - accuracy: 0.8125 - val_loss: 0.3830 - val_accuracy: 0.8750\n",
      "Epoch 36/500\n",
      "15/15 [==============================] - 0s 4ms/step - loss: 0.2565 - accuracy: 0.8889 - val_loss: 0.3800 - val_accuracy: 0.8125\n",
      "Epoch 37/500\n",
      "15/15 [==============================] - 0s 4ms/step - loss: 0.2162 - accuracy: 0.9236 - val_loss: 0.3301 - val_accuracy: 0.8750\n",
      "Epoch 38/500\n",
      "15/15 [==============================] - 0s 4ms/step - loss: 0.2191 - accuracy: 0.9167 - val_loss: 0.2270 - val_accuracy: 0.9375\n",
      "Epoch 39/500\n",
      "15/15 [==============================] - 0s 4ms/step - loss: 0.1713 - accuracy: 0.9236 - val_loss: 0.2960 - val_accuracy: 0.8750\n",
      "Epoch 40/500\n",
      "15/15 [==============================] - 0s 4ms/step - loss: 0.1874 - accuracy: 0.9097 - val_loss: 0.2926 - val_accuracy: 0.8750\n",
      "Epoch 41/500\n",
      "15/15 [==============================] - 0s 5ms/step - loss: 0.2122 - accuracy: 0.8819 - val_loss: 0.3344 - val_accuracy: 0.8750\n",
      "Epoch 42/500\n",
      "15/15 [==============================] - 0s 4ms/step - loss: 0.2484 - accuracy: 0.8750 - val_loss: 0.3552 - val_accuracy: 0.8750\n",
      "Epoch 43/500\n",
      "15/15 [==============================] - 0s 3ms/step - loss: 0.2011 - accuracy: 0.8958 - val_loss: 0.2083 - val_accuracy: 0.9375\n",
      "Epoch 44/500\n",
      "15/15 [==============================] - 0s 3ms/step - loss: 0.1363 - accuracy: 0.9306 - val_loss: 0.2339 - val_accuracy: 0.9375\n",
      "Epoch 45/500\n",
      "15/15 [==============================] - 0s 3ms/step - loss: 0.1290 - accuracy: 0.9167 - val_loss: 0.3203 - val_accuracy: 0.8750\n",
      "Epoch 46/500\n",
      "15/15 [==============================] - 0s 4ms/step - loss: 0.1720 - accuracy: 0.9375 - val_loss: 0.4423 - val_accuracy: 0.8750\n",
      "Epoch 47/500\n",
      "15/15 [==============================] - 0s 3ms/step - loss: 0.1183 - accuracy: 0.9375 - val_loss: 0.2059 - val_accuracy: 0.9375\n",
      "Epoch 48/500\n",
      "15/15 [==============================] - 0s 4ms/step - loss: 0.1095 - accuracy: 0.9306 - val_loss: 0.3744 - val_accuracy: 0.8750\n",
      "Epoch 49/500\n",
      "15/15 [==============================] - 0s 4ms/step - loss: 0.1277 - accuracy: 0.9306 - val_loss: 0.1951 - val_accuracy: 0.9375\n",
      "Epoch 50/500\n",
      "15/15 [==============================] - 0s 4ms/step - loss: 0.1281 - accuracy: 0.9375 - val_loss: 0.3461 - val_accuracy: 0.8750\n",
      "Epoch 51/500\n",
      "15/15 [==============================] - 0s 4ms/step - loss: 0.1582 - accuracy: 0.9375 - val_loss: 0.1880 - val_accuracy: 0.9375\n",
      "Epoch 52/500\n",
      "15/15 [==============================] - 0s 4ms/step - loss: 0.1103 - accuracy: 0.9375 - val_loss: 0.9945 - val_accuracy: 0.7500\n",
      "Epoch 53/500\n",
      "15/15 [==============================] - 0s 4ms/step - loss: 0.2716 - accuracy: 0.9028 - val_loss: 0.1914 - val_accuracy: 0.9375\n",
      "Epoch 54/500\n",
      "15/15 [==============================] - 0s 3ms/step - loss: 0.1756 - accuracy: 0.9097 - val_loss: 0.1103 - val_accuracy: 0.9375\n",
      "Epoch 55/500\n",
      "15/15 [==============================] - 0s 4ms/step - loss: 0.0984 - accuracy: 0.9444 - val_loss: 0.1170 - val_accuracy: 0.9375\n",
      "Epoch 56/500\n",
      "15/15 [==============================] - 0s 5ms/step - loss: 0.0835 - accuracy: 0.9583 - val_loss: 0.1249 - val_accuracy: 0.9375\n",
      "Epoch 57/500\n",
      "15/15 [==============================] - 0s 4ms/step - loss: 0.1250 - accuracy: 0.9444 - val_loss: 0.2351 - val_accuracy: 0.9375\n",
      "Epoch 58/500\n",
      "15/15 [==============================] - 0s 4ms/step - loss: 0.1239 - accuracy: 0.9583 - val_loss: 0.1132 - val_accuracy: 0.9375\n"
     ]
    },
    {
     "name": "stdout",
     "output_type": "stream",
     "text": [
      "Epoch 59/500\n",
      "15/15 [==============================] - 0s 3ms/step - loss: 0.0670 - accuracy: 0.9653 - val_loss: 0.3696 - val_accuracy: 0.8125\n",
      "Epoch 60/500\n",
      "15/15 [==============================] - 0s 4ms/step - loss: 0.1068 - accuracy: 0.9792 - val_loss: 0.1048 - val_accuracy: 1.0000\n",
      "Epoch 61/500\n",
      "15/15 [==============================] - 0s 5ms/step - loss: 0.0918 - accuracy: 0.9583 - val_loss: 0.1340 - val_accuracy: 0.9375\n",
      "Epoch 62/500\n",
      "15/15 [==============================] - 0s 3ms/step - loss: 0.0623 - accuracy: 0.9792 - val_loss: 0.1321 - val_accuracy: 0.9375\n",
      "Epoch 63/500\n",
      "15/15 [==============================] - 0s 4ms/step - loss: 0.0665 - accuracy: 0.9653 - val_loss: 0.1187 - val_accuracy: 0.9375\n",
      "Epoch 64/500\n",
      "15/15 [==============================] - 0s 4ms/step - loss: 0.1154 - accuracy: 0.9514 - val_loss: 0.1012 - val_accuracy: 1.0000\n",
      "Epoch 65/500\n",
      "15/15 [==============================] - 0s 4ms/step - loss: 0.0666 - accuracy: 0.9792 - val_loss: 0.1354 - val_accuracy: 0.9375\n",
      "Epoch 66/500\n",
      "15/15 [==============================] - 0s 4ms/step - loss: 0.0644 - accuracy: 0.9722 - val_loss: 0.0980 - val_accuracy: 1.0000\n",
      "Epoch 67/500\n",
      "15/15 [==============================] - 0s 3ms/step - loss: 0.0650 - accuracy: 0.9792 - val_loss: 0.3056 - val_accuracy: 0.9375\n",
      "Epoch 68/500\n",
      "15/15 [==============================] - 0s 4ms/step - loss: 0.0746 - accuracy: 0.9653 - val_loss: 0.1875 - val_accuracy: 0.9375\n",
      "Epoch 69/500\n",
      "15/15 [==============================] - 0s 5ms/step - loss: 0.0551 - accuracy: 0.9931 - val_loss: 0.2082 - val_accuracy: 0.9375\n",
      "Epoch 70/500\n",
      "15/15 [==============================] - 0s 3ms/step - loss: 0.0534 - accuracy: 0.9861 - val_loss: 0.2065 - val_accuracy: 0.9375\n",
      "Epoch 71/500\n",
      "15/15 [==============================] - 0s 4ms/step - loss: 0.0459 - accuracy: 0.9722 - val_loss: 0.3351 - val_accuracy: 0.9375\n",
      "Epoch 72/500\n",
      "15/15 [==============================] - 0s 4ms/step - loss: 0.0430 - accuracy: 0.9861 - val_loss: 0.4048 - val_accuracy: 0.9375\n",
      "Epoch 73/500\n",
      "15/15 [==============================] - 0s 4ms/step - loss: 0.0756 - accuracy: 0.9861 - val_loss: 0.4656 - val_accuracy: 0.9375\n",
      "Epoch 74/500\n",
      "15/15 [==============================] - 0s 3ms/step - loss: 0.0456 - accuracy: 0.9722 - val_loss: 0.2148 - val_accuracy: 0.9375\n",
      "Epoch 75/500\n",
      "15/15 [==============================] - 0s 4ms/step - loss: 0.0446 - accuracy: 0.9861 - val_loss: 0.1096 - val_accuracy: 0.9375\n",
      "Epoch 76/500\n",
      "15/15 [==============================] - 0s 4ms/step - loss: 0.0489 - accuracy: 0.9792 - val_loss: 0.2030 - val_accuracy: 0.9375\n",
      "Epoch 77/500\n",
      "15/15 [==============================] - 0s 4ms/step - loss: 0.0433 - accuracy: 0.9792 - val_loss: 0.1619 - val_accuracy: 0.9375\n",
      "Epoch 78/500\n",
      "15/15 [==============================] - 0s 4ms/step - loss: 0.0442 - accuracy: 0.9861 - val_loss: 0.2003 - val_accuracy: 0.9375\n",
      "Epoch 79/500\n",
      "15/15 [==============================] - 0s 4ms/step - loss: 0.0614 - accuracy: 0.9792 - val_loss: 0.2430 - val_accuracy: 0.9375\n",
      "Epoch 80/500\n",
      "15/15 [==============================] - 0s 5ms/step - loss: 0.0500 - accuracy: 0.9653 - val_loss: 0.2161 - val_accuracy: 0.9375\n",
      "Epoch 81/500\n",
      "15/15 [==============================] - 0s 4ms/step - loss: 0.0489 - accuracy: 0.9861 - val_loss: 0.2426 - val_accuracy: 0.9375\n",
      "Epoch 82/500\n",
      "15/15 [==============================] - 0s 3ms/step - loss: 0.0441 - accuracy: 0.9722 - val_loss: 0.2789 - val_accuracy: 0.9375\n",
      "Epoch 83/500\n",
      "15/15 [==============================] - 0s 4ms/step - loss: 0.0504 - accuracy: 0.9792 - val_loss: 0.2526 - val_accuracy: 0.9375\n",
      "Epoch 84/500\n",
      "15/15 [==============================] - 0s 4ms/step - loss: 0.0429 - accuracy: 0.9722 - val_loss: 0.1806 - val_accuracy: 0.9375\n",
      "Epoch 85/500\n",
      "15/15 [==============================] - 0s 3ms/step - loss: 0.0496 - accuracy: 0.9861 - val_loss: 0.2251 - val_accuracy: 0.9375\n",
      "Epoch 86/500\n",
      "15/15 [==============================] - 0s 4ms/step - loss: 0.0672 - accuracy: 0.9861 - val_loss: 0.2300 - val_accuracy: 0.9375\n",
      "Epoch 87/500\n",
      "15/15 [==============================] - 0s 3ms/step - loss: 0.0373 - accuracy: 0.9861 - val_loss: 0.2759 - val_accuracy: 0.9375\n",
      "Epoch 88/500\n",
      "15/15 [==============================] - 0s 4ms/step - loss: 0.0423 - accuracy: 0.9861 - val_loss: 0.2836 - val_accuracy: 0.9375\n",
      "Epoch 89/500\n",
      "15/15 [==============================] - 0s 3ms/step - loss: 0.0302 - accuracy: 0.9931 - val_loss: 0.2866 - val_accuracy: 0.9375\n",
      "Epoch 90/500\n",
      "15/15 [==============================] - 0s 4ms/step - loss: 0.0355 - accuracy: 0.9931 - val_loss: 0.2829 - val_accuracy: 0.9375\n",
      "Epoch 91/500\n",
      "15/15 [==============================] - 0s 6ms/step - loss: 0.0469 - accuracy: 0.9792 - val_loss: 0.2856 - val_accuracy: 0.9375\n",
      "Epoch 92/500\n",
      "15/15 [==============================] - 0s 4ms/step - loss: 0.0333 - accuracy: 0.9931 - val_loss: 0.2726 - val_accuracy: 0.9375\n",
      "Epoch 93/500\n",
      "15/15 [==============================] - 0s 4ms/step - loss: 0.0524 - accuracy: 0.9861 - val_loss: 0.2945 - val_accuracy: 0.9375\n",
      "Epoch 94/500\n",
      "15/15 [==============================] - 0s 4ms/step - loss: 0.0547 - accuracy: 0.9931 - val_loss: 0.2723 - val_accuracy: 0.9375\n",
      "Epoch 95/500\n",
      "15/15 [==============================] - 0s 3ms/step - loss: 0.0489 - accuracy: 0.9653 - val_loss: 0.3792 - val_accuracy: 0.9375\n",
      "Epoch 96/500\n",
      "15/15 [==============================] - 0s 4ms/step - loss: 0.0917 - accuracy: 0.9514 - val_loss: 0.4242 - val_accuracy: 0.9375\n",
      "Epoch 97/500\n",
      "15/15 [==============================] - 0s 4ms/step - loss: 0.2167 - accuracy: 0.9514 - val_loss: 0.3798 - val_accuracy: 0.9375\n",
      "Epoch 98/500\n",
      "15/15 [==============================] - 0s 4ms/step - loss: 0.1988 - accuracy: 0.9236 - val_loss: 0.3776 - val_accuracy: 0.8750\n",
      "Epoch 99/500\n",
      "15/15 [==============================] - 0s 4ms/step - loss: 0.1208 - accuracy: 0.9722 - val_loss: 0.5774 - val_accuracy: 0.8750\n",
      "Epoch 100/500\n",
      "15/15 [==============================] - 0s 4ms/step - loss: 0.1102 - accuracy: 0.9444 - val_loss: 0.2862 - val_accuracy: 0.8125\n",
      "Epoch 101/500\n",
      "15/15 [==============================] - 0s 3ms/step - loss: 0.1138 - accuracy: 0.9792 - val_loss: 0.2233 - val_accuracy: 0.8750\n",
      "Epoch 102/500\n",
      "15/15 [==============================] - 0s 4ms/step - loss: 0.0735 - accuracy: 0.9722 - val_loss: 0.1929 - val_accuracy: 0.9375\n",
      "Epoch 103/500\n",
      "15/15 [==============================] - 0s 3ms/step - loss: 0.0909 - accuracy: 0.9792 - val_loss: 0.3256 - val_accuracy: 0.9375\n",
      "Epoch 104/500\n",
      "15/15 [==============================] - 0s 4ms/step - loss: 0.0422 - accuracy: 0.9931 - val_loss: 0.3651 - val_accuracy: 0.9375\n",
      "Epoch 105/500\n",
      "15/15 [==============================] - 0s 3ms/step - loss: 0.0426 - accuracy: 0.9931 - val_loss: 0.2184 - val_accuracy: 0.9375\n",
      "Epoch 106/500\n",
      "15/15 [==============================] - 0s 3ms/step - loss: 0.0400 - accuracy: 0.9861 - val_loss: 0.2945 - val_accuracy: 0.9375\n",
      "Epoch 107/500\n",
      "15/15 [==============================] - 0s 3ms/step - loss: 0.1503 - accuracy: 0.9792 - val_loss: 0.3720 - val_accuracy: 0.8750\n",
      "Epoch 108/500\n",
      "15/15 [==============================] - 0s 4ms/step - loss: 0.0457 - accuracy: 0.9861 - val_loss: 0.2331 - val_accuracy: 0.9375\n",
      "Epoch 109/500\n",
      "15/15 [==============================] - 0s 4ms/step - loss: 0.0315 - accuracy: 0.9931 - val_loss: 0.2583 - val_accuracy: 0.9375\n",
      "Epoch 110/500\n",
      "15/15 [==============================] - 0s 4ms/step - loss: 0.0376 - accuracy: 0.9861 - val_loss: 0.2452 - val_accuracy: 0.9375\n",
      "Epoch 111/500\n",
      "15/15 [==============================] - 0s 3ms/step - loss: 0.0285 - accuracy: 0.9861 - val_loss: 0.2507 - val_accuracy: 0.9375\n",
      "Epoch 112/500\n",
      "15/15 [==============================] - 0s 4ms/step - loss: 0.0265 - accuracy: 0.9861 - val_loss: 0.2424 - val_accuracy: 0.9375\n",
      "Epoch 113/500\n",
      "15/15 [==============================] - 0s 3ms/step - loss: 0.0292 - accuracy: 0.9861 - val_loss: 0.2653 - val_accuracy: 0.9375\n",
      "Epoch 114/500\n",
      "15/15 [==============================] - 0s 3ms/step - loss: 0.0251 - accuracy: 0.9931 - val_loss: 0.2763 - val_accuracy: 0.9375\n",
      "Epoch 115/500\n",
      "15/15 [==============================] - 0s 3ms/step - loss: 0.0238 - accuracy: 0.9931 - val_loss: 0.2708 - val_accuracy: 0.9375\n",
      "Epoch 116/500\n",
      "15/15 [==============================] - 0s 3ms/step - loss: 0.0257 - accuracy: 0.9931 - val_loss: 0.2743 - val_accuracy: 0.9375\n",
      "Epoch 117/500\n",
      "15/15 [==============================] - 0s 3ms/step - loss: 0.0232 - accuracy: 0.9931 - val_loss: 0.2884 - val_accuracy: 0.9375\n",
      "Epoch 118/500\n",
      "15/15 [==============================] - 0s 4ms/step - loss: 0.0225 - accuracy: 0.9931 - val_loss: 0.2910 - val_accuracy: 0.9375\n",
      "Epoch 119/500\n",
      "15/15 [==============================] - 0s 5ms/step - loss: 0.0305 - accuracy: 0.9931 - val_loss: 0.3004 - val_accuracy: 0.9375\n",
      "Epoch 120/500\n",
      "15/15 [==============================] - 0s 4ms/step - loss: 0.0262 - accuracy: 0.9931 - val_loss: 0.3065 - val_accuracy: 0.9375\n",
      "Epoch 121/500\n",
      "15/15 [==============================] - 0s 4ms/step - loss: 0.0189 - accuracy: 0.9931 - val_loss: 0.3236 - val_accuracy: 0.9375\n",
      "Epoch 122/500\n",
      "15/15 [==============================] - 0s 4ms/step - loss: 0.0255 - accuracy: 0.9861 - val_loss: 0.3232 - val_accuracy: 0.9375\n",
      "Epoch 123/500\n",
      "15/15 [==============================] - 0s 3ms/step - loss: 0.0251 - accuracy: 0.9861 - val_loss: 0.3307 - val_accuracy: 0.9375\n",
      "Epoch 124/500\n",
      "15/15 [==============================] - 0s 4ms/step - loss: 0.0313 - accuracy: 0.9861 - val_loss: 0.3284 - val_accuracy: 0.9375\n",
      "Epoch 125/500\n",
      "15/15 [==============================] - 0s 3ms/step - loss: 0.0182 - accuracy: 0.9861 - val_loss: 0.3287 - val_accuracy: 0.9375\n",
      "Epoch 126/500\n",
      "15/15 [==============================] - 0s 4ms/step - loss: 0.0199 - accuracy: 0.9861 - val_loss: 0.3386 - val_accuracy: 0.9375\n",
      "Epoch 127/500\n",
      "15/15 [==============================] - 0s 3ms/step - loss: 0.0277 - accuracy: 0.9861 - val_loss: 0.3703 - val_accuracy: 0.9375\n",
      "Epoch 128/500\n",
      "15/15 [==============================] - 0s 4ms/step - loss: 0.0244 - accuracy: 0.9861 - val_loss: 0.3638 - val_accuracy: 0.9375\n",
      "Epoch 129/500\n",
      "15/15 [==============================] - 0s 4ms/step - loss: 0.0269 - accuracy: 0.9931 - val_loss: 0.3636 - val_accuracy: 0.9375\n",
      "Epoch 130/500\n",
      "15/15 [==============================] - 0s 3ms/step - loss: 0.0255 - accuracy: 0.9861 - val_loss: 0.3604 - val_accuracy: 0.9375\n",
      "Epoch 131/500\n",
      "15/15 [==============================] - 0s 3ms/step - loss: 0.0214 - accuracy: 0.9861 - val_loss: 0.3670 - val_accuracy: 0.9375\n",
      "Epoch 132/500\n",
      "15/15 [==============================] - 0s 3ms/step - loss: 0.0230 - accuracy: 0.9931 - val_loss: 0.3588 - val_accuracy: 0.9375\n",
      "Epoch 133/500\n",
      "15/15 [==============================] - 0s 4ms/step - loss: 0.0404 - accuracy: 0.9792 - val_loss: 0.3803 - val_accuracy: 0.9375\n",
      "Epoch 134/500\n",
      "15/15 [==============================] - 0s 4ms/step - loss: 0.0175 - accuracy: 0.9931 - val_loss: 0.3694 - val_accuracy: 0.9375\n",
      "Epoch 135/500\n",
      "15/15 [==============================] - 0s 4ms/step - loss: 0.0252 - accuracy: 0.9861 - val_loss: 0.4229 - val_accuracy: 0.9375\n",
      "Epoch 136/500\n",
      "15/15 [==============================] - 0s 5ms/step - loss: 0.0494 - accuracy: 0.9792 - val_loss: 0.3960 - val_accuracy: 0.9375\n",
      "Epoch 137/500\n",
      "15/15 [==============================] - 0s 3ms/step - loss: 0.0309 - accuracy: 0.9931 - val_loss: 0.3937 - val_accuracy: 0.9375\n",
      "Epoch 138/500\n",
      "15/15 [==============================] - 0s 3ms/step - loss: 0.0296 - accuracy: 0.9861 - val_loss: 0.3792 - val_accuracy: 0.9375\n",
      "Epoch 139/500\n",
      "15/15 [==============================] - 0s 3ms/step - loss: 0.0614 - accuracy: 0.9861 - val_loss: 0.3786 - val_accuracy: 0.9375\n",
      "Epoch 140/500\n",
      "15/15 [==============================] - 0s 4ms/step - loss: 0.0123 - accuracy: 1.0000 - val_loss: 0.4003 - val_accuracy: 0.8750\n",
      "Epoch 141/500\n",
      "15/15 [==============================] - 0s 3ms/step - loss: 0.0389 - accuracy: 0.9931 - val_loss: 0.4221 - val_accuracy: 0.9375\n",
      "Epoch 142/500\n",
      "15/15 [==============================] - 0s 3ms/step - loss: 0.0222 - accuracy: 0.9861 - val_loss: 0.4139 - val_accuracy: 0.9375\n",
      "Epoch 143/500\n",
      "15/15 [==============================] - 0s 4ms/step - loss: 0.0237 - accuracy: 0.9931 - val_loss: 0.3981 - val_accuracy: 0.9375\n",
      "Epoch 144/500\n",
      "15/15 [==============================] - 0s 4ms/step - loss: 0.0319 - accuracy: 0.9861 - val_loss: 0.3944 - val_accuracy: 0.9375\n",
      "Epoch 145/500\n",
      "15/15 [==============================] - 0s 3ms/step - loss: 0.0444 - accuracy: 0.9792 - val_loss: 0.4035 - val_accuracy: 0.9375\n",
      "Epoch 146/500\n",
      "15/15 [==============================] - 0s 4ms/step - loss: 0.0244 - accuracy: 0.9861 - val_loss: 0.4070 - val_accuracy: 0.9375\n",
      "Epoch 147/500\n",
      "15/15 [==============================] - 0s 5ms/step - loss: 0.0191 - accuracy: 0.9931 - val_loss: 0.4125 - val_accuracy: 0.9375\n",
      "Epoch 148/500\n",
      "15/15 [==============================] - 0s 4ms/step - loss: 0.0264 - accuracy: 0.9861 - val_loss: 0.4133 - val_accuracy: 0.9375\n",
      "Epoch 149/500\n",
      "15/15 [==============================] - 0s 4ms/step - loss: 0.0326 - accuracy: 0.9931 - val_loss: 0.4179 - val_accuracy: 0.9375\n",
      "Epoch 150/500\n",
      "15/15 [==============================] - 0s 3ms/step - loss: 0.0570 - accuracy: 0.9792 - val_loss: 0.4552 - val_accuracy: 0.9375\n",
      "Epoch 151/500\n",
      "15/15 [==============================] - 0s 3ms/step - loss: 0.0321 - accuracy: 0.9931 - val_loss: 0.4586 - val_accuracy: 0.9375\n",
      "Epoch 152/500\n",
      "15/15 [==============================] - 0s 3ms/step - loss: 0.0130 - accuracy: 1.0000 - val_loss: 0.4408 - val_accuracy: 0.9375\n",
      "Epoch 153/500\n",
      "15/15 [==============================] - 0s 3ms/step - loss: 0.0271 - accuracy: 0.9861 - val_loss: 0.4480 - val_accuracy: 0.9375\n",
      "Epoch 154/500\n",
      "15/15 [==============================] - 0s 3ms/step - loss: 0.0255 - accuracy: 0.9931 - val_loss: 0.4325 - val_accuracy: 0.9375\n",
      "Epoch 155/500\n",
      "15/15 [==============================] - 0s 4ms/step - loss: 0.0231 - accuracy: 0.9861 - val_loss: 0.4180 - val_accuracy: 0.8750\n",
      "Epoch 156/500\n",
      "15/15 [==============================] - 0s 4ms/step - loss: 0.0298 - accuracy: 0.9861 - val_loss: 0.4337 - val_accuracy: 0.9375\n",
      "Epoch 157/500\n",
      "15/15 [==============================] - 0s 3ms/step - loss: 0.0161 - accuracy: 0.9931 - val_loss: 0.4288 - val_accuracy: 0.8750\n",
      "Epoch 158/500\n",
      "15/15 [==============================] - 0s 3ms/step - loss: 0.0145 - accuracy: 0.9931 - val_loss: 0.4424 - val_accuracy: 0.8750\n",
      "Epoch 159/500\n",
      "15/15 [==============================] - 0s 3ms/step - loss: 0.0188 - accuracy: 0.9931 - val_loss: 0.4471 - val_accuracy: 0.8750\n",
      "Epoch 160/500\n",
      "15/15 [==============================] - 0s 3ms/step - loss: 0.0141 - accuracy: 0.9931 - val_loss: 0.4610 - val_accuracy: 0.8750\n",
      "Epoch 161/500\n",
      "15/15 [==============================] - 0s 4ms/step - loss: 0.0222 - accuracy: 0.9931 - val_loss: 0.4995 - val_accuracy: 0.8750\n",
      "Epoch 162/500\n",
      "15/15 [==============================] - 0s 3ms/step - loss: 0.0247 - accuracy: 0.9931 - val_loss: 0.5149 - val_accuracy: 0.8750\n",
      "Epoch 163/500\n",
      "15/15 [==============================] - 0s 3ms/step - loss: 0.0152 - accuracy: 0.9931 - val_loss: 0.4903 - val_accuracy: 0.8750\n",
      "Epoch 164/500\n",
      "15/15 [==============================] - 0s 3ms/step - loss: 0.0184 - accuracy: 0.9931 - val_loss: 0.4860 - val_accuracy: 0.8750\n",
      "Epoch 165/500\n",
      "15/15 [==============================] - 0s 4ms/step - loss: 0.0222 - accuracy: 0.9861 - val_loss: 0.4906 - val_accuracy: 0.8750\n",
      "Epoch 166/500\n",
      "15/15 [==============================] - 0s 10ms/step - loss: 0.0173 - accuracy: 0.9861 - val_loss: 0.4882 - val_accuracy: 0.8750\n",
      "Epoch 167/500\n",
      "15/15 [==============================] - 0s 4ms/step - loss: 0.0218 - accuracy: 0.9931 - val_loss: 0.5122 - val_accuracy: 0.8750\n",
      "Epoch 168/500\n",
      "15/15 [==============================] - 0s 4ms/step - loss: 0.0231 - accuracy: 0.9861 - val_loss: 0.5073 - val_accuracy: 0.8750\n",
      "Epoch 169/500\n",
      "15/15 [==============================] - 0s 4ms/step - loss: 0.0193 - accuracy: 0.9861 - val_loss: 0.5131 - val_accuracy: 0.8750\n",
      "Epoch 170/500\n",
      "15/15 [==============================] - 0s 4ms/step - loss: 0.0284 - accuracy: 0.9931 - val_loss: 0.5126 - val_accuracy: 0.8750\n",
      "Epoch 171/500\n",
      "15/15 [==============================] - 0s 4ms/step - loss: 0.0125 - accuracy: 0.9931 - val_loss: 0.5091 - val_accuracy: 0.8750\n",
      "Epoch 172/500\n",
      "15/15 [==============================] - 0s 4ms/step - loss: 0.0221 - accuracy: 0.9931 - val_loss: 0.5165 - val_accuracy: 0.8750\n",
      "Epoch 173/500\n"
     ]
    },
    {
     "name": "stdout",
     "output_type": "stream",
     "text": [
      "15/15 [==============================] - 0s 4ms/step - loss: 0.0268 - accuracy: 0.9861 - val_loss: 0.5276 - val_accuracy: 0.8750\n",
      "Epoch 174/500\n",
      "15/15 [==============================] - 0s 4ms/step - loss: 0.0097 - accuracy: 1.0000 - val_loss: 0.5485 - val_accuracy: 0.8750\n",
      "Epoch 175/500\n",
      "15/15 [==============================] - 0s 4ms/step - loss: 0.0188 - accuracy: 0.9861 - val_loss: 0.5633 - val_accuracy: 0.8750\n",
      "Epoch 176/500\n",
      "15/15 [==============================] - 0s 4ms/step - loss: 0.0201 - accuracy: 0.9931 - val_loss: 0.5547 - val_accuracy: 0.8750\n",
      "Epoch 177/500\n",
      "15/15 [==============================] - 0s 4ms/step - loss: 0.0207 - accuracy: 0.9861 - val_loss: 0.5552 - val_accuracy: 0.8750\n",
      "Epoch 178/500\n",
      "15/15 [==============================] - 0s 4ms/step - loss: 0.0286 - accuracy: 0.9861 - val_loss: 0.5613 - val_accuracy: 0.8750\n",
      "Epoch 179/500\n",
      "15/15 [==============================] - 0s 4ms/step - loss: 0.0162 - accuracy: 0.9931 - val_loss: 0.5632 - val_accuracy: 0.8750\n",
      "Epoch 180/500\n",
      "15/15 [==============================] - 0s 3ms/step - loss: 0.0189 - accuracy: 0.9931 - val_loss: 0.5657 - val_accuracy: 0.8750\n",
      "Epoch 181/500\n",
      "15/15 [==============================] - 0s 3ms/step - loss: 0.0334 - accuracy: 0.9861 - val_loss: 0.5727 - val_accuracy: 0.8750\n",
      "Epoch 182/500\n",
      "15/15 [==============================] - 0s 3ms/step - loss: 0.0344 - accuracy: 0.9861 - val_loss: 0.5821 - val_accuracy: 0.8750\n",
      "Epoch 183/500\n",
      "15/15 [==============================] - 0s 3ms/step - loss: 0.0179 - accuracy: 0.9931 - val_loss: 0.5689 - val_accuracy: 0.8750\n",
      "Epoch 184/500\n",
      "15/15 [==============================] - 0s 3ms/step - loss: 0.0223 - accuracy: 0.9931 - val_loss: 0.5571 - val_accuracy: 0.9375\n",
      "Epoch 185/500\n",
      "15/15 [==============================] - 0s 3ms/step - loss: 0.0212 - accuracy: 0.9861 - val_loss: 0.5503 - val_accuracy: 0.8750\n",
      "Epoch 186/500\n",
      "15/15 [==============================] - 0s 3ms/step - loss: 0.0203 - accuracy: 0.9931 - val_loss: 0.5589 - val_accuracy: 0.8750\n",
      "Epoch 187/500\n",
      "15/15 [==============================] - 0s 4ms/step - loss: 0.0169 - accuracy: 0.9931 - val_loss: 0.5806 - val_accuracy: 0.8750\n",
      "Epoch 188/500\n",
      "15/15 [==============================] - 0s 4ms/step - loss: 0.0175 - accuracy: 0.9931 - val_loss: 0.5950 - val_accuracy: 0.8750\n",
      "Epoch 189/500\n",
      "15/15 [==============================] - 0s 5ms/step - loss: 0.0165 - accuracy: 0.9931 - val_loss: 0.5925 - val_accuracy: 0.8750\n",
      "Epoch 190/500\n",
      "15/15 [==============================] - 0s 3ms/step - loss: 0.0193 - accuracy: 0.9931 - val_loss: 0.5905 - val_accuracy: 0.8750\n",
      "Epoch 191/500\n",
      "15/15 [==============================] - 0s 3ms/step - loss: 0.0251 - accuracy: 0.9931 - val_loss: 0.5807 - val_accuracy: 0.8750\n",
      "Epoch 192/500\n",
      "15/15 [==============================] - 0s 3ms/step - loss: 0.0367 - accuracy: 0.9861 - val_loss: 0.7358 - val_accuracy: 0.8750\n",
      "Epoch 193/500\n",
      "15/15 [==============================] - 0s 4ms/step - loss: 0.0636 - accuracy: 0.9861 - val_loss: 0.7376 - val_accuracy: 0.8750\n",
      "Epoch 194/500\n",
      "15/15 [==============================] - 0s 4ms/step - loss: 0.1142 - accuracy: 0.9722 - val_loss: 0.3957 - val_accuracy: 0.8750\n",
      "Epoch 195/500\n",
      "15/15 [==============================] - 0s 4ms/step - loss: 0.8781 - accuracy: 0.8958 - val_loss: 0.0937 - val_accuracy: 0.9375\n",
      "Epoch 196/500\n",
      "15/15 [==============================] - 0s 3ms/step - loss: 1.1177 - accuracy: 0.7847 - val_loss: 0.7070 - val_accuracy: 0.8750\n",
      "Epoch 197/500\n",
      "15/15 [==============================] - 0s 4ms/step - loss: 0.4069 - accuracy: 0.8472 - val_loss: 0.9349 - val_accuracy: 0.6875\n",
      "Epoch 198/500\n",
      "15/15 [==============================] - 0s 4ms/step - loss: 0.4184 - accuracy: 0.8194 - val_loss: 0.2003 - val_accuracy: 0.8125\n",
      "Epoch 199/500\n",
      "15/15 [==============================] - 0s 4ms/step - loss: 0.3704 - accuracy: 0.8125 - val_loss: 0.2664 - val_accuracy: 0.8125\n",
      "Epoch 200/500\n",
      "15/15 [==============================] - 0s 4ms/step - loss: 0.3090 - accuracy: 0.8750 - val_loss: 0.2317 - val_accuracy: 0.7500\n",
      "Epoch 201/500\n",
      "15/15 [==============================] - 0s 3ms/step - loss: 0.2738 - accuracy: 0.8542 - val_loss: 0.2067 - val_accuracy: 0.8750\n",
      "Epoch 202/500\n",
      "15/15 [==============================] - 0s 4ms/step - loss: 0.2692 - accuracy: 0.8819 - val_loss: 0.2071 - val_accuracy: 0.7500\n",
      "Epoch 203/500\n",
      "15/15 [==============================] - 0s 4ms/step - loss: 0.2626 - accuracy: 0.8264 - val_loss: 0.2075 - val_accuracy: 0.9375\n",
      "Epoch 204/500\n",
      "15/15 [==============================] - 0s 4ms/step - loss: 0.2333 - accuracy: 0.9097 - val_loss: 0.2028 - val_accuracy: 0.8750\n",
      "Epoch 205/500\n",
      "15/15 [==============================] - 0s 4ms/step - loss: 0.2382 - accuracy: 0.8958 - val_loss: 0.1551 - val_accuracy: 0.9375\n",
      "Epoch 206/500\n",
      "15/15 [==============================] - 0s 4ms/step - loss: 0.2328 - accuracy: 0.8403 - val_loss: 0.1123 - val_accuracy: 1.0000\n",
      "Epoch 207/500\n",
      "15/15 [==============================] - 0s 3ms/step - loss: 0.2030 - accuracy: 0.9236 - val_loss: 0.0951 - val_accuracy: 1.0000\n",
      "Epoch 208/500\n",
      "15/15 [==============================] - 0s 5ms/step - loss: 0.1803 - accuracy: 0.9306 - val_loss: 0.0909 - val_accuracy: 1.0000\n",
      "Epoch 209/500\n",
      "15/15 [==============================] - 0s 3ms/step - loss: 0.1765 - accuracy: 0.9028 - val_loss: 0.1046 - val_accuracy: 0.9375\n",
      "Epoch 210/500\n",
      "15/15 [==============================] - 0s 3ms/step - loss: 0.1907 - accuracy: 0.9097 - val_loss: 0.1999 - val_accuracy: 0.9375\n",
      "Epoch 211/500\n",
      "15/15 [==============================] - 0s 3ms/step - loss: 0.1715 - accuracy: 0.8750 - val_loss: 0.1100 - val_accuracy: 0.9375\n",
      "Epoch 212/500\n",
      "15/15 [==============================] - 0s 4ms/step - loss: 0.1959 - accuracy: 0.9028 - val_loss: 0.0805 - val_accuracy: 1.0000\n",
      "Epoch 213/500\n",
      "15/15 [==============================] - 0s 3ms/step - loss: 0.1696 - accuracy: 0.9236 - val_loss: 0.1013 - val_accuracy: 0.9375\n",
      "Epoch 214/500\n",
      "15/15 [==============================] - 0s 4ms/step - loss: 0.1737 - accuracy: 0.9236 - val_loss: 0.0914 - val_accuracy: 1.0000\n",
      "Epoch 215/500\n",
      "15/15 [==============================] - 0s 4ms/step - loss: 0.1535 - accuracy: 0.9306 - val_loss: 0.0911 - val_accuracy: 1.0000\n",
      "Epoch 216/500\n",
      "15/15 [==============================] - 0s 4ms/step - loss: 0.1445 - accuracy: 0.9236 - val_loss: 0.0863 - val_accuracy: 1.0000\n",
      "Epoch 217/500\n",
      "15/15 [==============================] - 0s 5ms/step - loss: 0.1493 - accuracy: 0.9375 - val_loss: 0.0798 - val_accuracy: 0.9375\n",
      "Epoch 218/500\n",
      "15/15 [==============================] - 0s 3ms/step - loss: 0.1259 - accuracy: 0.9514 - val_loss: 0.0864 - val_accuracy: 0.9375\n",
      "Epoch 219/500\n",
      "15/15 [==============================] - 0s 5ms/step - loss: 0.1141 - accuracy: 0.9583 - val_loss: 0.0887 - val_accuracy: 0.9375\n",
      "Epoch 220/500\n",
      "15/15 [==============================] - 0s 4ms/step - loss: 0.1170 - accuracy: 0.9514 - val_loss: 0.1045 - val_accuracy: 0.9375\n",
      "Epoch 221/500\n",
      "15/15 [==============================] - 0s 4ms/step - loss: 0.1007 - accuracy: 0.9653 - val_loss: 0.1128 - val_accuracy: 0.9375\n",
      "Epoch 222/500\n",
      "15/15 [==============================] - 0s 3ms/step - loss: 0.0987 - accuracy: 0.9583 - val_loss: 0.1065 - val_accuracy: 0.9375\n",
      "Epoch 223/500\n",
      "15/15 [==============================] - 0s 4ms/step - loss: 0.0905 - accuracy: 0.9653 - val_loss: 0.1230 - val_accuracy: 0.9375\n",
      "Epoch 224/500\n",
      "15/15 [==============================] - 0s 4ms/step - loss: 0.0972 - accuracy: 0.9653 - val_loss: 0.1040 - val_accuracy: 0.9375\n",
      "Epoch 225/500\n",
      "15/15 [==============================] - 0s 3ms/step - loss: 0.0774 - accuracy: 0.9653 - val_loss: 0.1217 - val_accuracy: 0.9375\n",
      "Epoch 226/500\n",
      "15/15 [==============================] - 0s 4ms/step - loss: 0.0784 - accuracy: 0.9792 - val_loss: 0.1047 - val_accuracy: 0.9375\n",
      "Epoch 227/500\n",
      "15/15 [==============================] - 0s 4ms/step - loss: 0.0791 - accuracy: 0.9653 - val_loss: 0.1116 - val_accuracy: 0.9375\n",
      "Epoch 228/500\n",
      "15/15 [==============================] - 0s 4ms/step - loss: 0.1427 - accuracy: 0.9653 - val_loss: 0.1171 - val_accuracy: 0.9375\n",
      "Epoch 229/500\n",
      "15/15 [==============================] - 0s 3ms/step - loss: 0.0888 - accuracy: 0.9653 - val_loss: 0.1335 - val_accuracy: 0.9375\n",
      "Epoch 230/500\n",
      "15/15 [==============================] - 0s 5ms/step - loss: 0.0702 - accuracy: 0.9861 - val_loss: 0.1236 - val_accuracy: 0.9375\n",
      "Epoch 231/500\n",
      "15/15 [==============================] - 0s 4ms/step - loss: 0.0775 - accuracy: 0.9583 - val_loss: 0.1108 - val_accuracy: 0.9375\n",
      "Epoch 232/500\n",
      "15/15 [==============================] - 0s 4ms/step - loss: 0.0740 - accuracy: 0.9792 - val_loss: 0.1120 - val_accuracy: 0.9375\n",
      "Epoch 233/500\n",
      "15/15 [==============================] - 0s 4ms/step - loss: 0.0851 - accuracy: 0.9792 - val_loss: 0.1419 - val_accuracy: 0.9375\n",
      "Epoch 234/500\n",
      "15/15 [==============================] - 0s 4ms/step - loss: 0.0817 - accuracy: 0.9653 - val_loss: 0.1580 - val_accuracy: 0.8750\n",
      "Epoch 235/500\n",
      "15/15 [==============================] - 0s 4ms/step - loss: 0.0807 - accuracy: 0.9653 - val_loss: 0.1033 - val_accuracy: 0.9375\n",
      "Epoch 236/500\n",
      "15/15 [==============================] - 0s 4ms/step - loss: 0.0741 - accuracy: 0.9722 - val_loss: 0.1502 - val_accuracy: 0.8750\n",
      "Epoch 237/500\n",
      "15/15 [==============================] - 0s 4ms/step - loss: 0.1442 - accuracy: 0.9444 - val_loss: 0.2967 - val_accuracy: 0.8750\n",
      "Epoch 238/500\n",
      "15/15 [==============================] - 0s 3ms/step - loss: 0.2791 - accuracy: 0.9028 - val_loss: 0.2953 - val_accuracy: 0.8750\n",
      "Epoch 239/500\n",
      "15/15 [==============================] - 0s 4ms/step - loss: 0.1811 - accuracy: 0.9306 - val_loss: 0.1114 - val_accuracy: 0.9375\n",
      "Epoch 240/500\n",
      "15/15 [==============================] - 0s 3ms/step - loss: 0.1819 - accuracy: 0.9028 - val_loss: 0.3091 - val_accuracy: 0.8750\n",
      "Epoch 241/500\n",
      "15/15 [==============================] - 0s 4ms/step - loss: 0.1628 - accuracy: 0.9375 - val_loss: 0.2488 - val_accuracy: 0.8750\n",
      "Epoch 242/500\n",
      "15/15 [==============================] - 0s 4ms/step - loss: 0.0898 - accuracy: 0.9514 - val_loss: 0.1779 - val_accuracy: 0.8750\n",
      "Epoch 243/500\n",
      "15/15 [==============================] - 0s 4ms/step - loss: 0.0795 - accuracy: 0.9722 - val_loss: 0.1346 - val_accuracy: 0.9375\n",
      "Epoch 244/500\n",
      "15/15 [==============================] - 0s 4ms/step - loss: 0.0790 - accuracy: 0.9722 - val_loss: 0.1577 - val_accuracy: 0.8750\n",
      "Epoch 245/500\n",
      "15/15 [==============================] - 0s 4ms/step - loss: 0.0681 - accuracy: 0.9861 - val_loss: 0.1609 - val_accuracy: 0.8750\n",
      "Epoch 246/500\n",
      "15/15 [==============================] - 0s 4ms/step - loss: 0.0728 - accuracy: 0.9583 - val_loss: 0.1507 - val_accuracy: 0.9375\n",
      "Epoch 247/500\n",
      "15/15 [==============================] - 0s 3ms/step - loss: 0.0618 - accuracy: 0.9861 - val_loss: 0.1129 - val_accuracy: 0.9375\n",
      "Epoch 248/500\n",
      "15/15 [==============================] - 0s 3ms/step - loss: 0.1142 - accuracy: 0.9653 - val_loss: 0.0675 - val_accuracy: 0.9375\n",
      "Epoch 249/500\n",
      "15/15 [==============================] - 0s 3ms/step - loss: 0.0541 - accuracy: 0.9792 - val_loss: 0.1155 - val_accuracy: 0.9375\n",
      "Epoch 250/500\n",
      "15/15 [==============================] - 0s 4ms/step - loss: 0.0406 - accuracy: 0.9931 - val_loss: 0.0972 - val_accuracy: 0.9375\n",
      "Epoch 251/500\n",
      "15/15 [==============================] - 0s 4ms/step - loss: 0.0384 - accuracy: 0.9931 - val_loss: 0.0728 - val_accuracy: 0.9375\n",
      "Epoch 252/500\n",
      "15/15 [==============================] - 0s 4ms/step - loss: 0.0355 - accuracy: 0.9931 - val_loss: 0.0733 - val_accuracy: 0.9375\n",
      "Epoch 253/500\n",
      "15/15 [==============================] - 0s 4ms/step - loss: 0.0405 - accuracy: 0.9931 - val_loss: 0.0723 - val_accuracy: 0.9375\n",
      "Epoch 254/500\n",
      "15/15 [==============================] - 0s 4ms/step - loss: 0.0370 - accuracy: 0.9861 - val_loss: 0.0662 - val_accuracy: 0.9375\n",
      "Epoch 255/500\n",
      "15/15 [==============================] - 0s 3ms/step - loss: 0.0330 - accuracy: 0.9861 - val_loss: 0.0703 - val_accuracy: 0.9375\n",
      "Epoch 256/500\n",
      "15/15 [==============================] - 0s 3ms/step - loss: 0.0381 - accuracy: 0.9931 - val_loss: 0.0700 - val_accuracy: 0.9375\n",
      "Epoch 257/500\n",
      "15/15 [==============================] - 0s 3ms/step - loss: 0.0336 - accuracy: 0.9931 - val_loss: 0.0679 - val_accuracy: 0.9375\n",
      "Epoch 258/500\n",
      "15/15 [==============================] - 0s 3ms/step - loss: 0.0232 - accuracy: 0.9931 - val_loss: 0.0599 - val_accuracy: 0.9375\n",
      "Epoch 259/500\n",
      "15/15 [==============================] - 0s 3ms/step - loss: 0.0386 - accuracy: 0.9931 - val_loss: 0.0462 - val_accuracy: 0.9375\n",
      "Epoch 260/500\n",
      "15/15 [==============================] - 0s 4ms/step - loss: 0.0283 - accuracy: 0.9861 - val_loss: 0.0476 - val_accuracy: 1.0000\n",
      "Epoch 261/500\n",
      "15/15 [==============================] - 0s 4ms/step - loss: 0.0236 - accuracy: 0.9861 - val_loss: 0.0531 - val_accuracy: 0.9375\n",
      "Epoch 262/500\n",
      "15/15 [==============================] - 0s 3ms/step - loss: 0.0322 - accuracy: 0.9931 - val_loss: 0.0479 - val_accuracy: 0.9375\n",
      "Epoch 263/500\n",
      "15/15 [==============================] - 0s 4ms/step - loss: 0.0328 - accuracy: 0.9931 - val_loss: 0.0453 - val_accuracy: 1.0000\n",
      "Epoch 264/500\n",
      "15/15 [==============================] - 0s 3ms/step - loss: 0.0228 - accuracy: 0.9931 - val_loss: 0.0427 - val_accuracy: 1.0000\n",
      "Epoch 265/500\n",
      "15/15 [==============================] - 0s 4ms/step - loss: 0.0264 - accuracy: 0.9931 - val_loss: 0.0398 - val_accuracy: 1.0000\n",
      "Epoch 266/500\n",
      "15/15 [==============================] - 0s 4ms/step - loss: 0.0270 - accuracy: 0.9931 - val_loss: 0.0418 - val_accuracy: 1.0000\n",
      "Epoch 267/500\n",
      "15/15 [==============================] - 0s 3ms/step - loss: 0.0266 - accuracy: 0.9861 - val_loss: 0.0444 - val_accuracy: 1.0000\n",
      "Epoch 268/500\n",
      "15/15 [==============================] - 0s 4ms/step - loss: 0.0230 - accuracy: 0.9931 - val_loss: 0.0479 - val_accuracy: 1.0000\n",
      "Epoch 269/500\n",
      "15/15 [==============================] - 0s 4ms/step - loss: 0.0320 - accuracy: 0.9931 - val_loss: 0.0494 - val_accuracy: 1.0000\n",
      "Epoch 270/500\n",
      "15/15 [==============================] - 0s 5ms/step - loss: 0.0103 - accuracy: 1.0000 - val_loss: 0.0419 - val_accuracy: 1.0000\n",
      "Epoch 271/500\n",
      "15/15 [==============================] - 0s 4ms/step - loss: 0.0272 - accuracy: 0.9931 - val_loss: 0.0522 - val_accuracy: 1.0000\n",
      "Epoch 272/500\n",
      "15/15 [==============================] - 0s 4ms/step - loss: 0.0301 - accuracy: 0.9861 - val_loss: 0.0562 - val_accuracy: 1.0000\n",
      "Epoch 273/500\n",
      "15/15 [==============================] - 0s 3ms/step - loss: 0.0250 - accuracy: 0.9931 - val_loss: 0.0546 - val_accuracy: 1.0000\n",
      "Epoch 274/500\n",
      "15/15 [==============================] - 0s 3ms/step - loss: 0.0344 - accuracy: 0.9931 - val_loss: 0.0542 - val_accuracy: 1.0000\n",
      "Epoch 275/500\n",
      "15/15 [==============================] - 0s 4ms/step - loss: 0.0482 - accuracy: 0.9861 - val_loss: 0.0537 - val_accuracy: 1.0000\n",
      "Epoch 276/500\n",
      "15/15 [==============================] - 0s 4ms/step - loss: 0.0360 - accuracy: 0.9931 - val_loss: 0.0560 - val_accuracy: 1.0000\n",
      "Epoch 277/500\n",
      "15/15 [==============================] - 0s 3ms/step - loss: 0.0414 - accuracy: 0.9861 - val_loss: 0.0670 - val_accuracy: 1.0000\n",
      "Epoch 278/500\n",
      "15/15 [==============================] - 0s 4ms/step - loss: 0.0117 - accuracy: 1.0000 - val_loss: 0.0639 - val_accuracy: 1.0000\n",
      "Epoch 279/500\n",
      "15/15 [==============================] - 0s 4ms/step - loss: 0.0393 - accuracy: 0.9861 - val_loss: 0.0762 - val_accuracy: 1.0000\n",
      "Epoch 280/500\n",
      "15/15 [==============================] - 0s 4ms/step - loss: 0.0471 - accuracy: 0.9861 - val_loss: 0.0818 - val_accuracy: 1.0000\n",
      "Epoch 281/500\n",
      "15/15 [==============================] - 0s 4ms/step - loss: 0.0198 - accuracy: 0.9931 - val_loss: 0.0894 - val_accuracy: 1.0000\n",
      "Epoch 282/500\n",
      "15/15 [==============================] - 0s 3ms/step - loss: 0.0232 - accuracy: 0.9931 - val_loss: 0.0693 - val_accuracy: 1.0000\n",
      "Epoch 283/500\n",
      "15/15 [==============================] - 0s 4ms/step - loss: 0.0196 - accuracy: 0.9931 - val_loss: 0.0637 - val_accuracy: 1.0000\n",
      "Epoch 284/500\n",
      "15/15 [==============================] - 0s 4ms/step - loss: 0.0421 - accuracy: 0.9931 - val_loss: 0.0874 - val_accuracy: 1.0000\n",
      "Epoch 285/500\n",
      "15/15 [==============================] - 0s 3ms/step - loss: 0.0221 - accuracy: 0.9931 - val_loss: 0.0688 - val_accuracy: 1.0000\n",
      "Epoch 286/500\n",
      "15/15 [==============================] - 0s 4ms/step - loss: 0.0281 - accuracy: 0.9931 - val_loss: 0.0763 - val_accuracy: 1.0000\n",
      "Epoch 287/500\n"
     ]
    },
    {
     "name": "stdout",
     "output_type": "stream",
     "text": [
      "15/15 [==============================] - 0s 4ms/step - loss: 0.0201 - accuracy: 0.9861 - val_loss: 0.0787 - val_accuracy: 1.0000\n",
      "Epoch 288/500\n",
      "15/15 [==============================] - 0s 4ms/step - loss: 0.0234 - accuracy: 0.9861 - val_loss: 0.0638 - val_accuracy: 1.0000\n",
      "Epoch 289/500\n",
      "15/15 [==============================] - 0s 3ms/step - loss: 0.0261 - accuracy: 0.9931 - val_loss: 0.0767 - val_accuracy: 1.0000\n",
      "Epoch 290/500\n",
      "15/15 [==============================] - 0s 3ms/step - loss: 0.0286 - accuracy: 0.9931 - val_loss: 0.1027 - val_accuracy: 1.0000\n",
      "Epoch 291/500\n",
      "15/15 [==============================] - 0s 4ms/step - loss: 0.0390 - accuracy: 0.9792 - val_loss: 0.0455 - val_accuracy: 1.0000\n",
      "Epoch 292/500\n",
      "15/15 [==============================] - 0s 4ms/step - loss: 0.0413 - accuracy: 0.9861 - val_loss: 0.0788 - val_accuracy: 1.0000\n",
      "Epoch 293/500\n",
      "15/15 [==============================] - 0s 4ms/step - loss: 0.0214 - accuracy: 0.9931 - val_loss: 0.1264 - val_accuracy: 0.9375\n",
      "Epoch 294/500\n",
      "15/15 [==============================] - 0s 4ms/step - loss: 0.0167 - accuracy: 0.9931 - val_loss: 0.0790 - val_accuracy: 1.0000\n",
      "Epoch 295/500\n",
      "15/15 [==============================] - 0s 5ms/step - loss: 0.0204 - accuracy: 0.9931 - val_loss: 0.0652 - val_accuracy: 1.0000\n",
      "Epoch 296/500\n",
      "15/15 [==============================] - 0s 4ms/step - loss: 0.0206 - accuracy: 0.9931 - val_loss: 0.0561 - val_accuracy: 1.0000\n",
      "Epoch 297/500\n",
      "15/15 [==============================] - 0s 4ms/step - loss: 0.0329 - accuracy: 0.9931 - val_loss: 0.0572 - val_accuracy: 1.0000\n",
      "Epoch 298/500\n",
      "15/15 [==============================] - 0s 3ms/step - loss: 0.0390 - accuracy: 0.9931 - val_loss: 0.0908 - val_accuracy: 0.9375\n",
      "Epoch 299/500\n",
      "15/15 [==============================] - 0s 3ms/step - loss: 0.0304 - accuracy: 0.9861 - val_loss: 0.0697 - val_accuracy: 1.0000\n",
      "Epoch 300/500\n",
      "15/15 [==============================] - 0s 5ms/step - loss: 0.0254 - accuracy: 0.9861 - val_loss: 0.0765 - val_accuracy: 1.0000\n",
      "Epoch 301/500\n",
      "15/15 [==============================] - 0s 5ms/step - loss: 0.0157 - accuracy: 0.9931 - val_loss: 0.0736 - val_accuracy: 1.0000\n",
      "Epoch 302/500\n",
      "15/15 [==============================] - 0s 4ms/step - loss: 0.0207 - accuracy: 0.9931 - val_loss: 0.0833 - val_accuracy: 0.9375\n",
      "Epoch 303/500\n",
      "15/15 [==============================] - 0s 4ms/step - loss: 0.0215 - accuracy: 0.9931 - val_loss: 0.0852 - val_accuracy: 0.9375\n",
      "Epoch 304/500\n",
      "15/15 [==============================] - 0s 3ms/step - loss: 0.0359 - accuracy: 0.9931 - val_loss: 0.0892 - val_accuracy: 0.9375\n",
      "Epoch 305/500\n",
      "15/15 [==============================] - 0s 4ms/step - loss: 0.0260 - accuracy: 0.9931 - val_loss: 0.0840 - val_accuracy: 0.9375\n",
      "Epoch 306/500\n",
      "15/15 [==============================] - 0s 4ms/step - loss: 0.0153 - accuracy: 0.9861 - val_loss: 0.0807 - val_accuracy: 0.9375\n",
      "Epoch 307/500\n",
      "15/15 [==============================] - 0s 4ms/step - loss: 0.0308 - accuracy: 0.9861 - val_loss: 0.0512 - val_accuracy: 1.0000\n",
      "Epoch 308/500\n",
      "15/15 [==============================] - 0s 4ms/step - loss: 0.0174 - accuracy: 0.9861 - val_loss: 0.0459 - val_accuracy: 1.0000\n",
      "Epoch 309/500\n",
      "15/15 [==============================] - 0s 4ms/step - loss: 0.0185 - accuracy: 0.9931 - val_loss: 0.0797 - val_accuracy: 0.9375\n",
      "Epoch 310/500\n",
      "15/15 [==============================] - 0s 3ms/step - loss: 0.0317 - accuracy: 0.9931 - val_loss: 0.0603 - val_accuracy: 1.0000\n",
      "Epoch 311/500\n",
      "15/15 [==============================] - 0s 4ms/step - loss: 0.0176 - accuracy: 0.9861 - val_loss: 0.0485 - val_accuracy: 1.0000\n",
      "Epoch 312/500\n",
      "15/15 [==============================] - 0s 4ms/step - loss: 0.0156 - accuracy: 0.9931 - val_loss: 0.0575 - val_accuracy: 1.0000\n",
      "Epoch 313/500\n",
      "15/15 [==============================] - 0s 4ms/step - loss: 0.0182 - accuracy: 0.9861 - val_loss: 0.0448 - val_accuracy: 1.0000\n",
      "Epoch 314/500\n",
      "15/15 [==============================] - 0s 4ms/step - loss: 0.0130 - accuracy: 0.9931 - val_loss: 0.0496 - val_accuracy: 1.0000\n",
      "Epoch 315/500\n",
      "15/15 [==============================] - 0s 3ms/step - loss: 0.0196 - accuracy: 0.9931 - val_loss: 0.0597 - val_accuracy: 1.0000\n",
      "Epoch 316/500\n",
      "15/15 [==============================] - 0s 4ms/step - loss: 0.0244 - accuracy: 0.9931 - val_loss: 0.0655 - val_accuracy: 1.0000\n",
      "Epoch 317/500\n",
      "15/15 [==============================] - 0s 4ms/step - loss: 0.0154 - accuracy: 0.9861 - val_loss: 0.0810 - val_accuracy: 0.9375\n",
      "Epoch 318/500\n",
      "15/15 [==============================] - 0s 3ms/step - loss: 0.0246 - accuracy: 0.9931 - val_loss: 0.0531 - val_accuracy: 1.0000\n",
      "Epoch 319/500\n",
      "15/15 [==============================] - 0s 4ms/step - loss: 0.0187 - accuracy: 0.9931 - val_loss: 0.0591 - val_accuracy: 1.0000\n",
      "Epoch 320/500\n",
      "15/15 [==============================] - 0s 4ms/step - loss: 0.0170 - accuracy: 0.9861 - val_loss: 0.0508 - val_accuracy: 1.0000\n",
      "Epoch 321/500\n",
      "15/15 [==============================] - 0s 3ms/step - loss: 0.0252 - accuracy: 0.9861 - val_loss: 0.0533 - val_accuracy: 1.0000\n",
      "Epoch 322/500\n",
      "15/15 [==============================] - 0s 4ms/step - loss: 0.0205 - accuracy: 0.9931 - val_loss: 0.0564 - val_accuracy: 1.0000\n",
      "Epoch 323/500\n",
      "15/15 [==============================] - 0s 4ms/step - loss: 0.0219 - accuracy: 0.9931 - val_loss: 0.0658 - val_accuracy: 1.0000\n",
      "Epoch 324/500\n",
      "15/15 [==============================] - 0s 3ms/step - loss: 0.0204 - accuracy: 0.9861 - val_loss: 0.0766 - val_accuracy: 0.9375\n",
      "Epoch 325/500\n",
      "15/15 [==============================] - 0s 3ms/step - loss: 0.0478 - accuracy: 0.9861 - val_loss: 0.1027 - val_accuracy: 0.9375\n",
      "Epoch 326/500\n",
      "15/15 [==============================] - 0s 3ms/step - loss: 0.0439 - accuracy: 0.9861 - val_loss: 0.0883 - val_accuracy: 0.9375\n",
      "Epoch 327/500\n",
      "15/15 [==============================] - 0s 4ms/step - loss: 0.0148 - accuracy: 0.9931 - val_loss: 0.1078 - val_accuracy: 0.9375\n",
      "Epoch 328/500\n",
      "15/15 [==============================] - 0s 4ms/step - loss: 0.0284 - accuracy: 0.9861 - val_loss: 0.0927 - val_accuracy: 0.9375\n",
      "Epoch 329/500\n",
      "15/15 [==============================] - 0s 3ms/step - loss: 0.0148 - accuracy: 0.9931 - val_loss: 0.0744 - val_accuracy: 1.0000\n",
      "Epoch 330/500\n",
      "15/15 [==============================] - 0s 4ms/step - loss: 0.0160 - accuracy: 0.9931 - val_loss: 0.0951 - val_accuracy: 0.9375\n",
      "Epoch 331/500\n",
      "15/15 [==============================] - 0s 4ms/step - loss: 0.0225 - accuracy: 0.9931 - val_loss: 0.0839 - val_accuracy: 0.9375\n",
      "Epoch 332/500\n",
      "15/15 [==============================] - 0s 4ms/step - loss: 0.0214 - accuracy: 0.9931 - val_loss: 0.0841 - val_accuracy: 0.9375\n",
      "Epoch 333/500\n",
      "15/15 [==============================] - 0s 4ms/step - loss: 0.0176 - accuracy: 0.9861 - val_loss: 0.0988 - val_accuracy: 0.9375\n",
      "Epoch 334/500\n",
      "15/15 [==============================] - 0s 3ms/step - loss: 0.0169 - accuracy: 0.9931 - val_loss: 0.0678 - val_accuracy: 1.0000\n",
      "Epoch 335/500\n",
      "15/15 [==============================] - 0s 4ms/step - loss: 0.0191 - accuracy: 0.9931 - val_loss: 0.0645 - val_accuracy: 1.0000\n",
      "Epoch 336/500\n",
      "15/15 [==============================] - 0s 4ms/step - loss: 0.0147 - accuracy: 0.9931 - val_loss: 0.0633 - val_accuracy: 1.0000\n",
      "Epoch 337/500\n",
      "15/15 [==============================] - 0s 4ms/step - loss: 0.0232 - accuracy: 0.9861 - val_loss: 0.0597 - val_accuracy: 1.0000\n",
      "Epoch 338/500\n",
      "15/15 [==============================] - 0s 3ms/step - loss: 0.0203 - accuracy: 0.9861 - val_loss: 0.0680 - val_accuracy: 1.0000\n",
      "Epoch 339/500\n",
      "15/15 [==============================] - 0s 4ms/step - loss: 0.0212 - accuracy: 0.9931 - val_loss: 0.0881 - val_accuracy: 0.9375\n",
      "Epoch 340/500\n",
      "15/15 [==============================] - 0s 3ms/step - loss: 0.0240 - accuracy: 0.9931 - val_loss: 0.0833 - val_accuracy: 0.9375\n",
      "Epoch 341/500\n",
      "15/15 [==============================] - 0s 3ms/step - loss: 0.0275 - accuracy: 0.9931 - val_loss: 0.0940 - val_accuracy: 0.9375\n",
      "Epoch 342/500\n",
      "15/15 [==============================] - 0s 3ms/step - loss: 0.0170 - accuracy: 0.9861 - val_loss: 0.1061 - val_accuracy: 0.9375\n",
      "Epoch 343/500\n",
      "15/15 [==============================] - 0s 4ms/step - loss: 0.0223 - accuracy: 0.9931 - val_loss: 0.1107 - val_accuracy: 0.9375\n",
      "Epoch 344/500\n",
      "15/15 [==============================] - 0s 4ms/step - loss: 0.0299 - accuracy: 0.9931 - val_loss: 0.1175 - val_accuracy: 0.9375\n",
      "Epoch 345/500\n",
      "15/15 [==============================] - 0s 3ms/step - loss: 0.0228 - accuracy: 0.9861 - val_loss: 0.1167 - val_accuracy: 0.9375\n",
      "Epoch 346/500\n",
      "15/15 [==============================] - 0s 3ms/step - loss: 0.0178 - accuracy: 0.9931 - val_loss: 0.1229 - val_accuracy: 0.9375\n",
      "Epoch 347/500\n",
      "15/15 [==============================] - 0s 3ms/step - loss: 0.0144 - accuracy: 0.9861 - val_loss: 0.0715 - val_accuracy: 1.0000\n",
      "Epoch 348/500\n",
      "15/15 [==============================] - 0s 3ms/step - loss: 0.0119 - accuracy: 0.9931 - val_loss: 0.0447 - val_accuracy: 1.0000\n",
      "Epoch 349/500\n",
      "15/15 [==============================] - 0s 4ms/step - loss: 0.0207 - accuracy: 0.9931 - val_loss: 0.0569 - val_accuracy: 1.0000\n",
      "Epoch 350/500\n",
      "15/15 [==============================] - 0s 4ms/step - loss: 0.0203 - accuracy: 0.9861 - val_loss: 0.0565 - val_accuracy: 1.0000\n",
      "Epoch 351/500\n",
      "15/15 [==============================] - 0s 4ms/step - loss: 0.0230 - accuracy: 0.9861 - val_loss: 0.0531 - val_accuracy: 1.0000\n",
      "Epoch 352/500\n",
      "15/15 [==============================] - 0s 4ms/step - loss: 0.0206 - accuracy: 0.9861 - val_loss: 0.0644 - val_accuracy: 1.0000\n",
      "Epoch 353/500\n",
      "15/15 [==============================] - 0s 4ms/step - loss: 0.0647 - accuracy: 0.9931 - val_loss: 0.0953 - val_accuracy: 1.0000\n",
      "Epoch 354/500\n",
      "15/15 [==============================] - 0s 3ms/step - loss: 0.0566 - accuracy: 0.9861 - val_loss: 0.0525 - val_accuracy: 1.0000\n",
      "Epoch 355/500\n",
      "15/15 [==============================] - 0s 3ms/step - loss: 0.0180 - accuracy: 0.9861 - val_loss: 0.1110 - val_accuracy: 0.9375\n",
      "Epoch 356/500\n",
      "15/15 [==============================] - 0s 4ms/step - loss: 0.0167 - accuracy: 0.9931 - val_loss: 0.1479 - val_accuracy: 0.9375\n",
      "Epoch 357/500\n",
      "15/15 [==============================] - 0s 4ms/step - loss: 0.0519 - accuracy: 0.9931 - val_loss: 0.1011 - val_accuracy: 0.9375\n",
      "Epoch 358/500\n",
      "15/15 [==============================] - 0s 5ms/step - loss: 0.0143 - accuracy: 0.9931 - val_loss: 0.0943 - val_accuracy: 0.9375\n",
      "Epoch 359/500\n",
      "15/15 [==============================] - 0s 4ms/step - loss: 0.0217 - accuracy: 0.9931 - val_loss: 0.0396 - val_accuracy: 1.0000\n",
      "Epoch 360/500\n",
      "15/15 [==============================] - 0s 4ms/step - loss: 0.0073 - accuracy: 1.0000 - val_loss: 0.0277 - val_accuracy: 1.0000\n",
      "Epoch 361/500\n",
      "15/15 [==============================] - 0s 3ms/step - loss: 0.0314 - accuracy: 0.9861 - val_loss: 0.0253 - val_accuracy: 1.0000\n",
      "Epoch 362/500\n",
      "15/15 [==============================] - 0s 4ms/step - loss: 0.0185 - accuracy: 0.9931 - val_loss: 0.0281 - val_accuracy: 1.0000\n",
      "Epoch 363/500\n",
      "15/15 [==============================] - 0s 4ms/step - loss: 0.0165 - accuracy: 0.9861 - val_loss: 0.0283 - val_accuracy: 1.0000\n",
      "Epoch 364/500\n",
      "15/15 [==============================] - 0s 4ms/step - loss: 0.0179 - accuracy: 0.9861 - val_loss: 0.0283 - val_accuracy: 1.0000\n",
      "Epoch 365/500\n",
      "15/15 [==============================] - 0s 4ms/step - loss: 0.0200 - accuracy: 0.9931 - val_loss: 0.0403 - val_accuracy: 1.0000\n",
      "Epoch 366/500\n",
      "15/15 [==============================] - 0s 4ms/step - loss: 0.0153 - accuracy: 0.9931 - val_loss: 0.0400 - val_accuracy: 1.0000\n",
      "Epoch 367/500\n",
      "15/15 [==============================] - 0s 3ms/step - loss: 0.0267 - accuracy: 0.9861 - val_loss: 0.0457 - val_accuracy: 1.0000\n",
      "Epoch 368/500\n",
      "15/15 [==============================] - 0s 4ms/step - loss: 0.0173 - accuracy: 0.9931 - val_loss: 0.0631 - val_accuracy: 1.0000\n",
      "Epoch 369/500\n",
      "15/15 [==============================] - 0s 3ms/step - loss: 0.0347 - accuracy: 0.9931 - val_loss: 0.0814 - val_accuracy: 0.9375\n",
      "Epoch 370/500\n",
      "15/15 [==============================] - 0s 3ms/step - loss: 0.0234 - accuracy: 0.9861 - val_loss: 0.0872 - val_accuracy: 0.9375\n",
      "Epoch 371/500\n",
      "15/15 [==============================] - 0s 4ms/step - loss: 0.0222 - accuracy: 0.9931 - val_loss: 0.0762 - val_accuracy: 0.9375\n",
      "Epoch 372/500\n",
      "15/15 [==============================] - 0s 3ms/step - loss: 0.0133 - accuracy: 0.9931 - val_loss: 0.0786 - val_accuracy: 0.9375\n",
      "Epoch 373/500\n",
      "15/15 [==============================] - 0s 4ms/step - loss: 0.0129 - accuracy: 0.9861 - val_loss: 0.0740 - val_accuracy: 1.0000\n",
      "Epoch 374/500\n",
      "15/15 [==============================] - 0s 3ms/step - loss: 0.0217 - accuracy: 0.9861 - val_loss: 0.0827 - val_accuracy: 0.9375\n",
      "Epoch 375/500\n",
      "15/15 [==============================] - 0s 3ms/step - loss: 0.0148 - accuracy: 0.9931 - val_loss: 0.0820 - val_accuracy: 0.9375\n",
      "Epoch 376/500\n",
      "15/15 [==============================] - 0s 5ms/step - loss: 0.0129 - accuracy: 0.9931 - val_loss: 0.0886 - val_accuracy: 0.9375\n",
      "Epoch 377/500\n",
      "15/15 [==============================] - 0s 4ms/step - loss: 0.0183 - accuracy: 0.9931 - val_loss: 0.0985 - val_accuracy: 0.9375\n",
      "Epoch 378/500\n",
      "15/15 [==============================] - 0s 4ms/step - loss: 0.0199 - accuracy: 0.9931 - val_loss: 0.1076 - val_accuracy: 0.9375\n",
      "Epoch 379/500\n",
      "15/15 [==============================] - 0s 4ms/step - loss: 0.0080 - accuracy: 1.0000 - val_loss: 0.0577 - val_accuracy: 1.0000\n",
      "Epoch 380/500\n",
      "15/15 [==============================] - 0s 4ms/step - loss: 0.0300 - accuracy: 0.9931 - val_loss: 0.0551 - val_accuracy: 1.0000\n",
      "Epoch 381/500\n",
      "15/15 [==============================] - 0s 3ms/step - loss: 0.0323 - accuracy: 0.9931 - val_loss: 0.0484 - val_accuracy: 1.0000\n",
      "Epoch 382/500\n",
      "15/15 [==============================] - 0s 3ms/step - loss: 0.0604 - accuracy: 0.9861 - val_loss: 0.0387 - val_accuracy: 1.0000\n",
      "Epoch 383/500\n",
      "15/15 [==============================] - 0s 3ms/step - loss: 0.0225 - accuracy: 0.9861 - val_loss: 0.0774 - val_accuracy: 1.0000\n",
      "Epoch 384/500\n",
      "15/15 [==============================] - 0s 4ms/step - loss: 0.0286 - accuracy: 0.9861 - val_loss: 0.0348 - val_accuracy: 1.0000\n",
      "Epoch 385/500\n",
      "15/15 [==============================] - 0s 3ms/step - loss: 0.0128 - accuracy: 0.9931 - val_loss: 0.0485 - val_accuracy: 1.0000\n",
      "Epoch 386/500\n",
      "15/15 [==============================] - 0s 6ms/step - loss: 0.0118 - accuracy: 0.9931 - val_loss: 0.0395 - val_accuracy: 1.0000\n",
      "Epoch 387/500\n",
      "15/15 [==============================] - 0s 4ms/step - loss: 0.0118 - accuracy: 0.9931 - val_loss: 0.0378 - val_accuracy: 1.0000\n",
      "Epoch 388/500\n",
      "15/15 [==============================] - 0s 4ms/step - loss: 0.0232 - accuracy: 0.9931 - val_loss: 0.0546 - val_accuracy: 1.0000\n",
      "Epoch 389/500\n",
      "15/15 [==============================] - 0s 4ms/step - loss: 0.0234 - accuracy: 0.9931 - val_loss: 0.0615 - val_accuracy: 1.0000\n",
      "Epoch 390/500\n",
      "15/15 [==============================] - 0s 3ms/step - loss: 0.0586 - accuracy: 0.9931 - val_loss: 0.2293 - val_accuracy: 0.9375\n",
      "Epoch 391/500\n",
      "15/15 [==============================] - 0s 4ms/step - loss: 0.2213 - accuracy: 0.9514 - val_loss: 1.4849 - val_accuracy: 0.8125\n",
      "Epoch 392/500\n",
      "15/15 [==============================] - 0s 4ms/step - loss: 0.2958 - accuracy: 0.9306 - val_loss: 0.6766 - val_accuracy: 0.9375\n",
      "Epoch 393/500\n",
      "15/15 [==============================] - 0s 4ms/step - loss: 0.3894 - accuracy: 0.8889 - val_loss: 0.4903 - val_accuracy: 0.8750\n",
      "Epoch 394/500\n",
      "15/15 [==============================] - 0s 4ms/step - loss: 0.2705 - accuracy: 0.9097 - val_loss: 0.2459 - val_accuracy: 0.8750\n",
      "Epoch 395/500\n",
      "15/15 [==============================] - 0s 4ms/step - loss: 0.2056 - accuracy: 0.9444 - val_loss: 0.2155 - val_accuracy: 0.9375\n",
      "Epoch 396/500\n",
      "15/15 [==============================] - 0s 4ms/step - loss: 0.1477 - accuracy: 0.9444 - val_loss: 0.0484 - val_accuracy: 1.0000\n",
      "Epoch 397/500\n",
      "15/15 [==============================] - 0s 4ms/step - loss: 0.1777 - accuracy: 0.9375 - val_loss: 0.0799 - val_accuracy: 0.9375\n",
      "Epoch 398/500\n",
      "15/15 [==============================] - 0s 4ms/step - loss: 0.1657 - accuracy: 0.9236 - val_loss: 0.3747 - val_accuracy: 0.8750\n",
      "Epoch 399/500\n",
      "15/15 [==============================] - 0s 5ms/step - loss: 0.3704 - accuracy: 0.9097 - val_loss: 0.0693 - val_accuracy: 1.0000\n",
      "Epoch 400/500\n",
      "15/15 [==============================] - 0s 5ms/step - loss: 0.0605 - accuracy: 0.9514 - val_loss: 0.1704 - val_accuracy: 0.8750\n",
      "Epoch 401/500\n"
     ]
    },
    {
     "name": "stdout",
     "output_type": "stream",
     "text": [
      "15/15 [==============================] - 0s 4ms/step - loss: 0.0552 - accuracy: 0.9792 - val_loss: 0.0741 - val_accuracy: 0.9375\n",
      "Epoch 402/500\n",
      "15/15 [==============================] - 0s 3ms/step - loss: 0.0359 - accuracy: 0.9861 - val_loss: 0.0567 - val_accuracy: 1.0000\n",
      "Epoch 403/500\n",
      "15/15 [==============================] - 0s 3ms/step - loss: 0.0273 - accuracy: 0.9861 - val_loss: 0.0466 - val_accuracy: 1.0000\n",
      "Epoch 404/500\n",
      "15/15 [==============================] - 0s 3ms/step - loss: 0.0298 - accuracy: 0.9861 - val_loss: 0.0372 - val_accuracy: 1.0000\n",
      "Epoch 405/500\n",
      "15/15 [==============================] - 0s 4ms/step - loss: 0.0245 - accuracy: 0.9931 - val_loss: 0.0382 - val_accuracy: 1.0000\n",
      "Epoch 406/500\n",
      "15/15 [==============================] - 0s 4ms/step - loss: 0.0282 - accuracy: 0.9931 - val_loss: 0.0352 - val_accuracy: 1.0000\n",
      "Epoch 407/500\n",
      "15/15 [==============================] - 0s 3ms/step - loss: 0.0329 - accuracy: 0.9931 - val_loss: 0.0333 - val_accuracy: 1.0000\n",
      "Epoch 408/500\n",
      "15/15 [==============================] - 0s 4ms/step - loss: 0.0209 - accuracy: 0.9931 - val_loss: 0.0263 - val_accuracy: 1.0000\n",
      "Epoch 409/500\n",
      "15/15 [==============================] - 0s 4ms/step - loss: 0.0283 - accuracy: 0.9931 - val_loss: 0.0343 - val_accuracy: 1.0000\n",
      "Epoch 410/500\n",
      "15/15 [==============================] - 0s 3ms/step - loss: 0.0222 - accuracy: 0.9931 - val_loss: 0.0252 - val_accuracy: 1.0000\n",
      "Epoch 411/500\n",
      "15/15 [==============================] - 0s 3ms/step - loss: 0.0355 - accuracy: 0.9861 - val_loss: 0.0286 - val_accuracy: 1.0000\n",
      "Epoch 412/500\n",
      "15/15 [==============================] - 0s 3ms/step - loss: 0.0414 - accuracy: 0.9861 - val_loss: 0.0244 - val_accuracy: 1.0000\n",
      "Epoch 413/500\n",
      "15/15 [==============================] - 0s 3ms/step - loss: 0.0183 - accuracy: 0.9931 - val_loss: 0.0328 - val_accuracy: 1.0000\n",
      "Epoch 414/500\n",
      "15/15 [==============================] - 0s 4ms/step - loss: 0.0283 - accuracy: 0.9931 - val_loss: 0.0238 - val_accuracy: 1.0000\n",
      "Epoch 415/500\n",
      "15/15 [==============================] - 0s 3ms/step - loss: 0.0392 - accuracy: 0.9861 - val_loss: 0.0267 - val_accuracy: 1.0000\n",
      "Epoch 416/500\n",
      "15/15 [==============================] - 0s 3ms/step - loss: 0.0190 - accuracy: 0.9931 - val_loss: 0.0248 - val_accuracy: 1.0000\n",
      "Epoch 417/500\n",
      "15/15 [==============================] - 0s 3ms/step - loss: 0.0296 - accuracy: 0.9931 - val_loss: 0.0240 - val_accuracy: 1.0000\n",
      "Epoch 418/500\n",
      "15/15 [==============================] - 0s 3ms/step - loss: 0.0300 - accuracy: 0.9931 - val_loss: 0.0272 - val_accuracy: 1.0000\n",
      "Epoch 419/500\n",
      "15/15 [==============================] - 0s 3ms/step - loss: 0.0182 - accuracy: 0.9931 - val_loss: 0.0212 - val_accuracy: 1.0000\n",
      "Epoch 420/500\n",
      "15/15 [==============================] - 0s 3ms/step - loss: 0.0188 - accuracy: 0.9931 - val_loss: 0.0215 - val_accuracy: 1.0000\n",
      "Epoch 421/500\n",
      "15/15 [==============================] - 0s 3ms/step - loss: 0.0197 - accuracy: 0.9931 - val_loss: 0.0223 - val_accuracy: 1.0000\n",
      "Epoch 422/500\n",
      "15/15 [==============================] - 0s 3ms/step - loss: 0.0224 - accuracy: 0.9931 - val_loss: 0.0180 - val_accuracy: 1.0000\n",
      "Epoch 423/500\n",
      "15/15 [==============================] - 0s 4ms/step - loss: 0.0235 - accuracy: 0.9861 - val_loss: 0.0198 - val_accuracy: 1.0000\n",
      "Epoch 424/500\n",
      "15/15 [==============================] - 0s 3ms/step - loss: 0.0192 - accuracy: 0.9931 - val_loss: 0.0232 - val_accuracy: 1.0000\n",
      "Epoch 425/500\n",
      "15/15 [==============================] - 0s 3ms/step - loss: 0.0240 - accuracy: 0.9931 - val_loss: 0.0183 - val_accuracy: 1.0000\n",
      "Epoch 426/500\n",
      "15/15 [==============================] - 0s 4ms/step - loss: 0.0234 - accuracy: 0.9931 - val_loss: 0.0216 - val_accuracy: 1.0000\n",
      "Epoch 427/500\n",
      "15/15 [==============================] - 0s 3ms/step - loss: 0.0182 - accuracy: 0.9931 - val_loss: 0.0224 - val_accuracy: 1.0000\n",
      "Epoch 428/500\n",
      "15/15 [==============================] - 0s 3ms/step - loss: 0.0250 - accuracy: 0.9861 - val_loss: 0.0204 - val_accuracy: 1.0000\n",
      "Epoch 429/500\n",
      "15/15 [==============================] - 0s 3ms/step - loss: 0.0183 - accuracy: 0.9861 - val_loss: 0.0198 - val_accuracy: 1.0000\n",
      "Epoch 430/500\n",
      "15/15 [==============================] - 0s 3ms/step - loss: 0.0191 - accuracy: 0.9931 - val_loss: 0.0183 - val_accuracy: 1.0000\n",
      "Epoch 431/500\n",
      "15/15 [==============================] - 0s 4ms/step - loss: 0.0213 - accuracy: 0.9931 - val_loss: 0.0174 - val_accuracy: 1.0000\n",
      "Epoch 432/500\n",
      "15/15 [==============================] - 0s 3ms/step - loss: 0.0203 - accuracy: 0.9861 - val_loss: 0.0166 - val_accuracy: 1.0000\n",
      "Epoch 433/500\n",
      "15/15 [==============================] - 0s 3ms/step - loss: 0.0244 - accuracy: 0.9931 - val_loss: 0.0184 - val_accuracy: 1.0000\n",
      "Epoch 434/500\n",
      "15/15 [==============================] - 0s 3ms/step - loss: 0.0365 - accuracy: 0.9931 - val_loss: 0.0206 - val_accuracy: 1.0000\n",
      "Epoch 435/500\n",
      "15/15 [==============================] - 0s 3ms/step - loss: 0.0100 - accuracy: 1.0000 - val_loss: 0.0193 - val_accuracy: 1.0000\n",
      "Epoch 436/500\n",
      "15/15 [==============================] - 0s 4ms/step - loss: 0.0285 - accuracy: 0.9931 - val_loss: 0.0150 - val_accuracy: 1.0000\n",
      "Epoch 437/500\n",
      "15/15 [==============================] - 0s 3ms/step - loss: 0.0297 - accuracy: 0.9931 - val_loss: 0.0163 - val_accuracy: 1.0000\n",
      "Epoch 438/500\n",
      "15/15 [==============================] - 0s 3ms/step - loss: 0.0305 - accuracy: 0.9861 - val_loss: 0.0202 - val_accuracy: 1.0000\n",
      "Epoch 439/500\n",
      "15/15 [==============================] - 0s 3ms/step - loss: 0.0208 - accuracy: 0.9861 - val_loss: 0.0156 - val_accuracy: 1.0000\n",
      "Epoch 440/500\n",
      "15/15 [==============================] - 0s 3ms/step - loss: 0.0251 - accuracy: 0.9861 - val_loss: 0.0168 - val_accuracy: 1.0000\n",
      "Epoch 441/500\n",
      "15/15 [==============================] - 0s 3ms/step - loss: 0.0218 - accuracy: 0.9931 - val_loss: 0.0140 - val_accuracy: 1.0000\n",
      "Epoch 442/500\n",
      "15/15 [==============================] - 0s 4ms/step - loss: 0.0212 - accuracy: 0.9931 - val_loss: 0.0163 - val_accuracy: 1.0000\n",
      "Epoch 443/500\n",
      "15/15 [==============================] - 0s 4ms/step - loss: 0.0228 - accuracy: 0.9931 - val_loss: 0.0169 - val_accuracy: 1.0000\n",
      "Epoch 444/500\n",
      "15/15 [==============================] - 0s 4ms/step - loss: 0.0236 - accuracy: 0.9861 - val_loss: 0.0151 - val_accuracy: 1.0000\n",
      "Epoch 445/500\n",
      "15/15 [==============================] - 0s 4ms/step - loss: 0.0251 - accuracy: 0.9861 - val_loss: 0.0158 - val_accuracy: 1.0000\n",
      "Epoch 446/500\n",
      "15/15 [==============================] - 0s 3ms/step - loss: 0.0209 - accuracy: 0.9861 - val_loss: 0.0149 - val_accuracy: 1.0000\n",
      "Epoch 447/500\n",
      "15/15 [==============================] - 0s 3ms/step - loss: 0.0206 - accuracy: 0.9931 - val_loss: 0.0166 - val_accuracy: 1.0000\n",
      "Epoch 448/500\n",
      "15/15 [==============================] - 0s 4ms/step - loss: 0.0430 - accuracy: 0.9861 - val_loss: 0.0145 - val_accuracy: 1.0000\n",
      "Epoch 449/500\n",
      "15/15 [==============================] - 0s 3ms/step - loss: 0.0325 - accuracy: 0.9931 - val_loss: 0.0171 - val_accuracy: 1.0000\n",
      "Epoch 450/500\n",
      "15/15 [==============================] - 0s 4ms/step - loss: 0.0213 - accuracy: 0.9931 - val_loss: 0.0157 - val_accuracy: 1.0000\n",
      "Epoch 451/500\n",
      "15/15 [==============================] - 0s 4ms/step - loss: 0.0306 - accuracy: 0.9931 - val_loss: 0.0167 - val_accuracy: 1.0000\n",
      "Epoch 452/500\n",
      "15/15 [==============================] - 0s 5ms/step - loss: 0.0259 - accuracy: 0.9931 - val_loss: 0.0192 - val_accuracy: 1.0000\n",
      "Epoch 453/500\n",
      "15/15 [==============================] - 0s 5ms/step - loss: 0.0162 - accuracy: 0.9931 - val_loss: 0.0191 - val_accuracy: 1.0000\n",
      "Epoch 454/500\n",
      "15/15 [==============================] - 0s 4ms/step - loss: 0.0239 - accuracy: 0.9931 - val_loss: 0.0187 - val_accuracy: 1.0000\n",
      "Epoch 455/500\n",
      "15/15 [==============================] - 0s 4ms/step - loss: 0.0296 - accuracy: 0.9931 - val_loss: 0.0144 - val_accuracy: 1.0000\n",
      "Epoch 456/500\n",
      "15/15 [==============================] - 0s 3ms/step - loss: 0.0181 - accuracy: 0.9931 - val_loss: 0.0227 - val_accuracy: 1.0000\n",
      "Epoch 457/500\n",
      "15/15 [==============================] - 0s 4ms/step - loss: 0.0290 - accuracy: 0.9861 - val_loss: 0.0167 - val_accuracy: 1.0000\n",
      "Epoch 458/500\n",
      "15/15 [==============================] - 0s 4ms/step - loss: 0.0295 - accuracy: 0.9861 - val_loss: 0.0161 - val_accuracy: 1.0000\n",
      "Epoch 459/500\n",
      "15/15 [==============================] - 0s 4ms/step - loss: 0.0245 - accuracy: 0.9861 - val_loss: 0.0145 - val_accuracy: 1.0000\n",
      "Epoch 460/500\n",
      "15/15 [==============================] - 0s 3ms/step - loss: 0.0207 - accuracy: 0.9931 - val_loss: 0.0147 - val_accuracy: 1.0000\n",
      "Epoch 461/500\n",
      "15/15 [==============================] - 0s 4ms/step - loss: 0.0189 - accuracy: 0.9931 - val_loss: 0.0170 - val_accuracy: 1.0000\n",
      "Epoch 462/500\n",
      "15/15 [==============================] - 0s 3ms/step - loss: 0.0226 - accuracy: 0.9931 - val_loss: 0.0155 - val_accuracy: 1.0000\n",
      "Epoch 463/500\n",
      "15/15 [==============================] - 0s 3ms/step - loss: 0.0199 - accuracy: 0.9931 - val_loss: 0.0158 - val_accuracy: 1.0000\n",
      "Epoch 464/500\n",
      "15/15 [==============================] - 0s 3ms/step - loss: 0.0235 - accuracy: 0.9931 - val_loss: 0.0134 - val_accuracy: 1.0000\n",
      "Epoch 465/500\n",
      "15/15 [==============================] - 0s 4ms/step - loss: 0.0197 - accuracy: 0.9931 - val_loss: 0.0140 - val_accuracy: 1.0000\n",
      "Epoch 466/500\n",
      "15/15 [==============================] - 0s 3ms/step - loss: 0.0236 - accuracy: 0.9861 - val_loss: 0.0153 - val_accuracy: 1.0000\n",
      "Epoch 467/500\n",
      "15/15 [==============================] - 0s 3ms/step - loss: 0.0154 - accuracy: 0.9931 - val_loss: 0.0128 - val_accuracy: 1.0000\n",
      "Epoch 468/500\n",
      "15/15 [==============================] - 0s 3ms/step - loss: 0.0254 - accuracy: 0.9861 - val_loss: 0.0140 - val_accuracy: 1.0000\n",
      "Epoch 469/500\n",
      "15/15 [==============================] - 0s 4ms/step - loss: 0.0173 - accuracy: 0.9931 - val_loss: 0.0126 - val_accuracy: 1.0000\n",
      "Epoch 470/500\n",
      "15/15 [==============================] - 0s 4ms/step - loss: 0.0187 - accuracy: 0.9931 - val_loss: 0.0140 - val_accuracy: 1.0000\n",
      "Epoch 471/500\n",
      "15/15 [==============================] - 0s 4ms/step - loss: 0.0140 - accuracy: 0.9931 - val_loss: 0.0153 - val_accuracy: 1.0000\n",
      "Epoch 472/500\n",
      "15/15 [==============================] - 0s 4ms/step - loss: 0.0225 - accuracy: 0.9931 - val_loss: 0.0141 - val_accuracy: 1.0000\n",
      "Epoch 473/500\n",
      "15/15 [==============================] - 0s 4ms/step - loss: 0.0408 - accuracy: 0.9931 - val_loss: 0.0157 - val_accuracy: 1.0000\n",
      "Epoch 474/500\n",
      "15/15 [==============================] - 0s 4ms/step - loss: 0.0121 - accuracy: 0.9931 - val_loss: 0.0178 - val_accuracy: 1.0000\n",
      "Epoch 475/500\n",
      "15/15 [==============================] - 0s 4ms/step - loss: 0.0264 - accuracy: 0.9931 - val_loss: 0.0139 - val_accuracy: 1.0000\n",
      "Epoch 476/500\n",
      "15/15 [==============================] - 0s 3ms/step - loss: 0.0058 - accuracy: 1.0000 - val_loss: 0.0151 - val_accuracy: 1.0000\n",
      "Epoch 477/500\n",
      "15/15 [==============================] - 0s 3ms/step - loss: 0.0259 - accuracy: 0.9931 - val_loss: 0.0142 - val_accuracy: 1.0000\n",
      "Epoch 478/500\n",
      "15/15 [==============================] - 0s 4ms/step - loss: 0.0196 - accuracy: 0.9931 - val_loss: 0.0116 - val_accuracy: 1.0000\n",
      "Epoch 479/500\n",
      "15/15 [==============================] - 0s 4ms/step - loss: 0.0285 - accuracy: 0.9861 - val_loss: 0.0141 - val_accuracy: 1.0000\n",
      "Epoch 480/500\n",
      "15/15 [==============================] - 0s 4ms/step - loss: 0.0173 - accuracy: 0.9931 - val_loss: 0.0126 - val_accuracy: 1.0000\n",
      "Epoch 481/500\n",
      "15/15 [==============================] - 0s 4ms/step - loss: 0.0191 - accuracy: 0.9861 - val_loss: 0.0121 - val_accuracy: 1.0000\n",
      "Epoch 482/500\n",
      "15/15 [==============================] - 0s 3ms/step - loss: 0.0146 - accuracy: 0.9931 - val_loss: 0.0126 - val_accuracy: 1.0000\n",
      "Epoch 483/500\n",
      "15/15 [==============================] - 0s 4ms/step - loss: 0.0227 - accuracy: 0.9861 - val_loss: 0.0116 - val_accuracy: 1.0000\n",
      "Epoch 484/500\n",
      "15/15 [==============================] - 0s 3ms/step - loss: 0.0179 - accuracy: 0.9931 - val_loss: 0.0134 - val_accuracy: 1.0000\n",
      "Epoch 485/500\n",
      "15/15 [==============================] - 0s 4ms/step - loss: 0.0148 - accuracy: 0.9861 - val_loss: 0.0131 - val_accuracy: 1.0000\n",
      "Epoch 486/500\n",
      "15/15 [==============================] - 0s 4ms/step - loss: 0.0149 - accuracy: 0.9931 - val_loss: 0.0115 - val_accuracy: 1.0000\n",
      "Epoch 487/500\n",
      "15/15 [==============================] - 0s 4ms/step - loss: 0.0221 - accuracy: 0.9931 - val_loss: 0.0127 - val_accuracy: 1.0000\n",
      "Epoch 488/500\n",
      "15/15 [==============================] - 0s 4ms/step - loss: 0.0527 - accuracy: 0.9931 - val_loss: 0.0201 - val_accuracy: 1.0000\n",
      "Epoch 489/500\n",
      "15/15 [==============================] - 0s 4ms/step - loss: 0.0350 - accuracy: 0.9931 - val_loss: 0.0098 - val_accuracy: 1.0000\n",
      "Epoch 490/500\n",
      "15/15 [==============================] - 0s 3ms/step - loss: 0.0243 - accuracy: 0.9931 - val_loss: 0.0083 - val_accuracy: 1.0000\n",
      "Epoch 491/500\n",
      "15/15 [==============================] - 0s 4ms/step - loss: 0.0182 - accuracy: 0.9861 - val_loss: 0.0082 - val_accuracy: 1.0000\n",
      "Epoch 492/500\n",
      "15/15 [==============================] - 0s 3ms/step - loss: 0.0227 - accuracy: 0.9931 - val_loss: 0.0188 - val_accuracy: 1.0000\n",
      "Epoch 493/500\n",
      "15/15 [==============================] - 0s 4ms/step - loss: 0.0241 - accuracy: 0.9931 - val_loss: 0.0115 - val_accuracy: 1.0000\n",
      "Epoch 494/500\n",
      "15/15 [==============================] - 0s 4ms/step - loss: 0.0102 - accuracy: 1.0000 - val_loss: 0.0142 - val_accuracy: 1.0000\n",
      "Epoch 495/500\n",
      "15/15 [==============================] - 0s 4ms/step - loss: 0.0189 - accuracy: 0.9931 - val_loss: 0.0114 - val_accuracy: 1.0000\n",
      "Epoch 496/500\n",
      "15/15 [==============================] - 0s 5ms/step - loss: 0.0192 - accuracy: 0.9931 - val_loss: 0.0117 - val_accuracy: 1.0000\n",
      "Epoch 497/500\n",
      "15/15 [==============================] - 0s 4ms/step - loss: 0.0192 - accuracy: 0.9931 - val_loss: 0.0092 - val_accuracy: 1.0000\n",
      "Epoch 498/500\n",
      "15/15 [==============================] - 0s 4ms/step - loss: 0.0165 - accuracy: 0.9931 - val_loss: 0.0124 - val_accuracy: 1.0000\n",
      "Epoch 499/500\n",
      "15/15 [==============================] - 0s 3ms/step - loss: 0.0162 - accuracy: 0.9931 - val_loss: 0.0101 - val_accuracy: 1.0000\n",
      "Epoch 500/500\n",
      "15/15 [==============================] - 0s 4ms/step - loss: 0.0179 - accuracy: 0.9931 - val_loss: 0.0156 - val_accuracy: 1.0000\n"
     ]
    }
   ],
   "source": [
    "# Fit the model\n",
    "history = model.fit(x_train, y_train, validation_split=0.1, epochs=500, batch_size=10, verbose=1)"
   ]
  },
  {
   "cell_type": "code",
   "execution_count": 61,
   "metadata": {},
   "outputs": [
    {
     "data": {
      "text/plain": [
       "<matplotlib.legend.Legend at 0x7f0e0753d690>"
      ]
     },
     "execution_count": 61,
     "metadata": {},
     "output_type": "execute_result"
    },
    {
     "data": {
      "image/png": "[encoded data removed]",
      "text/plain": [
       "<Figure size 640x480 with 1 Axes>"
      ]
     },
     "metadata": {},
     "output_type": "display_data"
    }
   ],
   "source": [
    "plt.plot(history.history['loss'], label='Training loss')\n",
    "plt.plot(history.history['val_loss'], 'g', label='Validation loss')\n",
    "plt.xlabel('Epoch #')\n",
    "plt.ylabel('Loss (Binary cross-entropy)')\n",
    "plt.title('Loss')\n",
    "plt.legend()"
   ]
  },
  {
   "cell_type": "code",
   "execution_count": 62,
   "metadata": {},
   "outputs": [
    {
     "name": "stdout",
     "output_type": "stream",
     "text": [
      "Test loss: 0.15356527268886566\n",
      "Test accuracy: 0.949999988079071\n"
     ]
    }
   ],
   "source": [
    "# Evaluate model on test set\n",
    "\n",
    "score = model.evaluate(x_test, y_test, verbose=0)\n",
    "print(\"Test loss:\", score[0])\n",
    "print(\"Test accuracy:\", score[1])"
   ]
  },
  {
   "cell_type": "markdown",
   "metadata": {},
   "source": [
    "#### Question 3:\n",
    "\n",
    "For this question you will use the [Fashion MNIST](https://github.com/zalandoresearch/fashion-mnist) dataset. As with the MNIST dataset, your task will be to classify the images in the dataset using a neural network. You may use this [tutorial](https://www.tensorflow.org/tutorials/keras/classification) as a guide, but please try as far as possible to do this on your own, using what you have learned in this notebook as a reference."
   ]
  },
  {
   "cell_type": "code",
   "execution_count": 63,
   "metadata": {},
   "outputs": [],
   "source": [
    "# Getting the data\n",
    "\n",
    "fashion_mnist = tf.keras.datasets.fashion_mnist\n",
    "\n",
    "(train_images, train_labels), (test_images, test_labels) = fashion_mnist.load_data()"
   ]
  },
  {
   "cell_type": "markdown",
   "metadata": {},
   "source": [
    "#### a) Visualize the images in the dataset and explore the labels."
   ]
  },
  {
   "cell_type": "code",
   "execution_count": 64,
   "metadata": {},
   "outputs": [
    {
     "data": {
      "image/png": "[encoded data removed]",
      "text/plain": [
       "<Figure size 640x480 with 9 Axes>"
      ]
     },
     "metadata": {},
     "output_type": "display_data"
    }
   ],
   "source": [
    "# Plot a random sample from the dataset\n",
    "indices = np.random.choice(len(train_images), size=9, replace=False)\n",
    "\n",
    "for count, value in enumerate(indices):\n",
    "    plt.subplot(3, 3, count+1)\n",
    "    plt.imshow(train_images[value], cmap=\"gray\")\n",
    "    plt.title(train_labels[value])\n",
    "\n",
    "plt.tight_layout()\n",
    "plt.show()"
   ]
  },
  {
   "cell_type": "markdown",
   "metadata": {},
   "source": [
    "#### b) Build a neural network to classify the images. Use an appropriate loss and optimizer to compile it."
   ]
  },
  {
   "cell_type": "code",
   "execution_count": 65,
   "metadata": {},
   "outputs": [],
   "source": [
    "# Normalize images\n",
    "\n",
    "train_images = train_images / 255.0\n",
    "test_images = test_images / 255.0\n",
    "\n",
    "# Build network\n",
    "model = tf.keras.Sequential([\n",
    "    layers.Flatten(input_shape=(28, 28)),\n",
    "    layers.Dense(128, activation='relu'),\n",
    "    layers.Dense(10)\n",
    "])\n",
    "\n",
    "# Compile model\n",
    "model.compile(optimizer='adam',\n",
    "              loss=tf.keras.losses.SparseCategoricalCrossentropy(from_logits=True),\n",
    "              metrics=['accuracy'])"
   ]
  },
  {
   "cell_type": "markdown",
   "metadata": {},
   "source": [
    "#### c) Train your model. What is the final loss of your model? What is the final accuracy? How does this accuracy compare to random guessing on this dataset?"
   ]
  },
  {
   "cell_type": "code",
   "execution_count": 66,
   "metadata": {},
   "outputs": [
    {
     "name": "stdout",
     "output_type": "stream",
     "text": [
      "Epoch 1/10\n"
     ]
    },
    {
     "name": "stderr",
     "output_type": "stream",
     "text": [
      "2023-03-06 15:45:40.283023: W tensorflow/tsl/framework/cpu_allocator_impl.cc:82] Allocation of 188160000 exceeds 10% of free system memory.\n"
     ]
    },
    {
     "name": "stdout",
     "output_type": "stream",
     "text": [
      "1875/1875 [==============================] - 5s 2ms/step - loss: 0.4982 - accuracy: 0.8256\n",
      "Epoch 2/10\n",
      "1875/1875 [==============================] - 5s 2ms/step - loss: 0.3755 - accuracy: 0.8642\n",
      "Epoch 3/10\n",
      "1875/1875 [==============================] - 4s 2ms/step - loss: 0.3353 - accuracy: 0.8778\n",
      "Epoch 4/10\n",
      "1875/1875 [==============================] - 4s 2ms/step - loss: 0.3141 - accuracy: 0.8852\n",
      "Epoch 5/10\n",
      "1875/1875 [==============================] - 5s 2ms/step - loss: 0.2942 - accuracy: 0.8915\n",
      "Epoch 6/10\n",
      "1875/1875 [==============================] - 4s 2ms/step - loss: 0.2823 - accuracy: 0.8959\n",
      "Epoch 7/10\n",
      "1875/1875 [==============================] - 5s 2ms/step - loss: 0.2686 - accuracy: 0.9000\n",
      "Epoch 8/10\n",
      "1875/1875 [==============================] - 5s 2ms/step - loss: 0.2581 - accuracy: 0.9043\n",
      "Epoch 9/10\n",
      "1875/1875 [==============================] - 4s 2ms/step - loss: 0.2474 - accuracy: 0.9086\n",
      "Epoch 10/10\n",
      "1875/1875 [==============================] - 5s 2ms/step - loss: 0.2386 - accuracy: 0.9102\n"
     ]
    }
   ],
   "source": [
    "history = model.fit(train_images, train_labels, epochs=10)"
   ]
  },
  {
   "cell_type": "markdown",
   "metadata": {},
   "source": [
    "#### d) Evaluate your model on the test dataset. Visualize the loss curve."
   ]
  },
  {
   "cell_type": "code",
   "execution_count": 68,
   "metadata": {},
   "outputs": [
    {
     "data": {
      "text/plain": [
       "<matplotlib.legend.Legend at 0x7f0df2499750>"
      ]
     },
     "execution_count": 68,
     "metadata": {},
     "output_type": "execute_result"
    },
    {
     "data": {
      "image/png": "[encoded data removed]",
      "text/plain": [
       "<Figure size 640x480 with 1 Axes>"
      ]
     },
     "metadata": {},
     "output_type": "display_data"
    }
   ],
   "source": [
    "plt.plot(history.history['loss'], label='Training loss')\n",
    "plt.xlabel('Epoch #')\n",
    "plt.ylabel('Loss (Categorical cross-entropy)')\n",
    "plt.title('Loss')\n",
    "plt.legend()"
   ]
  },
  {
   "cell_type": "code",
   "execution_count": 69,
   "metadata": {},
   "outputs": [
    {
     "name": "stdout",
     "output_type": "stream",
     "text": [
      "Test loss: 0.34515082836151123\n",
      "Test accuracy: 0.8791999816894531\n"
     ]
    }
   ],
   "source": [
    "# Evaluate model on test set\n",
    "\n",
    "score = model.evaluate(test_images, test_labels, verbose=0)\n",
    "print(\"Test loss:\", score[0])\n",
    "print(\"Test accuracy:\", score[1])"
   ]
  }
 ],
 "metadata": {
  "kernelspec": {
   "display_name": "Python [conda env:test_omgeving] *",
   "language": "python",
   "name": "conda-env-test_omgeving-py"
  },
  "language_info": {
   "codemirror_mode": {
    "name": "ipython",
    "version": 3
   },
   "file_extension": ".py",
   "mimetype": "text/x-python",
   "name": "python",
   "nbconvert_exporter": "python",
   "pygments_lexer": "ipython3",
   "version": "3.10.6"
  }
 },
 "nbformat": 4,
 "nbformat_minor": 4
}
