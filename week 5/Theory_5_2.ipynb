{
 "cells": [
  {
   "cell_type": "markdown",
   "metadata": {},
   "source": [
    "# Full-connected neural networks - Classification"
   ]
  },
  {
   "cell_type": "markdown",
   "metadata": {},
   "source": [
    "In this notebook we will learn how to apply neural networks to classification problems. You have already seen how neural networks work, and how they are trained. The biggest difference between regression and classification applications is the choice of cost function."
   ]
  },
  {
   "cell_type": "markdown",
   "metadata": {},
   "source": [
    "## 1 The MNIST dataset - the \"Hello, world!\" of neural network classification"
   ]
  },
  {
   "cell_type": "code",
   "execution_count": 2,
   "metadata": {},
   "outputs": [],
   "source": [
    "# Library om YouTube videos te importeren \n",
    "\n",
    "from IPython.display import YouTubeVideo, Image"
   ]
  },
  {
   "cell_type": "markdown",
   "metadata": {},
   "source": [
    "### 1.1 The dataset"
   ]
  },
  {
   "cell_type": "markdown",
   "metadata": {},
   "source": [
    "The MNIST dataset is a well-known collection of handwritten digits used for machine learning and computer vision research. It consists of 70,000 grayscale images of handwritten digits, each of size 28x28 pixels. The digits are labeled with their corresponding numerical values, ranging from 0 to 9.\n",
    "\n",
    "The MNIST dataset has been widely used as a benchmark for evaluating the performance of various machine learning algorithms, particularly those that involve image recognition or classification. The dataset is often used to train and test algorithms for tasks such as digit recognition, character recognition, and image classification. The MNIST dataset has also played a key role in the development of deep learning algorithms, including convolutional neural networks (CNNs), which have achieved state-of-the-art performance on the task of recognizing handwritten digits."
   ]
  },
  {
   "cell_type": "code",
   "execution_count": 4,
   "metadata": {},
   "outputs": [
    {
     "name": "stderr",
     "output_type": "stream",
     "text": [
      "2023-02-23 14:14:21.059997: I tensorflow/core/platform/cpu_feature_guard.cc:193] This TensorFlow binary is optimized with oneAPI Deep Neural Network Library (oneDNN) to use the following CPU instructions in performance-critical operations:  AVX2 FMA\n",
      "To enable them in other operations, rebuild TensorFlow with the appropriate compiler flags.\n",
      "2023-02-23 14:14:21.189963: W tensorflow/compiler/xla/stream_executor/platform/default/dso_loader.cc:64] Could not load dynamic library 'libcudart.so.11.0'; dlerror: libcudart.so.11.0: cannot open shared object file: No such file or directory; LD_LIBRARY_PATH: :/home/vikram/.mujoco/mujoco200/bin\n",
      "2023-02-23 14:14:21.189978: I tensorflow/compiler/xla/stream_executor/cuda/cudart_stub.cc:29] Ignore above cudart dlerror if you do not have a GPU set up on your machine.\n",
      "2023-02-23 14:14:21.775846: W tensorflow/compiler/xla/stream_executor/platform/default/dso_loader.cc:64] Could not load dynamic library 'libnvinfer.so.7'; dlerror: libnvinfer.so.7: cannot open shared object file: No such file or directory; LD_LIBRARY_PATH: :/home/vikram/.mujoco/mujoco200/bin\n",
      "2023-02-23 14:14:21.775966: W tensorflow/compiler/xla/stream_executor/platform/default/dso_loader.cc:64] Could not load dynamic library 'libnvinfer_plugin.so.7'; dlerror: libnvinfer_plugin.so.7: cannot open shared object file: No such file or directory; LD_LIBRARY_PATH: :/home/vikram/.mujoco/mujoco200/bin\n",
      "2023-02-23 14:14:21.775974: W tensorflow/compiler/tf2tensorrt/utils/py_utils.cc:38] TF-TRT Warning: Cannot dlopen some TensorRT libraries. If you would like to use Nvidia GPU with TensorRT, please make sure the missing libraries mentioned above are installed properly.\n"
     ]
    },
    {
     "name": "stdout",
     "output_type": "stream",
     "text": [
      "Downloading data from https://storage.googleapis.com/tensorflow/tf-keras-datasets/mnist.npz\n",
      "11490434/11490434 [==============================] - 1s 0us/step\n"
     ]
    }
   ],
   "source": [
    "import numpy as np\n",
    "import pandas as pd\n",
    "import matplotlib.pyplot as plt\n",
    "import tensorflow as tf\n",
    "from tensorflow import keras\n",
    "\n",
    "# Load the data using the Keras datasets API and split it between train and test sets\n",
    "(x_train, y_train), (x_test, y_test) = keras.datasets.mnist.load_data()"
   ]
  },
  {
   "cell_type": "markdown",
   "metadata": {},
   "source": [
    "### 1.2 Visualizing the dataset"
   ]
  },
  {
   "cell_type": "code",
   "execution_count": 5,
   "metadata": {},
   "outputs": [
    {
     "data": {
      "text/plain": [
       "(60000, 28, 28)"
      ]
     },
     "execution_count": 5,
     "metadata": {},
     "output_type": "execute_result"
    }
   ],
   "source": [
    "x_train.shape # 60,000 training examples of size 28 pixels by 28 pixels"
   ]
  },
  {
   "cell_type": "code",
   "execution_count": 6,
   "metadata": {},
   "outputs": [
    {
     "data": {
      "text/plain": [
       "(60000,)"
      ]
     },
     "execution_count": 6,
     "metadata": {},
     "output_type": "execute_result"
    }
   ],
   "source": [
    "y_train.shape # 60,000 labels"
   ]
  },
  {
   "cell_type": "code",
   "execution_count": 19,
   "metadata": {},
   "outputs": [
    {
     "data": {
      "text/plain": [
       "255"
      ]
     },
     "execution_count": 19,
     "metadata": {},
     "output_type": "execute_result"
    }
   ],
   "source": [
    "x_train[0].max()"
   ]
  },
  {
   "cell_type": "code",
   "execution_count": 20,
   "metadata": {},
   "outputs": [
    {
     "data": {
      "text/plain": [
       "0"
      ]
     },
     "execution_count": 20,
     "metadata": {},
     "output_type": "execute_result"
    }
   ],
   "source": [
    "x_train[0].min()"
   ]
  },
  {
   "cell_type": "code",
   "execution_count": 17,
   "metadata": {},
   "outputs": [
    {
     "data": {
      "image/png": "[encoded data removed]",
      "text/plain": [
       "<Figure size 640x480 with 9 Axes>"
      ]
     },
     "metadata": {},
     "output_type": "display_data"
    }
   ],
   "source": [
    "# Plot a random sample from the dataset\n",
    "indices = np.random.choice(len(x_train), size=9, replace=False)\n",
    "\n",
    "for count, value in enumerate(indices):\n",
    "    plt.subplot(3, 3, count+1)\n",
    "    plt.imshow(x_train[value], cmap=\"gray\")\n",
    "    plt.title(y_train[value])\n",
    "\n",
    "plt.tight_layout()\n",
    "plt.show()"
   ]
  },
  {
   "cell_type": "markdown",
   "metadata": {},
   "source": [
    "### 1.3 Building the network"
   ]
  },
  {
   "cell_type": "markdown",
   "metadata": {},
   "source": [
    "When building the classifier notebook there are a few things to keep in mind:\n",
    "1. The shape of the input data is 2 dimensional. A fully-connected neural network can only handle 1-dimensional data. So we need to \"flatten\" the data into 1 dimension.\n",
    "2. The values of the pixels are between 0 and 255. A neural network is better at handling normalized data, with values between 0 and 1. So we have to rescale our input pixel values.\n",
    "3. This is a classification problem with multiple possible labels. The correct loss function to use in this case is the \"categorical cross entropy\" loss."
   ]
  },
  {
   "cell_type": "code",
   "execution_count": 62,
   "metadata": {},
   "outputs": [
    {
     "name": "stderr",
     "output_type": "stream",
     "text": [
      "2023-02-23 16:31:17.301411: E tensorflow/compiler/xla/stream_executor/cuda/cuda_driver.cc:267] failed call to cuInit: CUDA_ERROR_NO_DEVICE: no CUDA-capable device is detected\n",
      "2023-02-23 16:31:17.301467: I tensorflow/compiler/xla/stream_executor/cuda/cuda_diagnostics.cc:156] kernel driver does not appear to be running on this host (vikram-Precision-7720): /proc/driver/nvidia/version does not exist\n",
      "2023-02-23 16:31:17.302063: I tensorflow/core/platform/cpu_feature_guard.cc:193] This TensorFlow binary is optimized with oneAPI Deep Neural Network Library (oneDNN) to use the following CPU instructions in performance-critical operations:  AVX2 FMA\n",
      "To enable them in other operations, rebuild TensorFlow with the appropriate compiler flags.\n"
     ]
    }
   ],
   "source": [
    "# Import necessary libraries from keras\n",
    "from tensorflow.keras import layers\n",
    "\n",
    "# Build a model using the \"Sequential\" API\n",
    "model = keras.Sequential([\n",
    "      layers.Flatten(input_shape=(28, 28)), # Flatten 2D input to 1D input\n",
    "      layers.Dense(128, activation='relu'), # First hidden layer with 128 neurons, ReLU activation\n",
    "      layers.Dense(10) # Final layer to predict the label, with 10 classes\n",
    "  ])"
   ]
  },
  {
   "cell_type": "markdown",
   "metadata": {},
   "source": [
    "This model will output 10 numbers. We need to convert these 10 numbers into probabilities, and then create a loss function on top of these probabilities that checks whether the true label has the highest probability. Both of these steps can be done with one loss function in Keras, which is the \"sparse categorical crossentropy\" loss function. The parameter \"from_logits = True\" ensures that ther output of the neural network is first converted into a log probability. (If we didn't do from_logits=True, we would first have to apply a softmax activation layer on the output to convert the output to probabilities)."
   ]
  },
  {
   "cell_type": "code",
   "execution_count": 63,
   "metadata": {},
   "outputs": [],
   "source": [
    "model.compile(\n",
    "    optimizer=tf.keras.optimizers.Adam(0.001), # The Adam optimizer (an improvement over stochastic gradient descent)\n",
    "    loss=tf.keras.losses.SparseCategoricalCrossentropy(from_logits=True), # Loss function for multi-class classification\n",
    "    metrics=[tf.keras.metrics.SparseCategoricalAccuracy()], # Print the accuracy after each epoch\n",
    ")"
   ]
  },
  {
   "cell_type": "markdown",
   "metadata": {},
   "source": [
    "### 1.4 Training the model"
   ]
  },
  {
   "cell_type": "markdown",
   "metadata": {},
   "source": [
    "Now we feed the training features and labels to the model and train it for several epochs using backpropagation and the Adam optimizer."
   ]
  },
  {
   "cell_type": "code",
   "execution_count": 64,
   "metadata": {},
   "outputs": [
    {
     "name": "stdout",
     "output_type": "stream",
     "text": [
      "Epoch 1/10\n",
      "422/422 [==============================] - 2s 3ms/step - loss: 4.5718 - sparse_categorical_accuracy: 0.8709 - val_loss: 0.9369 - val_sparse_categorical_accuracy: 0.9118\n",
      "Epoch 2/10\n",
      "422/422 [==============================] - 1s 2ms/step - loss: 0.6730 - sparse_categorical_accuracy: 0.9068 - val_loss: 0.4956 - val_sparse_categorical_accuracy: 0.9213\n",
      "Epoch 3/10\n",
      "422/422 [==============================] - 1s 2ms/step - loss: 0.3555 - sparse_categorical_accuracy: 0.9262 - val_loss: 0.3975 - val_sparse_categorical_accuracy: 0.9255\n",
      "Epoch 4/10\n",
      "422/422 [==============================] - 1s 3ms/step - loss: 0.2560 - sparse_categorical_accuracy: 0.9416 - val_loss: 0.3355 - val_sparse_categorical_accuracy: 0.9402\n",
      "Epoch 5/10\n",
      "422/422 [==============================] - 1s 2ms/step - loss: 0.2059 - sparse_categorical_accuracy: 0.9506 - val_loss: 0.3161 - val_sparse_categorical_accuracy: 0.9420\n",
      "Epoch 6/10\n",
      "422/422 [==============================] - 1s 2ms/step - loss: 0.1746 - sparse_categorical_accuracy: 0.9564 - val_loss: 0.3117 - val_sparse_categorical_accuracy: 0.9490\n",
      "Epoch 7/10\n",
      "422/422 [==============================] - 1s 2ms/step - loss: 0.1492 - sparse_categorical_accuracy: 0.9612 - val_loss: 0.2653 - val_sparse_categorical_accuracy: 0.9520\n",
      "Epoch 8/10\n",
      "422/422 [==============================] - 1s 2ms/step - loss: 0.1440 - sparse_categorical_accuracy: 0.9627 - val_loss: 0.2527 - val_sparse_categorical_accuracy: 0.9503\n",
      "Epoch 9/10\n",
      "422/422 [==============================] - 1s 3ms/step - loss: 0.1305 - sparse_categorical_accuracy: 0.9642 - val_loss: 0.2311 - val_sparse_categorical_accuracy: 0.9598\n",
      "Epoch 10/10\n",
      "422/422 [==============================] - 1s 2ms/step - loss: 0.1366 - sparse_categorical_accuracy: 0.9639 - val_loss: 0.2549 - val_sparse_categorical_accuracy: 0.9560\n"
     ]
    }
   ],
   "source": [
    "history = model.fit(x_train, y_train, validation_split=0.1, epochs=10, batch_size=128, verbose=1)"
   ]
  },
  {
   "cell_type": "markdown",
   "metadata": {},
   "source": [
    "We can see the accuracy is over 95% at the end of the last epoch!"
   ]
  },
  {
   "cell_type": "markdown",
   "metadata": {},
   "source": [
    "### 1.5 Visualize the results"
   ]
  },
  {
   "cell_type": "code",
   "execution_count": 65,
   "metadata": {},
   "outputs": [
    {
     "data": {
      "text/plain": [
       "<matplotlib.legend.Legend at 0x7fb82f9d1510>"
      ]
     },
     "execution_count": 65,
     "metadata": {},
     "output_type": "execute_result"
    },
    {
     "data": {
      "image/png": "[encoded data removed]",
      "text/plain": [
       "<Figure size 640x480 with 1 Axes>"
      ]
     },
     "metadata": {},
     "output_type": "display_data"
    }
   ],
   "source": [
    "plt.plot(history.history['loss'], label='Training loss')\n",
    "plt.plot(history.history['val_loss'], 'g', label='Validation loss')\n",
    "plt.xlabel('Epoch #')\n",
    "plt.ylabel('Loss (Categorical Cross-entropy)')\n",
    "plt.title('Loss')\n",
    "plt.legend()"
   ]
  },
  {
   "cell_type": "code",
   "execution_count": 118,
   "metadata": {},
   "outputs": [
    {
     "name": "stdout",
     "output_type": "stream",
     "text": [
      "Test loss: 0.2976000905036926\n",
      "Test accuracy: 0.95169997215271\n"
     ]
    }
   ],
   "source": [
    "# Evaluate model on test set\n",
    "\n",
    "score = model.evaluate(x_test, y_test, verbose=0)\n",
    "print(\"Test loss:\", score[0])\n",
    "print(\"Test accuracy:\", score[1])"
   ]
  },
  {
   "cell_type": "markdown",
   "metadata": {},
   "source": [
    "Test your model! The code below lets you draw a digit using the mouse. Save your image using the \"Save\" button then close the image window. You will then have access to the image you drew in the \"test_img\" variable. Run the code in the cells below to test your model's predictions (or to test how good your handwriting is using a mouse)."
   ]
  },
  {
   "cell_type": "code",
   "execution_count": 132,
   "metadata": {},
   "outputs": [],
   "source": [
    "from PIL import ImageTk, Image, ImageDraw, ImageChops \n",
    "import PIL\n",
    "from tkinter import *\n",
    "\n",
    "width = 300  # canvas width\n",
    "height = 300 # canvas height\n",
    "center = height//2\n",
    "white = (255) # canvas back\n",
    "\n",
    "test_img = np.array((28,28))\n",
    "\n",
    "def save():\n",
    "    global test_img\n",
    "    invert_image = ImageChops.invert(output_image)\n",
    "    new_image = invert_image.resize((28, 28))\n",
    "    test_img = np.array(new_image)\n",
    "\n",
    "def paint(event):\n",
    "    x1, y1 = (event.x - 1), (event.y - 1)\n",
    "    x2, y2 = (event.x + 1), (event.y + 1)\n",
    "    canvas.create_oval(x1, y1, x2, y2, fill=\"black\",width=5)\n",
    "    draw.line([x1, y1, x2, y2],fill=\"black\",width=5)\n",
    "\n",
    "master = Tk()\n",
    "\n",
    "# create a tkinter canvas to draw on\n",
    "canvas = Canvas(master, width=width, height=height, bg='white')\n",
    "canvas.pack()\n",
    "\n",
    "# create an empty PIL image and draw object to draw on\n",
    "output_image = PIL.Image.new(\"L\", (width, height), white)\n",
    "draw = ImageDraw.Draw(output_image)\n",
    "canvas.pack(expand=YES, fill=BOTH)\n",
    "canvas.bind(\"<B1-Motion>\", paint)\n",
    "\n",
    "# add a button to save the image\n",
    "button=Button(text=\"save\",command=save)\n",
    "button.pack()\n",
    "\n",
    "master.mainloop()"
   ]
  },
  {
   "cell_type": "code",
   "execution_count": 133,
   "metadata": {},
   "outputs": [
    {
     "data": {
      "text/plain": [
       "<matplotlib.image.AxesImage at 0x7fb82cb54fa0>"
      ]
     },
     "execution_count": 133,
     "metadata": {},
     "output_type": "execute_result"
    },
    {
     "data": {
      "image/png": "[encoded data removed]",
      "text/plain": [
       "<Figure size 640x480 with 1 Axes>"
      ]
     },
     "metadata": {},
     "output_type": "display_data"
    }
   ],
   "source": [
    "plt.imshow(test_img)"
   ]
  },
  {
   "cell_type": "code",
   "execution_count": 134,
   "metadata": {},
   "outputs": [
    {
     "name": "stdout",
     "output_type": "stream",
     "text": [
      "1/1 [==============================] - 0s 18ms/step\n"
     ]
    }
   ],
   "source": [
    "# Reshape the image dimensions to feed it to the model\n",
    "reshaped_img = np.expand_dims(test_img, 0)\n",
    "\n",
    "# Make prediction\n",
    "pred = model.predict(reshaped_img)\n",
    "\n",
    "# Check which digit this corresponds to\n",
    "predicted_digit = np.argmax(pred)"
   ]
  },
  {
   "cell_type": "code",
   "execution_count": 135,
   "metadata": {},
   "outputs": [
    {
     "data": {
      "text/plain": [
       "array([[-44.269573 ,  -5.5354123,  -3.6923246,  -2.527027 ,  -7.605169 ,\n",
       "        -15.438478 , -22.392181 ,   5.631762 ,   0.3230797,  -3.321411 ]],\n",
       "      dtype=float32)"
      ]
     },
     "execution_count": 135,
     "metadata": {},
     "output_type": "execute_result"
    }
   ],
   "source": [
    "pred"
   ]
  },
  {
   "cell_type": "code",
   "execution_count": 136,
   "metadata": {},
   "outputs": [
    {
     "data": {
      "text/plain": [
       "7"
      ]
     },
     "execution_count": 136,
     "metadata": {},
     "output_type": "execute_result"
    }
   ],
   "source": [
    "predicted_digit"
   ]
  },
  {
   "cell_type": "markdown",
   "metadata": {},
   "source": [
    "Do you get good predictions on your personal handwritten digits? If not, take a look at the images in the training set again, and compare them to what your handwritten digits look like. This is a good lesson to learn - your training performance can be fantastic, but if your training data is not representative of the real world data you feed your trained model, your performance in the real world will not be up to standards!"
   ]
  },
  {
   "cell_type": "markdown",
   "metadata": {},
   "source": [
    "## 5 Exercises"
   ]
  },
  {
   "cell_type": "markdown",
   "metadata": {},
   "source": [
    "#### Question 1: Visit the website of the [TensorFlow Playground](https://playground.tensorflow.org/). Under \"Problem type\", select \"Classification\". On the left, select the fourth dataset, that looks like a spiral pattern. Make the \"Ratio of training to test data:\" 80%.\n",
    "\n",
    "#### Your task in this question is to play around with the number of hidden layers, number of neurons per hidden layer, learning rate, batch size, and activation functions, until you get a network that can make a good classification (low loss) on the training dataset."
   ]
  },
  {
   "cell_type": "markdown",
   "metadata": {},
   "source": [
    "#### Question 2: Once you have a model that works, implement it in this notebook in TensorFlow. The code below creates the dataset for you."
   ]
  },
  {
   "cell_type": "code",
   "execution_count": 138,
   "metadata": {},
   "outputs": [
    {
     "data": {
      "text/plain": [
       "<AxesSubplot: xlabel='x1', ylabel='x2'>"
      ]
     },
     "execution_count": 138,
     "metadata": {},
     "output_type": "execute_result"
    },
    {
     "data": {
      "image/png": "[encoded data removed]",
      "text/plain": [
       "<Figure size 640x480 with 1 Axes>"
      ]
     },
     "metadata": {},
     "output_type": "display_data"
    }
   ],
   "source": [
    "import random\n",
    "import math\n",
    "from typing import List\n",
    "\n",
    "class Example2D:\n",
    "    def __init__(self, x: float, y: float, label: int):\n",
    "        self.x = x\n",
    "        self.y = y\n",
    "        self.label = label\n",
    "\n",
    "def classifySpiralData(numSamples: int, noise: float) -> List[Example2D]:\n",
    "    points = []\n",
    "    n = int(numSamples / 2)\n",
    "\n",
    "    def genSpiral(deltaT: float, label: int) -> None:\n",
    "        for i in range(n):\n",
    "            r = i / n * 5\n",
    "            t = 1.75 * i / n * 2 * 3.14159 + deltaT\n",
    "            x = r * math.sin(t) + random.uniform(-1, 1) * noise\n",
    "            y = r * math.cos(t) + random.uniform(-1, 1) * noise\n",
    "            points.append(Example2D(x, y, label))\n",
    "\n",
    "    genSpiral(0, 1) # Positive examples.\n",
    "    genSpiral(3.14159, -1) # Negative examples.\n",
    "    return points\n",
    "\n",
    "\n",
    "points = classifySpiralData(200, 0)\n",
    "\n",
    "x1 = [p.x for p in points]\n",
    "x2 = [p.y for p in points]\n",
    "y = [p.label for p in points]\n",
    "\n",
    "# This is your dataset\n",
    "pointsdf = pd.DataFrame(data={'x1': x1, 'x2': x2})\n",
    "\n",
    "# These are your labels\n",
    "labelsdf = pd.Series(y)\n",
    "\n",
    "pointsdf.plot.scatter('x1', 'x2', c=y)"
   ]
  },
  {
   "cell_type": "code",
   "execution_count": null,
   "metadata": {},
   "outputs": [],
   "source": [
    "# Your code here\n",
    "\n",
    "\n",
    "\n"
   ]
  },
  {
   "cell_type": "markdown",
   "metadata": {},
   "source": [
    "#### Question 3:\n",
    "\n",
    "For this question you will use the [Fashion MNIST](https://github.com/zalandoresearch/fashion-mnist) dataset. As with the MNIST dataset, your task will be to classify the images in the dataset using a neural network. You may use this [tutorial](https://www.tensorflow.org/tutorials/keras/classification) as a guide, but please try as far as possible to do this on your own, using what you have learned in this notebook as a reference."
   ]
  },
  {
   "cell_type": "code",
   "execution_count": 139,
   "metadata": {},
   "outputs": [
    {
     "name": "stdout",
     "output_type": "stream",
     "text": [
      "Downloading data from https://storage.googleapis.com/tensorflow/tf-keras-datasets/train-labels-idx1-ubyte.gz\n",
      "29515/29515 [==============================] - 0s 0us/step\n",
      "Downloading data from https://storage.googleapis.com/tensorflow/tf-keras-datasets/train-images-idx3-ubyte.gz\n",
      "26421880/26421880 [==============================] - 2s 0us/step\n",
      "Downloading data from https://storage.googleapis.com/tensorflow/tf-keras-datasets/t10k-labels-idx1-ubyte.gz\n",
      "5148/5148 [==============================] - 0s 0us/step\n",
      "Downloading data from https://storage.googleapis.com/tensorflow/tf-keras-datasets/t10k-images-idx3-ubyte.gz\n",
      "4422102/4422102 [==============================] - 0s 0us/step\n"
     ]
    }
   ],
   "source": [
    "# Getting the data\n",
    "\n",
    "fashion_mnist = tf.keras.datasets.fashion_mnist\n",
    "\n",
    "(train_images, train_labels), (test_images, test_labels) = fashion_mnist.load_data()"
   ]
  },
  {
   "cell_type": "markdown",
   "metadata": {},
   "source": [
    "#### a) Visualize the images in the dataset and explore the labels."
   ]
  },
  {
   "cell_type": "markdown",
   "metadata": {},
   "source": [
    "#### b) Build a neural network to classify the images. Use an appropriate loss and optimizer to compile it."
   ]
  },
  {
   "cell_type": "markdown",
   "metadata": {},
   "source": [
    "#### c) Train your model. What is the final loss of your model? What is the final accuracy? How does this accuracy compare to random guessing on this dataset?"
   ]
  },
  {
   "cell_type": "markdown",
   "metadata": {},
   "source": [
    "#### d) Evaluate your model on the test dataset. Visualize the loss curve."
   ]
  }
 ],
 "metadata": {
  "kernelspec": {
   "display_name": "Python [conda env:test_omgeving] *",
   "language": "python",
   "name": "conda-env-test_omgeving-py"
  },
  "language_info": {
   "codemirror_mode": {
    "name": "ipython",
    "version": 3
   },
   "file_extension": ".py",
   "mimetype": "text/x-python",
   "name": "python",
   "nbconvert_exporter": "python",
   "pygments_lexer": "ipython3",
   "version": "3.10.6"
  }
 },
 "nbformat": 4,
 "nbformat_minor": 4
}
