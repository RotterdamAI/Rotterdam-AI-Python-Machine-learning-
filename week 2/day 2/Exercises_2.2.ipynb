{
 "cells": [
  {
   "attachments": {},
   "cell_type": "markdown",
   "metadata": {},
   "source": [
    "# Exercises week 2.1"
   ]
  },
  {
   "attachments": {},
   "cell_type": "markdown",
   "metadata": {},
   "source": [
    "## Structure\n",
    "\n",
    "Each Exercise contains 3 different types of cells, 1 for the description of the exercise and the place where you need to write your code at the locations `#here your code`. Then there is the cell with the hint code, if you need help with the exercise because its not clear what to do or if you need an extra suggestion run the hint cell. At last we have the test cell, if you want to test if your solution is the correct one run this cell and it will tell you if you passed the exercise or not."
   ]
  },
  {
   "attachments": {},
   "cell_type": "markdown",
   "metadata": {},
   "source": [
    "## Exercise 2.1.1 Bank account\n",
    "Write the class BankAccount. This class need to have an initialization in the `__init__()`. look at theory for examples.<br>\n",
    "The BankAccount class needs to have 3 methods <br>\n",
    "- 1 deposit which can add an amount to `self.amount`<br>\n",
    "- 2 withdraw where you can withdraw an amount from your `self.amount`<br>\n",
    "- 3 get_balance returns your balance on your account "
   ]
  },
  {
   "cell_type": "code",
   "execution_count": null,
   "metadata": {},
   "outputs": [],
   "source": [
    "class BankAccount:\n",
    "    def __init__(self, account_number, amount):\n",
    "        # Your code here\n",
    "\n",
    "    def deposit(self, amount):\n",
    "        # Your code here\n",
    "\n",
    "    def withdraw(self, amount):\n",
    "        # Your code here\n",
    "    \n",
    "    def get_balance(self):\n",
    "        # Your code here"
   ]
  },
  {
   "attachments": {},
   "cell_type": "markdown",
   "metadata": {},
   "source": [
    "### Hint Bank Account\n",
    "Need a hint run the following cell"
   ]
  },
  {
   "cell_type": "code",
   "execution_count": 2,
   "metadata": {},
   "outputs": [
    {
     "name": "stdout",
     "output_type": "stream",
     "text": [
      "dont forget to use initialization for the 2 arguments like self.account_number = account_number\n",
      "We can access our init from deposit using for example self.amount += amount\n"
     ]
    }
   ],
   "source": [
    "from testexercises import hint_BankAccount\n",
    "hint_BankAccount()"
   ]
  },
  {
   "attachments": {},
   "cell_type": "markdown",
   "metadata": {},
   "source": [
    "### Test Bank Account\n",
    "Want to check if your code is correct? Run the following cell!"
   ]
  },
  {
   "cell_type": "code",
   "execution_count": null,
   "metadata": {},
   "outputs": [],
   "source": [
    "from testexercises import test_BankAccount\n",
    "test_BankAccount(BankAccount)"
   ]
  },
  {
   "attachments": {},
   "cell_type": "markdown",
   "metadata": {},
   "source": [
    "## Exercise 2.1.2 Book catalog\n",
    "Write the class Book. This class gets `title`, `author` and `year` as argument (so don't forget to initialize them).\n",
    "This class has 4 methods:<br>\n",
    "- `get_title(self)` this method should return the title of the book. <br>\n",
    "- `get_author(self)` this method should return the author of the book <br>\n",
    "- `get_year(self)` this method should return the year the book was released<br>\n",
    "- `__str__(self)` this method should return a string in the format `\"Title: {title}, Author: {author}, Year: {year}\"`"
   ]
  },
  {
   "cell_type": "code",
   "execution_count": null,
   "metadata": {},
   "outputs": [],
   "source": [
    "class Book:\n",
    "    def __init__(self, title, author, year):\n",
    "        # Your code here\n",
    "    \n",
    "    def get_title(self):\n",
    "        # Your code here\n",
    "\n",
    "    def get_author(self):\n",
    "        # Your code here\n",
    "    \n",
    "    def get_year(self):\n",
    "        # Your code here\n",
    "    \n",
    "    def display_info():\n",
    "        # Your code here"
   ]
  },
  {
   "attachments": {},
   "cell_type": "markdown",
   "metadata": {},
   "source": [
    "\n",
    "### Hint Book catalog\n",
    "Need a hint run the following cell"
   ]
  },
  {
   "cell_type": "code",
   "execution_count": null,
   "metadata": {},
   "outputs": [],
   "source": [
    "from testexercises import hint_Book\n",
    "hint_Book()"
   ]
  },
  {
   "attachments": {},
   "cell_type": "markdown",
   "metadata": {},
   "source": [
    "### Test Book catalog\n",
    "Want to check if your code is correct? Run the following cell!"
   ]
  },
  {
   "cell_type": "code",
   "execution_count": null,
   "metadata": {},
   "outputs": [],
   "source": [
    "from testexercises import test_Book\n",
    "test_Book(Book)"
   ]
  },
  {
   "attachments": {},
   "cell_type": "markdown",
   "metadata": {},
   "source": [
    "## Exercise 2.1.3 Animal Hierarchy (Bonus)\n",
    "Create a Python class called `Animal` as the base class for different types of animals. Then, create two derived classes `Dog` and `Cat` that inherit from the `Animal` class. Each class should have specific attributes and methods.<br><br>\n",
    "\n",
    "The Animal class should have the following attributes and methods:<br><br>\n",
    "\n",
    "Attributes:<br>\n",
    "\n",
    "- `name` (string): The name of the animal.<br>\n",
    "- `age` (int): The age of the animal.<br>\n",
    "\n",
    "Methods:<br>\n",
    "\n",
    "- `__init__(self, name, age)`: Initializes the name and age attributes of the animal.<br>\n",
    "- `speak(self)`: Prints a generic message indicating the animal makes a sound.<br>\n",
    "\n",
    "The `Dog` class should have the following attributes and methods:<br>\n",
    "\n",
    "Attributes:<br>\n",
    "\n",
    "- `breed` (string): The breed of the dog.<br>\n",
    "\n",
    "Methods:<br>\n",
    "\n",
    "- `__init__(self, name, age, breed)`: Initializes the name, age, and breed attributes of the dog.<br>\n",
    "- `speak(self)`: Prints a message specific to dogs, indicating that they bark.<br>\n",
    "\n",
    "The `Cat` class should have the following attributes and methods:<br>\n",
    "\n",
    "Attributes:<br>\n",
    "\n",
    "- `color` (string): The color of the cat.<br>\n",
    "\n",
    "Methods:<br>\n",
    "\n",
    "- `__init__(self, name, age, color)`: Initializes the name, age, and color attributes of the cat.<br>\n",
    "- `speak(self)`: Prints a message specific to cats, indicating that they meow.<br>\n",
    "\n",
    "Instructions:<br>\n",
    "\n",
    "- Implement the `Animal` class with the specified attributes and methods.<br>\n",
    "- Implement the `Dog` class that inherits from `Animal` and has additional attributes and methods specific to dogs.<br>\n",
    "- Implement the `Cat` class that inherits from Animal and has additional attributes and methods specific to cats.<br>\n",
    "- Override the `speak()` method in each derived class to print a specific message for that animal.<br>"
   ]
  },
  {
   "cell_type": "code",
   "execution_count": null,
   "metadata": {},
   "outputs": [],
   "source": []
  },
  {
   "attachments": {},
   "cell_type": "markdown",
   "metadata": {},
   "source": [
    "## Exercise 2.1.4 Vector operations (Bonus)"
   ]
  },
  {
   "attachments": {},
   "cell_type": "markdown",
   "metadata": {},
   "source": [
    "Create a Python class called `Vector` that represents a mathematical vector in two dimensions (x and y). Implement special methods to enable vector addition, scalar multiplication, and string representation.<br><br>\n",
    "\n",
    "The Vector class should have the following attributes and methods:<br>\n",
    "\n",
    "Attributes:<br>\n",
    "\n",
    "- `x` (float): The x-coordinate of the vector.<br>\n",
    "- `y` (float): The y-coordinate of the vector.<br>\n",
    "\n",
    "Methods:<br>\n",
    "\n",
    "- `__init__(self, x, y)`: Initializes the x and y attributes of the vector.<br>\n",
    "- `__str__(self)`: Returns a string representation of the vector in the format \"(x, y)\".<br>\n",
    "- `__add__(self, other)`: Adds the current vector with another vector (other) and returns a new `Vector` object representing the sum.<br>\n",
    "- `__mul__(self, scalar)`: Multiplies the vector by a scalar (scalar) and returns a new `Vector` object representing the product.<br>\n",
    "\n",
    "Instructions:<br>\n",
    "\n",
    "- Implement the Vector class with the specified attributes and methods.<br>\n",
    "- Initialize the `x` and `y` attributes in the class constructor (`__init__()` method).<br>\n",
    "- Implement the `__str__()` method to return a string representation of the vector in the format \"(x, y)\".<br>\n",
    "- Implement the `__add__()` method to add the current vector with another vector (`other`). Create a new `Vector` object with the sum of the corresponding coordinates (`x` and `y`).<br>\n",
    "- Implement the `__mul__()` method to multiply the vector by a scalar (`scalar`). Create a new Vector object with the product of the coordinates (`x` and `y)` and the scalar."
   ]
  },
  {
   "cell_type": "code",
   "execution_count": 4,
   "metadata": {},
   "outputs": [],
   "source": []
  },
  {
   "cell_type": "code",
   "execution_count": null,
   "metadata": {},
   "outputs": [],
   "source": []
  }
 ],
 "metadata": {
  "kernelspec": {
   "display_name": "Python 3",
   "language": "python",
   "name": "python3"
  },
  "language_info": {
   "codemirror_mode": {
    "name": "ipython",
    "version": 3
   },
   "file_extension": ".py",
   "mimetype": "text/x-python",
   "name": "python",
   "nbconvert_exporter": "python",
   "pygments_lexer": "ipython3",
   "version": "3.10.6"
  },
  "orig_nbformat": 4
 },
 "nbformat": 4,
 "nbformat_minor": 2
}
