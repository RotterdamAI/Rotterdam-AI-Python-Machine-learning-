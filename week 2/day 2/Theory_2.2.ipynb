{
 "cells": [
  {
   "attachments": {},
   "cell_type": "markdown",
   "metadata": {},
   "source": [
    "# 2.2 Object orientated programming (OOP)\n",
    "\n",
    "## Classes\n",
    "A class is a user-defined blueprint or template that encapsulates data (attributes) and functions (methods) that operate on that data. It provides a way to define objects with specific properties and behaviors. Objects are instances of a class, and each object created from the class has its own unique set of attribute values."
   ]
  },
  {
   "attachments": {},
   "cell_type": "markdown",
   "metadata": {},
   "source": [
    "### Attributes\n",
    " Attributes are variables that store data associated with an object. They represent the properties or characteristics of an object. Attributes are defined within the class and are accessed using the dot notation. They can be created and initialized in the class's `__init__()` method, which is a special method called the constructor."
   ]
  },
  {
   "cell_type": "code",
   "execution_count": null,
   "metadata": {},
   "outputs": [],
   "source": [
    "class Car:\n",
    "    def __init__(self, color, make, model):\n",
    "        self.color = color\n",
    "        self.make = make\n",
    "        self.model = model"
   ]
  },
  {
   "attachments": {},
   "cell_type": "markdown",
   "metadata": {},
   "source": [
    "In the above example, the `Car` class has attributes `color`, `make`, and `model`. When an object is created from this class, these attributes are initialized with the values passed during object creation."
   ]
  },
  {
   "cell_type": "code",
   "execution_count": null,
   "metadata": {},
   "outputs": [],
   "source": [
    "car1 = Car(\"Red\", \"Toyota\", \"Camry\")\n",
    "print(car1.color)  # Output: Red"
   ]
  },
  {
   "attachments": {},
   "cell_type": "markdown",
   "metadata": {},
   "source": [
    "You can also access and modify attributes using assignment statements:"
   ]
  },
  {
   "cell_type": "code",
   "execution_count": null,
   "metadata": {},
   "outputs": [],
   "source": [
    "car1.color = \"Blue\""
   ]
  },
  {
   "attachments": {},
   "cell_type": "markdown",
   "metadata": {},
   "source": [
    "### Methods\n",
    " Methods are functions defined inside a class that define the behaviors or actions that objects of the class can perform. They can operate on the data (attributes) of the object and interact with other objects. Methods are defined using the def keyword and the first parameter is usually self, which refers to the instance of the object invoking the method."
   ]
  },
  {
   "cell_type": "code",
   "execution_count": null,
   "metadata": {},
   "outputs": [],
   "source": [
    "class Car:\n",
    "    def __init__(self, color, make, model):\n",
    "        self.color = color\n",
    "        self.make = make\n",
    "        self.model = model\n",
    "\n",
    "    def start_engine(self):\n",
    "        print(\"Engine started!\")"
   ]
  },
  {
   "attachments": {},
   "cell_type": "markdown",
   "metadata": {},
   "source": [
    "In the above example, the `Car` class has a method called `start_engine()` which prints a message indicating that the engine has started. You can call this method on an instance of the class:"
   ]
  },
  {
   "cell_type": "code",
   "execution_count": null,
   "metadata": {},
   "outputs": [],
   "source": [
    "car1 = Car(\"Red\", \"Toyota\", \"Camry\")\n",
    "car1.start_engine()  # Output: Engine started!"
   ]
  },
  {
   "attachments": {},
   "cell_type": "markdown",
   "metadata": {},
   "source": [
    "Methods can also accept additional parameters besides `self` to perform actions and computations."
   ]
  },
  {
   "attachments": {},
   "cell_type": "markdown",
   "metadata": {},
   "source": [
    "### Creating Objects\n",
    " Objects, also known as instances, are created from a class. To create an object, you use the class name followed by parentheses. This invokes the class's constructor (if defined) and returns an instance of the class."
   ]
  },
  {
   "cell_type": "code",
   "execution_count": null,
   "metadata": {},
   "outputs": [],
   "source": [
    "car1 = Car(\"Red\", \"Toyota\", \"Camry\")"
   ]
  },
  {
   "attachments": {},
   "cell_type": "markdown",
   "metadata": {},
   "source": [
    "In the above example, `car1` is an object created from the `Car` class. It has its own unique set of attribute values.\n",
    "\n",
    "You can create multiple objects of the same class, each with its own attribute values:"
   ]
  },
  {
   "cell_type": "code",
   "execution_count": null,
   "metadata": {},
   "outputs": [],
   "source": [
    "car2 = Car(\"Blue\", \"Honda\", \"Civic\")"
   ]
  },
  {
   "attachments": {},
   "cell_type": "markdown",
   "metadata": {},
   "source": [
    "The objects created from the class can be assigned to variables and used throughout the program."
   ]
  },
  {
   "attachments": {},
   "cell_type": "markdown",
   "metadata": {},
   "source": [
    "### Special methods\n",
    "Special methods, also known as magic methods or dunder (double underscore) methods, are predefined methods in Python classes that allow you to define and customize the behavior of your objects. These methods have special names surrounded by double underscores, such as `__init__()` and `__str__()`. They are called automatically by specific language constructs or built-in functions.\n",
    "\n",
    "Here are some commonly used special methods and their purposes:"
   ]
  },
  {
   "attachments": {},
   "cell_type": "markdown",
   "metadata": {},
   "source": [
    "#### __init__()\n",
    " The `__init__()` method, also known as the constructor, is called when an object is created from a class. It initializes the object's attributes and performs any necessary setup. This method takes the instance (self) as the first parameter, followed by any additional parameters."
   ]
  },
  {
   "cell_type": "code",
   "execution_count": null,
   "metadata": {},
   "outputs": [],
   "source": [
    "class Car:\n",
    "    def __init__(self, color, make, model):\n",
    "        self.color = color\n",
    "        self.make = make\n",
    "        self.model = model"
   ]
  },
  {
   "attachments": {},
   "cell_type": "markdown",
   "metadata": {},
   "source": [
    "The `__init__()` method allows you to specify attribute values when creating an object:"
   ]
  },
  {
   "cell_type": "code",
   "execution_count": null,
   "metadata": {},
   "outputs": [],
   "source": [
    "car1 = Car(\"Red\", \"Toyota\", \"Camry\")"
   ]
  },
  {
   "attachments": {},
   "cell_type": "markdown",
   "metadata": {},
   "source": [
    "#### __str__() \n",
    "The `__str__()` method is used to define a string representation of an object. It is called by the built-in str() function and the print() function to obtain a human-readable string representation of the object. This method should return a string."
   ]
  },
  {
   "cell_type": "code",
   "execution_count": null,
   "metadata": {},
   "outputs": [],
   "source": [
    "class Car:\n",
    "    def __init__(self, color, make, model):\n",
    "        self.color = color\n",
    "        self.make = make\n",
    "        self.model = model\n",
    "\n",
    "    def __str__(self):\n",
    "        return f\"{self.color} {self.make} {self.model}\""
   ]
  },
  {
   "attachments": {},
   "cell_type": "markdown",
   "metadata": {},
   "source": [
    "The `__str__()` method allows you to customize the string representation of an object:"
   ]
  },
  {
   "cell_type": "code",
   "execution_count": null,
   "metadata": {},
   "outputs": [],
   "source": [
    "car1 = Car(\"Red\", \"Toyota\", \"Camry\")\n",
    "print(car1)  # Output: Red Toyota Camry"
   ]
  },
  {
   "attachments": {},
   "cell_type": "markdown",
   "metadata": {},
   "source": [
    "#### __len__()\n",
    " The `__len__()` method is used to define the behavior of the `len()` function when applied to an object. It should return the length of the object. This method is commonly implemented in classes that represent collections or sequences."
   ]
  },
  {
   "cell_type": "code",
   "execution_count": null,
   "metadata": {},
   "outputs": [],
   "source": [
    "class MyList:\n",
    "    def __init__(self, data):\n",
    "        self.data = data\n",
    "\n",
    "    def __len__(self):\n",
    "        return len(self.data)"
   ]
  },
  {
   "attachments": {},
   "cell_type": "markdown",
   "metadata": {},
   "source": [
    "The `__len__()` method allows you to obtain the length of an object using the `len()` function:"
   ]
  },
  {
   "cell_type": "code",
   "execution_count": null,
   "metadata": {},
   "outputs": [],
   "source": [
    "my_list = MyList([1, 2, 3, 4, 5])\n",
    "print(len(my_list))  # Output: 5"
   ]
  },
  {
   "attachments": {},
   "cell_type": "markdown",
   "metadata": {},
   "source": [
    "These are just a few examples of special methods in Python classes. There are many more special methods available, such as `__eq__()`, `__lt__()`, `__add__()`, `__getitem__()`, and more. These methods allow you to define custom behavior for object comparison, arithmetic operations, indexing, and iteration, among other things."
   ]
  },
  {
   "attachments": {},
   "cell_type": "markdown",
   "metadata": {},
   "source": [
    "### Inheritance\n",
    "Inheritance is a fundamental concept in object-oriented programming that allows you to create a new class (subclass) based on an existing class (superclass or parent class). The subclass inherits the attributes and methods of the superclass, allowing you to reuse code and extend or modify the behavior of the superclass.\n",
    "\n",
    "Inheritance provides several benefits:"
   ]
  },
  {
   "attachments": {},
   "cell_type": "markdown",
   "metadata": {},
   "source": [
    "#### Code Reusability\n",
    " Inheritance allows you to reuse code from an existing class in a new class. The subclass automatically inherits all the attributes and methods of the superclass, reducing code duplication and promoting code reuse."
   ]
  },
  {
   "attachments": {},
   "cell_type": "markdown",
   "metadata": {},
   "source": [
    "#### Hierarchy and Organization\n",
    " Inheritance helps create a hierarchical structure among classes, allowing you to organize and categorize related classes. You can define a general superclass that contains common attributes and methods, and then create more specific subclasses that inherit from it."
   ]
  },
  {
   "attachments": {},
   "cell_type": "markdown",
   "metadata": {},
   "source": [
    "#### Overriding and Extending\n",
    " Subclasses can override methods inherited from the superclass, providing their own implementation. This allows you to customize the behavior of methods in the subclass while retaining the rest of the inherited functionality. Additionally, subclasses can add new attributes and methods specific to their own requirements."
   ]
  },
  {
   "attachments": {},
   "cell_type": "markdown",
   "metadata": {},
   "source": [
    "To define inheritance in Python, you create a subclass by specifying the superclass inside parentheses after the class name. The subclass inherits all the attributes and methods of the superclass."
   ]
  },
  {
   "cell_type": "code",
   "execution_count": null,
   "metadata": {},
   "outputs": [],
   "source": [
    "class Superclass:\n",
    "    # Attributes and methods of the superclass\n",
    "\n",
    "class Subclass(Superclass):\n",
    "    # Additional attributes and methods of the subclass"
   ]
  },
  {
   "attachments": {},
   "cell_type": "markdown",
   "metadata": {},
   "source": [
    "The subclass can access the attributes and methods of the superclass using the dot notation. It can override methods by defining a method with the same name in the subclass."
   ]
  },
  {
   "cell_type": "code",
   "execution_count": null,
   "metadata": {},
   "outputs": [],
   "source": [
    "class Vehicle:\n",
    "    def start(self):\n",
    "        print(\"Vehicle starting...\")\n",
    "\n",
    "class Car(Vehicle):\n",
    "    def start(self):\n",
    "        print(\"Car starting...\")\n",
    "\n",
    "car = Car()\n",
    "car.start()  # Output: Car starting..."
   ]
  },
  {
   "attachments": {},
   "cell_type": "markdown",
   "metadata": {},
   "source": [
    "In the above example, the `Car` class is a subclass of the `Vehicle` class. It inherits the `start()` method from the superclass but overrides it with its own implementation.\n",
    "\n",
    "Inheritance can also form a chain of subclasses, where a subclass can itself be a superclass for another subclass. This allows for multi-level inheritance."
   ]
  },
  {
   "cell_type": "code",
   "execution_count": null,
   "metadata": {},
   "outputs": [],
   "source": [
    "class Vehicle:\n",
    "    def start(self):\n",
    "        print(\"Vehicle starting...\")\n",
    "\n",
    "class Car(Vehicle):\n",
    "    def start(self):\n",
    "        print(\"Car starting...\")\n",
    "\n",
    "class ElectricCar(Car):\n",
    "    def start(self):\n",
    "        print(\"Electric car starting...\")\n",
    "\n",
    "electric_car = ElectricCar()\n",
    "electric_car.start()  # Output: Electric car starting..."
   ]
  },
  {
   "attachments": {},
   "cell_type": "markdown",
   "metadata": {},
   "source": [
    "In the above example, the ElectricCar class is a subclass of the Car class, which itself is a subclass of the Vehicle class. The ElectricCar class inherits the start() method from both the Car and Vehicle classes but overrides it with its own implementation.\n"
   ]
  },
  {
   "attachments": {},
   "cell_type": "markdown",
   "metadata": {},
   "source": [
    "#### Accessing Superclass Methods\n",
    " In a subclass, you can access the methods of the superclass using the super() function. This is useful when you want to invoke the superclass's method in addition to the overridden method in the subclass."
   ]
  },
  {
   "cell_type": "code",
   "execution_count": null,
   "metadata": {},
   "outputs": [],
   "source": [
    "class Vehicle:\n",
    "    def start(self):\n",
    "        print(\"Vehicle starting...\")\n",
    "\n",
    "class Car(Vehicle):\n",
    "    def start(self):\n",
    "        super().start()  # Invoke the start() method of the superclass\n",
    "        print(\"Car starting...\")\n",
    "\n",
    "car = Car()\n",
    "car.start()"
   ]
  },
  {
   "attachments": {},
   "cell_type": "markdown",
   "metadata": {},
   "source": [
    "The `super().start()` statement in the `start()` method of the `Car` class calls the `start()` method of the superclass (`Vehicle`). This allows you to add extra functionality while still benefiting from the behavior defined in the superclass."
   ]
  },
  {
   "attachments": {},
   "cell_type": "markdown",
   "metadata": {},
   "source": [
    "#### Multiple Inheritance\n",
    "Python supports multiple inheritance, which means a subclass can inherit from multiple superclasses. This allows you to combine attributes and methods from multiple classes into a single subclass. To specify multiple superclasses, you separate them with commas in the class definition."
   ]
  },
  {
   "cell_type": "code",
   "execution_count": null,
   "metadata": {},
   "outputs": [],
   "source": [
    "class Superclass1:\n",
    "    # Attributes and methods of Superclass1\n",
    "\n",
    "class Superclass2:\n",
    "    # Attributes and methods of Superclass2\n",
    "\n",
    "class Subclass(Superclass1, Superclass2):\n",
    "    # Additional attributes and methods of the Subclass"
   ]
  },
  {
   "attachments": {},
   "cell_type": "markdown",
   "metadata": {},
   "source": [
    "In the above example, the `Subclass` inherits from both `Superclass1` and `Superclass2`. It will have access to the attributes and methods of both superclasses."
   ]
  },
  {
   "attachments": {},
   "cell_type": "markdown",
   "metadata": {},
   "source": [
    "#### Abstract Base Classes (ABCs)\n",
    " Python provides the abc module, which allows you to define abstract base classes. An abstract base class is a class that cannot be instantiated and serves as a blueprint for other classes. It defines a common interface that subclasses must implement. Abstract base classes are useful for creating common behavior and enforcing consistency among subclasses."
   ]
  },
  {
   "cell_type": "code",
   "execution_count": null,
   "metadata": {},
   "outputs": [],
   "source": [
    "from abc import ABC, abstractmethod\n",
    "\n",
    "class Shape(ABC):\n",
    "    @abstractmethod\n",
    "    def calculate_area(self):\n",
    "        pass\n",
    "\n",
    "class Rectangle(Shape):\n",
    "    def __init__(self, width, height):\n",
    "        self.width = width\n",
    "        self.height = height\n",
    "\n",
    "    def calculate_area(self):\n",
    "        return self.width * self.height\n",
    "\n",
    "rectangle = Rectangle(5, 10)\n",
    "print(rectangle.calculate_area())  # Output: 50"
   ]
  },
  {
   "attachments": {},
   "cell_type": "markdown",
   "metadata": {},
   "source": [
    "In the above example, the Shape class is defined as an abstract base class with an abstract method calculate_area(). The Rectangle class is a subclass of Shape and provides an implementation for the abstract method. By inheriting from Shape, the Rectangle class must implement the calculate_area() method, ensuring that all subclasses of Shape have a consistent interface."
   ]
  },
  {
   "attachments": {},
   "cell_type": "markdown",
   "metadata": {},
   "source": [
    "nheritance is a powerful mechanism in object-oriented programming that allows for code reuse, flexibility, and extensibility. It helps in creating well-organized class hierarchies, promotes code modularity, and provides a way to represent real-world relationships and concepts in your code."
   ]
  },
  {
   "attachments": {},
   "cell_type": "markdown",
   "metadata": {},
   "source": [
    "### Polymorphism\n",
    "Polymorphism is a key concept in object-oriented programming that allows objects of different classes to be treated as objects of a common superclass. It enables you to write code that can work with objects of different types, providing a flexible and extensible design.\n",
    "\n",
    "At its core, polymorphism allows you to use a single interface or method to perform different actions based on the specific object type. This is achieved through method overriding and method overloading."
   ]
  },
  {
   "attachments": {},
   "cell_type": "markdown",
   "metadata": {},
   "source": [
    "#### Method Overriding\n",
    "Method overriding occurs when a subclass provides its own implementation of a method that is already defined in its superclass. The subclass can override a method to change or extend its behavior while maintaining the same method signature (name and parameters)."
   ]
  },
  {
   "cell_type": "code",
   "execution_count": null,
   "metadata": {},
   "outputs": [],
   "source": [
    "class Animal:\n",
    "    def sound(self):\n",
    "        print(\"Animal makes a sound\")\n",
    "\n",
    "class Dog(Animal):\n",
    "    def sound(self):\n",
    "        print(\"Dog barks\")\n",
    "\n",
    "class Cat(Animal):\n",
    "    def sound(self):\n",
    "        print(\"Cat meows\")\n",
    "\n",
    "def make_sound(animal):\n",
    "    animal.sound()\n",
    "\n",
    "dog = Dog()\n",
    "cat = Cat()\n",
    "\n",
    "make_sound(dog)  # Output: Dog barks\n",
    "make_sound(cat)  # Output: Cat meows"
   ]
  },
  {
   "attachments": {},
   "cell_type": "markdown",
   "metadata": {},
   "source": [
    "In the above example, the `Animal` class defines a `sound()` method. The `Dog` and `Cat` classes inherit from `Animal` and override the `sound()` method with their own implementations. When the `make_sound()` function is called with a `Dog` or `Cat` object, the overridden `sound()` method of the respective subclass is invoked."
   ]
  },
  {
   "attachments": {},
   "cell_type": "markdown",
   "metadata": {},
   "source": [
    "#### Method Overloading\n",
    "Method overloading allows a class to have multiple methods with the same name but different parameters. Python does not support traditional method overloading like some other languages, but you can achieve similar behavior by using default parameter values or variable-length arguments."
   ]
  },
  {
   "cell_type": "code",
   "execution_count": null,
   "metadata": {},
   "outputs": [],
   "source": [
    "class MathUtils:\n",
    "    def add(self, a, b):\n",
    "        return a + b\n",
    "\n",
    "    def add(self, a, b, c):\n",
    "        return a + b + c\n",
    "\n",
    "math = MathUtils()\n",
    "\n",
    "print(math.add(2, 3))       # Output: 5\n",
    "print(math.add(2, 3, 4))    # Output: 9"
   ]
  },
  {
   "attachments": {},
   "cell_type": "markdown",
   "metadata": {},
   "source": [
    "In the above example, the `MathUtils` class defines two `add()` methods with different numbers of parameters. Although Python does not allow method overloading based on parameter types alone, you can achieve a similar effect by defining multiple methods with different parameter signatures."
   ]
  },
  {
   "attachments": {},
   "cell_type": "markdown",
   "metadata": {},
   "source": [
    "Polymorphism allows you to write more flexible and reusable code. By using a common interface or method, you can treat objects of different classes uniformly, which simplifies code maintenance and promotes code modularity. Polymorphism is especially useful when working with collections of objects, as it allows you to iterate over the collection and perform operations without worrying about the specific type of each object."
   ]
  },
  {
   "attachments": {},
   "cell_type": "markdown",
   "metadata": {},
   "source": []
  }
 ],
 "metadata": {
  "language_info": {
   "name": "python"
  },
  "orig_nbformat": 4
 },
 "nbformat": 4,
 "nbformat_minor": 2
}
