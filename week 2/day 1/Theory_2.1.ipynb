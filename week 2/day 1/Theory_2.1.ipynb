{
 "cells": [
  {
   "attachments": {},
   "cell_type": "markdown",
   "metadata": {},
   "source": [
    "\n",
    "# 2.1: Python more build in function and file manipulation (IO)"
   ]
  },
  {
   "attachments": {},
   "cell_type": "markdown",
   "metadata": {},
   "source": [
    "## zip() function\n",
    "The `zip()` function in Python is used to combine elements from two or more iterables (such as lists, tuples, or strings) into tuples. It takes the corresponding elements from each iterable and creates an iterator of tuples where the first element in each input iterable is paired together, the second element is paired together, and so on.\n",
    "Syntax:\n",
    "### syntax\n",
    "The syntax for using the zip() function is as follows:"
   ]
  },
  {
   "cell_type": "code",
   "execution_count": null,
   "metadata": {},
   "outputs": [],
   "source": [
    "zip(iterable1, iterable2, ...)"
   ]
  },
  {
   "attachments": {},
   "cell_type": "markdown",
   "metadata": {},
   "source": [
    "`iterable1`, `iterable2`, and so on, are the iterables (lists, tuples, or strings) that you want to zip together."
   ]
  },
  {
   "attachments": {},
   "cell_type": "markdown",
   "metadata": {},
   "source": [
    "Let's look at an example to understand how `zip()` works:"
   ]
  },
  {
   "cell_type": "code",
   "execution_count": 1,
   "metadata": {},
   "outputs": [
    {
     "name": "stdout",
     "output_type": "stream",
     "text": [
      "The apple is red\n",
      "The banana is yellow\n",
      "The cherry is purple\n"
     ]
    }
   ],
   "source": [
    "fruits = ['apple', 'banana', 'cherry']\n",
    "colors = ['red', 'yellow', 'purple']\n",
    "\n",
    "zipped = zip(fruits, colors)\n",
    "\n",
    "for fruit, color in zipped:\n",
    "    print(f\"The {fruit} is {color}\")"
   ]
  },
  {
   "attachments": {},
   "cell_type": "markdown",
   "metadata": {},
   "source": [
    "In this example, we have two lists, fruits and colors. We use the zip() function to combine the corresponding elements from both lists into tuples. The resulting iterator, zipped, contains the following tuples: ('apple', 'red'), ('banana', 'yellow'), and ('cherry', 'purple').\n",
    "\n",
    "We then use a for loop to iterate over the zipped iterator. In each iteration, the tuples are unpacked into the variables fruit and color. We then print a sentence that combines the fruit name and its corresponding color."
   ]
  },
  {
   "attachments": {},
   "cell_type": "markdown",
   "metadata": {},
   "source": [
    "### Conclusion:\n",
    "\n",
    "The zip() function is a handy tool in Python for combining corresponding elements from multiple iterables into tuples. It allows you to process the elements in parallel and is often used in scenarios where you need to work with multiple related lists, tuples, or strings.\n",
    "\n",
    "You can copy and paste the above content into an IPython notebook cell and run it to see the formatted output with a detailed explanation."
   ]
  },
  {
   "attachments": {},
   "cell_type": "markdown",
   "metadata": {},
   "source": [
    "## filter() Function\n",
    "The filter() function in Python is used to filter out elements from an iterable (such as a list) based on a given function or condition. It returns an iterator containing only the elements for which the function or condition returns True.\n",
    "\n",
    "### Syntax:\n",
    "\n",
    "The syntax for using the filter() function is as follows:\n",
    "\n"
   ]
  },
  {
   "cell_type": "code",
   "execution_count": null,
   "metadata": {},
   "outputs": [],
   "source": [
    "filter(function, iterable)"
   ]
  },
  {
   "attachments": {},
   "cell_type": "markdown",
   "metadata": {},
   "source": [
    "`function` is a function that takes a single argument and returns either `True` or `False`. This function is applied to each element in the iterable.\n",
    "`iterable` is an iterable (such as a list, tuple, or string) from which the elements are filtered."
   ]
  },
  {
   "attachments": {},
   "cell_type": "markdown",
   "metadata": {},
   "source": [
    "### Example:\n",
    "\n",
    "Let's look at an example to understand how filter() works:\n"
   ]
  },
  {
   "cell_type": "code",
   "execution_count": 3,
   "metadata": {},
   "outputs": [
    {
     "name": "stdout",
     "output_type": "stream",
     "text": [
      "2\n",
      "4\n",
      "6\n",
      "8\n",
      "10\n"
     ]
    }
   ],
   "source": [
    "def is_even(x):\n",
    "    return x % 2 == 0\n",
    "\n",
    "numbers = [1, 2, 3, 4, 5, 6, 7, 8, 9, 10]\n",
    "even_numbers = filter(is_even, numbers)\n",
    "\n",
    "for number in even_numbers:\n",
    "    print(number)"
   ]
  },
  {
   "attachments": {},
   "cell_type": "markdown",
   "metadata": {},
   "source": [
    "In this example, we define a function `is_even()` that checks whether a number is even by evaluating if the number modulo 2 is equal to 0. We have a list of numbers, and we use the `filter()` function to apply the `is_even()` function to each element in the list.\n",
    "\n",
    "The `filter()` function returns an iterator containing only the elements for which the `is_even()` function returns `True`. In this case, it returns an iterator with the even numbers `[2, 4, 6, 8, 10]`. We iterate over this iterator using a `for` loop and print each even number."
   ]
  },
  {
   "attachments": {},
   "cell_type": "markdown",
   "metadata": {},
   "source": [
    "The `filter()` function allows you to selectively process and work with elements from an iterable based on a given function or condition. It is useful when you want to filter out elements that meet certain criteria and operate on the remaining elements.\n",
    "\n",
    "It's important to note that the `filter()` function returns an iterator, so if you want to obtain the filtered elements as a list, you can convert the iterator to a list using the `list()` function.\n",
    "\n",
    "### Conclusion:\n",
    "\n",
    "The `filter()` function in Python provides a concise and efficient way to filter elements from an iterable based on a given function or condition. It allows you to selectively process and work with elements that meet specific criteria, enhancing the flexibility and functionality of your code."
   ]
  },
  {
   "attachments": {},
   "cell_type": "markdown",
   "metadata": {},
   "source": [
    "## map() Function\n",
    "\n",
    "The map() function in Python is used to apply a given function to each element of an iterable (such as a list) and returns an iterator of the results. It allows you to transform each element of the iterable by applying a function to it."
   ]
  },
  {
   "attachments": {},
   "cell_type": "markdown",
   "metadata": {},
   "source": [
    "### Syntax:\n",
    "The syntax for using the map() function is as follows:"
   ]
  },
  {
   "cell_type": "code",
   "execution_count": null,
   "metadata": {},
   "outputs": [],
   "source": [
    "map(function, iterable)"
   ]
  },
  {
   "attachments": {},
   "cell_type": "markdown",
   "metadata": {},
   "source": [
    "`function` is a function that takes one or more arguments and performs a specific operation on them.\n",
    "`iterable` is an iterable (such as a list, tuple, or string) on which the function will be applied."
   ]
  },
  {
   "attachments": {},
   "cell_type": "markdown",
   "metadata": {},
   "source": [
    "### Example:\n",
    "\n",
    "Let's look at an example to understand how map() works:"
   ]
  },
  {
   "cell_type": "code",
   "execution_count": 5,
   "metadata": {},
   "outputs": [
    {
     "name": "stdout",
     "output_type": "stream",
     "text": [
      "1\n",
      "4\n",
      "9\n",
      "16\n",
      "25\n"
     ]
    }
   ],
   "source": [
    "def square(x):\n",
    "    return x ** 2\n",
    "\n",
    "numbers = [1, 2, 3, 4, 5]\n",
    "squared_numbers = map(square, numbers)\n",
    "\n",
    "for number in squared_numbers:\n",
    "    print(number)"
   ]
  },
  {
   "attachments": {},
   "cell_type": "markdown",
   "metadata": {},
   "source": [
    "In this example, we define a function `square()` that takes a number as input and returns its square. We have a list of numbers, and we use the `map()` function to apply the `square()` function to each element in the list.\n",
    "\n",
    "The `map()` function returns an iterator that contains the results of applying the square() function to each element of the original list. In this case, it returns an iterator with the squared numbers `[1, 4, 9, 16, 25]`. We iterate over this iterator using a `for` loop and print each squared number.\n",
    "\n",
    "The `map()` function allows you to apply a given function to each element of an iterable, transforming the elements according to the function's logic. It is useful when you want to perform a specific operation on each element of a list or any other iterable.\n",
    "\n",
    "It's important to note that the `map()` function returns an iterator, so if you want to obtain the mapped results as a list, you can convert the iterator to a list using the `list()` function."
   ]
  },
  {
   "attachments": {},
   "cell_type": "markdown",
   "metadata": {},
   "source": [
    "### Lambda Functions:\n",
    "The `map()` function is often used in conjunction with lambda functions to provide a concise and on-the-fly way of applying simple operations to each element of an iterable. Here's an example using a lambda function:"
   ]
  },
  {
   "cell_type": "code",
   "execution_count": 7,
   "metadata": {},
   "outputs": [
    {
     "name": "stdout",
     "output_type": "stream",
     "text": [
      "1\n",
      "4\n",
      "9\n",
      "16\n",
      "25\n"
     ]
    }
   ],
   "source": [
    "numbers = [1, 2, 3, 4, 5]\n",
    "squared_numbers = map(lambda x: x ** 2, numbers)\n",
    "\n",
    "for number in squared_numbers:\n",
    "    print(number)"
   ]
  },
  {
   "attachments": {},
   "cell_type": "markdown",
   "metadata": {},
   "source": [
    "In this case, we use a lambda function to define the squaring operation directly within the `map()` function call. The lambda function lambda `x: x ** 2` takes a number `x` and returns its square. The rest of the code remains the same."
   ]
  },
  {
   "attachments": {},
   "cell_type": "markdown",
   "metadata": {},
   "source": [
    "### Conclusion:\n",
    "\n",
    "The map() function in Python allows you to apply a given function to each element of an iterable, transforming the elements according to the function's logic. It provides a concise and efficient way to perform operations on multiple elements simultaneously, enhancing the flexibility and functionality of your code."
   ]
  },
  {
   "attachments": {},
   "cell_type": "markdown",
   "metadata": {},
   "source": [
    "## File handling (IO)"
   ]
  },
  {
   "attachments": {},
   "cell_type": "markdown",
   "metadata": {},
   "source": [
    "### Opening and Closing Files\n",
    "\n",
    "Before performing any file manipulation, you need to open the file using the `open()` function. The `open()` function returns a file object, which allows you to read, write, or append to the file.\n",
    "\n",
    "The general syntax for opening a file is as follows:"
   ]
  },
  {
   "cell_type": "code",
   "execution_count": null,
   "metadata": {},
   "outputs": [],
   "source": [
    "file = open(filename, mode)"
   ]
  },
  {
   "attachments": {},
   "cell_type": "markdown",
   "metadata": {},
   "source": [
    "- `filename` is the name of the file you want to open, including the file extension.\n",
    "- `mode` specifies the purpose of opening the file, such as reading, writing, or appending. The mode can be `'r'` for reading, `'w'` for writing, `'a'` for appending, or `'x'` for creating a new file for writing."
   ]
  },
  {
   "attachments": {},
   "cell_type": "markdown",
   "metadata": {},
   "source": [
    "After performing the necessary operations on the file, it's important to close the file using the `close()` method of the file object. Closing the file ensures that any changes are saved and resources are released."
   ]
  },
  {
   "cell_type": "code",
   "execution_count": null,
   "metadata": {},
   "outputs": [],
   "source": [
    "file.close()"
   ]
  },
  {
   "attachments": {},
   "cell_type": "markdown",
   "metadata": {},
   "source": [
    "### Reading from a File\n",
    "\n",
    "To read the contents of a file, you can use the read() method of the file object. The read() method reads the entire content of the file and returns it as a string.\n"
   ]
  },
  {
   "cell_type": "code",
   "execution_count": null,
   "metadata": {},
   "outputs": [],
   "source": [
    "file = open(\"filename.txt\", \"r\")\n",
    "content = file.read()\n",
    "print(content)\n",
    "file.close()"
   ]
  },
  {
   "attachments": {},
   "cell_type": "markdown",
   "metadata": {},
   "source": [
    "You can also read the file line by line using the `readline()` method, which reads a single line from the file and moves the file pointer to the next line."
   ]
  },
  {
   "cell_type": "code",
   "execution_count": null,
   "metadata": {},
   "outputs": [],
   "source": [
    "file = open(\"filename.txt\", \"r\")\n",
    "line = file.readline()\n",
    "print(line)\n",
    "file.close()"
   ]
  },
  {
   "attachments": {},
   "cell_type": "markdown",
   "metadata": {},
   "source": [
    "To read all the lines of a file into a list, you can use the `readlines()` method. Each line is stored as a separate element in the list."
   ]
  },
  {
   "cell_type": "code",
   "execution_count": null,
   "metadata": {},
   "outputs": [],
   "source": [
    "file = open(\"filename.txt\", \"r\")\n",
    "lines = file.readlines()\n",
    "for line in lines:\n",
    "    print(line)\n",
    "file.close()"
   ]
  },
  {
   "attachments": {},
   "cell_type": "markdown",
   "metadata": {},
   "source": [
    "### Writing to a File\n",
    "\n",
    "To write to a file, you can use the write() method of the file object. The write() method writes the specified content to the file."
   ]
  },
  {
   "cell_type": "code",
   "execution_count": 11,
   "metadata": {},
   "outputs": [],
   "source": [
    "file = open(\"filename.txt\", \"w\")\n",
    "file.write(\"Hello, World!\")\n",
    "file.close()"
   ]
  },
  {
   "attachments": {},
   "cell_type": "markdown",
   "metadata": {},
   "source": [
    "If you want to append content to an existing file without overwriting its existing contents, you can open the file in append mode (`'a'`) and use the `write()` method."
   ]
  },
  {
   "cell_type": "code",
   "execution_count": null,
   "metadata": {},
   "outputs": [],
   "source": [
    "file = open(\"filename.txt\", \"a\")\n",
    "file.write(\"Hello again!\")\n",
    "file.close()"
   ]
  },
  {
   "attachments": {},
   "cell_type": "markdown",
   "metadata": {},
   "source": [
    "### Exception Handling with Files\n",
    "\n",
    "When working with files, it's important to handle exceptions that may occur, such as file not found errors or permission errors. You can use a `try-except-finally` block to handle exceptions and ensure that the file is properly closed, even if an error occurs."
   ]
  },
  {
   "cell_type": "code",
   "execution_count": null,
   "metadata": {},
   "outputs": [],
   "source": [
    "try:\n",
    "    file = open(\"filename.txt\", \"r\")\n",
    "    # Perform file operations\n",
    "except FileNotFoundError:\n",
    "    print(\"File not found!\")\n",
    "except PermissionError:\n",
    "    print(\"Permission denied!\")\n",
    "finally:\n",
    "    file.close()"
   ]
  },
  {
   "attachments": {},
   "cell_type": "markdown",
   "metadata": {},
   "source": [
    "It's good practice to use the `with` statement when opening files. The `with` statement automatically takes care of closing the file, even if an exception occurs. It's a cleaner and safer way of handling file operations."
   ]
  },
  {
   "cell_type": "code",
   "execution_count": null,
   "metadata": {},
   "outputs": [],
   "source": [
    "with open(\"filename.txt\", \"r\") as file:\n",
    "    # Perform file operations"
   ]
  },
  {
   "attachments": {},
   "cell_type": "markdown",
   "metadata": {},
   "source": [
    "### Conclusion\n",
    "\n",
    "File manipulation in Python involves opening, reading from, writing to, and closing files. Python provides functions and methods to handle these operations conveniently. By understanding and applying these file manipulation techniques, you can effectively work with files and handle different scenarios in your Python programs."
   ]
  }
 ],
 "metadata": {
  "kernelspec": {
   "display_name": "Python 3",
   "language": "python",
   "name": "python3"
  },
  "language_info": {
   "codemirror_mode": {
    "name": "ipython",
    "version": 3
   },
   "file_extension": ".py",
   "mimetype": "text/x-python",
   "name": "python",
   "nbconvert_exporter": "python",
   "pygments_lexer": "ipython3",
   "version": "3.10.6"
  },
  "orig_nbformat": 4
 },
 "nbformat": 4,
 "nbformat_minor": 2
}
